{
 "cells": [
  {
   "cell_type": "code",
   "execution_count": null,
   "id": "f986ac8b",
   "metadata": {},
   "outputs": [],
   "source": [
    "import numpy as np\n",
    "import pandas as pd\n",
    "from sklearn.metrics.pairwise import cosine_similarity\n",
    "import networkx as nx\n",
    "from scipy.stats import norm\n",
    "import seaborn as sns\n",
    "import matplotlib.pyplot as plt"
   ]
  },
  {
   "cell_type": "code",
   "execution_count": null,
   "id": "c2d7f6b5",
   "metadata": {},
   "outputs": [],
   "source": [
    "# Load embeddings file\n",
    "\n",
    "# input the path to your saved embeddings\n",
    "path = '/Users/ellenbowen/Desktop/Michigan/Siwo_lab/'\n",
    "file = str(path) + 'phecode_gpt_embedding.pkl'\n",
    "\n",
    "embeddings_df = pd.read_pickle(file)"
   ]
  },
  {
   "cell_type": "code",
   "execution_count": null,
   "id": "5160dc56",
   "metadata": {},
   "outputs": [],
   "source": [
    "embeddings_df"
   ]
  },
  {
   "cell_type": "code",
   "execution_count": null,
   "id": "da0168b9",
   "metadata": {
    "scrolled": true
   },
   "outputs": [],
   "source": [
    "import pandas as pd\n",
    "from sklearn.metrics.pairwise import cosine_similarity\n",
    "import numpy as np\n",
    "\n",
    "# Ensure embeddings are in the correct format\n",
    "def parse_embedding(embedding):\n",
    "    if isinstance(embedding, str):\n",
    "        return np.array(eval(embedding))\n",
    "    return np.array(embedding)\n",
    "\n",
    "embeddings_df['embeddings'] = embeddings_df['embeddings'].apply(parse_embedding)\n",
    "embeddings = np.vstack(embeddings_df['embeddings'].values)\n",
    "\n",
    "# Compute the cosine similarity matrix\n",
    "cosine_sim_matrix = cosine_similarity(embeddings)\n",
    "\n",
    "# Create a DataFrame for the similarity matrix with phenotype labels\n",
    "similarity_df = pd.DataFrame(cosine_sim_matrix, index=embeddings_df['phenotype'], columns=embeddings_df['phenotype'])\n",
    "\n",
    "# Save the similarity matrix to a CSV file\n",
    "#similarity_df.to_csv('similarity_matrix_with_phenotypes.csv')\n",
    "\n",
    "\n"
   ]
  },
  {
   "cell_type": "code",
   "execution_count": null,
   "id": "1c8cedc4",
   "metadata": {
    "scrolled": true
   },
   "outputs": [],
   "source": [
    "similarity_df"
   ]
  },
  {
   "cell_type": "code",
   "execution_count": null,
   "id": "884926a6",
   "metadata": {},
   "outputs": [],
   "source": [
    "# Plotting the heatmap\n",
    "plt.figure(figsize=(8, 6))\n",
    "heatmap = sns.heatmap(similarity_df, annot=True, cmap='viridis')\n",
    "plt.title('Cosine Similarity Matrix Heatmap')\n",
    "plt.show()"
   ]
  },
  {
   "cell_type": "code",
   "execution_count": null,
   "id": "f903b7e9",
   "metadata": {},
   "outputs": [],
   "source": [
    "\n",
    "def find_similar_phenotypes(df, query, top_n=5):\n",
    "    row = df.loc[query]\n",
    "\n",
    "    # Sort the values in descending order\n",
    "    sorted_row = row.sort_values(ascending=False)\n",
    "\n",
    "    # Select the top n values\n",
    "    top_values = sorted_row.head(top_n)\n",
    "    return top_values\n",
    "\n",
    "# Example usage\n",
    "query_phenotype = \"Ulcerative colitis\"\n",
    "top_n = 5\n",
    "similar_phenotypes = find_similar_phenotypes(similarity_df, query_phenotype, top_n)\n",
    "print(similar_phenotypes)"
   ]
  },
  {
   "cell_type": "code",
   "execution_count": null,
   "id": "b4e8ef90",
   "metadata": {},
   "outputs": [],
   "source": [
    "def find_similar_phenotypes(df, query, top_n=5):\n",
    "    row = df.loc[query]\n",
    "    sorted_row = row.sort_values(ascending=False)\n",
    "    top_values = sorted_row.head(top_n)\n",
    "    return top_values\n",
    "\n",
    "# Example similarity DataFrame (assuming it's already defined as similarity_df)\n",
    "# similarity_df = pd.DataFrame(...) # Define your similarity_df here\n",
    "\n",
    "# Example usage\n",
    "query_phenotype = \"Ulcerative colitis\"\n",
    "top_n = 5\n",
    "similar_phenotypes = find_similar_phenotypes(similarity_df, query_phenotype, top_n)\n",
    "\n",
    "# Extract the indices of the top similar phenotypes\n",
    "top_indices = similar_phenotypes.index\n",
    "\n",
    "# Extract the submatrix for the heatmap\n",
    "top_similarities = similarity_df.loc[top_indices, top_indices]\n",
    "\n",
    "# Create a heatmap\n",
    "plt.figure(figsize=(10, 8))\n",
    "sns.heatmap(top_similarities, annot=True, cmap='coolwarm', linewidths=.5)\n",
    "plt.title(f'Top {top_n} Similar Phenotypes to {query_phenotype}')\n",
    "plt.show()"
   ]
  },
  {
   "cell_type": "code",
   "execution_count": null,
   "id": "a17842a6",
   "metadata": {},
   "outputs": [],
   "source": []
  }
 ],
 "metadata": {
  "kernelspec": {
   "display_name": "Python 3 (ipykernel)",
   "language": "python",
   "name": "python3"
  },
  "language_info": {
   "codemirror_mode": {
    "name": "ipython",
    "version": 3
   },
   "file_extension": ".py",
   "mimetype": "text/x-python",
   "name": "python",
   "nbconvert_exporter": "python",
   "pygments_lexer": "ipython3",
   "version": "3.11.5"
  }
 },
 "nbformat": 4,
 "nbformat_minor": 5
}
