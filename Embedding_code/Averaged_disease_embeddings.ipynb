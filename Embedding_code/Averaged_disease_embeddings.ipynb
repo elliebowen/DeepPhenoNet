{
 "cells": [
  {
   "cell_type": "code",
   "execution_count": 24,
   "id": "2a10f68c",
   "metadata": {},
   "outputs": [],
   "source": [
    "import numpy as np\n",
    "import pandas as pd\n",
    "from sklearn.metrics.pairwise import cosine_similarity\n",
    "import networkx as nx\n",
    "from scipy.stats import norm\n",
    "import seaborn as sns\n",
    "import matplotlib.pyplot as plt"
   ]
  },
  {
   "cell_type": "code",
   "execution_count": 25,
   "id": "27258d16",
   "metadata": {},
   "outputs": [],
   "source": [
    "# Load embeddings file\n",
    "\n",
    "#mistral\n",
    "path_mistral = '/Users/ellenbowen/Desktop/Michigan/Siwo_lab/'\n",
    "file_mistral = str(path_mistral) + 'phecode_mistral_embedding.pkl'\n",
    "\n",
    "df_mistral = pd.read_pickle(file_mistral)\n",
    "\n",
    "# gpt\n",
    "path_gpt = '/Users/ellenbowen/Desktop/Michigan/Siwo_lab/'\n",
    "file_gpt = str(path_gpt) + 'phecode_gpt_embedding.pkl'\n",
    "\n",
    "df_gpt = pd.read_pickle(file_gpt)\n",
    "\n",
    "# voyage\n",
    "path_voyage = '/Users/ellenbowen/Desktop/Michigan/Siwo_lab/'\n",
    "file_voyage = str(path_voyage) + 'phecode_voyage_embedding.pkl'\n",
    "\n",
    "df_voyage = pd.read_pickle(file_voyage)"
   ]
  },
  {
   "cell_type": "markdown",
   "id": "014a163a",
   "metadata": {},
   "source": [
    "# Mistral average embeddings"
   ]
  },
  {
   "cell_type": "code",
   "execution_count": 26,
   "id": "86c067fc",
   "metadata": {},
   "outputs": [],
   "source": [
    "#make sure embeddings data is an array\n",
    "df_mistral['embeddings'] = df_mistral['embeddings'].apply(np.array)\n",
    "\n",
    "# Group by disease category and average the embeddings\n",
    "category_embeddings_mistral = (\n",
    "    df_mistral.groupby('category')['embeddings']\n",
    "    .apply(lambda x: np.mean(np.stack(x), axis=0))\n",
    "    .reset_index()\n",
    ")\n",
    "\n",
    "# Rename columns for clarity\n",
    "category_embeddings_mistral.columns = ['category', 'avg_embedding']\n"
   ]
  },
  {
   "cell_type": "code",
   "execution_count": 28,
   "id": "63be0656",
   "metadata": {},
   "outputs": [],
   "source": [
    "pickle_file = 'category_avg_embeddings_mistral.pkl'\n",
    "category_embeddings_mistral.to_pickle(pickle_file)"
   ]
  },
  {
   "cell_type": "code",
   "execution_count": 33,
   "id": "0c374ff1",
   "metadata": {},
   "outputs": [],
   "source": [
    "category_embeddings_mistral.to_csv(\"category_avg_embeddings_mistral.csv\", index=False)"
   ]
  },
  {
   "cell_type": "markdown",
   "id": "c9af08d4",
   "metadata": {},
   "source": [
    "# GPT averaged embeddings"
   ]
  },
  {
   "cell_type": "code",
   "execution_count": 29,
   "id": "c9a8d088",
   "metadata": {},
   "outputs": [],
   "source": [
    "#make sure embeddings data is an array\n",
    "df_gpt['embeddings'] = df_gpt['embeddings'].apply(np.array)\n",
    "\n",
    "# Group by disease category and average the embeddings\n",
    "category_embeddings_gpt = (\n",
    "    df_gpt.groupby('category')['embeddings']\n",
    "    .apply(lambda x: np.mean(np.stack(x), axis=0))\n",
    "    .reset_index()\n",
    ")\n",
    "\n",
    "# Rename columns for clarity\n",
    "category_embeddings_gpt.columns = ['category', 'avg_embedding']"
   ]
  },
  {
   "cell_type": "code",
   "execution_count": 30,
   "id": "655c3519",
   "metadata": {},
   "outputs": [],
   "source": [
    "pickle_file = 'category_avg_embeddings_gpt.pkl'\n",
    "category_embeddings_gpt.to_pickle(pickle_file)"
   ]
  },
  {
   "cell_type": "code",
   "execution_count": 34,
   "id": "61392ea5",
   "metadata": {},
   "outputs": [],
   "source": [
    "category_embeddings_gpt.to_csv(\"category_avg_embeddings_gpt.csv\", index=False)"
   ]
  },
  {
   "cell_type": "markdown",
   "id": "71732404",
   "metadata": {},
   "source": [
    "# Voyage average embeddings"
   ]
  },
  {
   "cell_type": "code",
   "execution_count": 31,
   "id": "ebe6de8e",
   "metadata": {},
   "outputs": [],
   "source": [
    "#make sure embeddings data is an array\n",
    "df_voyage['embeddings'] = df_voyage['embeddings'].apply(np.array)\n",
    "\n",
    "# Group by disease category and average the embeddings\n",
    "category_embeddings_voyage = (\n",
    "    df_voyage.groupby('category')['embeddings']\n",
    "    .apply(lambda x: np.mean(np.stack(x), axis=0))\n",
    "    .reset_index()\n",
    ")\n",
    "\n",
    "# Rename columns for clarity\n",
    "category_embeddings_voyage.columns = ['category', 'avg_embedding']"
   ]
  },
  {
   "cell_type": "code",
   "execution_count": 32,
   "id": "737bad38",
   "metadata": {},
   "outputs": [],
   "source": [
    "pickle_file = 'category_avg_embeddings_voyage.pkl'\n",
    "category_embeddings_voyage.to_pickle(pickle_file)"
   ]
  },
  {
   "cell_type": "code",
   "execution_count": 35,
   "id": "60af0b80",
   "metadata": {},
   "outputs": [],
   "source": [
    "category_embeddings_voyage.to_csv(\"category_avg_embeddings_voyage.csv\", index=False)"
   ]
  },
  {
   "cell_type": "code",
   "execution_count": null,
   "id": "101e47f8",
   "metadata": {},
   "outputs": [],
   "source": []
  }
 ],
 "metadata": {
  "kernelspec": {
   "display_name": "Python 3 (ipykernel)",
   "language": "python",
   "name": "python3"
  },
  "language_info": {
   "codemirror_mode": {
    "name": "ipython",
    "version": 3
   },
   "file_extension": ".py",
   "mimetype": "text/x-python",
   "name": "python",
   "nbconvert_exporter": "python",
   "pygments_lexer": "ipython3",
   "version": "3.11.5"
  }
 },
 "nbformat": 4,
 "nbformat_minor": 5
}
