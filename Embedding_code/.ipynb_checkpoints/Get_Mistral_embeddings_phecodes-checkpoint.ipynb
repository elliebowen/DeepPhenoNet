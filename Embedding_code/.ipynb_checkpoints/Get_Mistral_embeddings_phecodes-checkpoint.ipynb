{
 "cells": [
  {
   "cell_type": "code",
   "execution_count": 3,
   "id": "8674a8c3",
   "metadata": {},
   "outputs": [],
   "source": [
    "import pandas as pd\n",
    "import os\n",
    "from sklearn.manifold import TSNE\n",
    "from sklearn.preprocessing import StandardScaler\n",
    "import matplotlib.pyplot as plt\n",
    "from sklearn.metrics.pairwise import cosine_similarity\n",
    "import networkx as nx\n",
    "import bokeh\n",
    "import os\n",
    "import backoff\n",
    "import numpy as np\n",
    "from sklearn.cluster import KMeans\n",
    "import backoff\n",
    "import requests \n",
    "from mistralai.client import MistralClient"
   ]
  },
  {
   "cell_type": "code",
   "execution_count": 4,
   "id": "43dd102e",
   "metadata": {},
   "outputs": [
    {
     "name": "stdout",
     "output_type": "stream",
     "text": [
      "   phecode                                 phenotype phecode_exclude_range  \\\n",
      "0     8.00                      Intestinal infection            001-009.99   \n",
      "1     8.50                       Bacterial enteritis            001-009.99   \n",
      "2     8.51                         Intestinal e.coli            001-009.99   \n",
      "3     8.52  Intestinal infection due to C. difficile            001-009.99   \n",
      "4     8.60                           Viral Enteritis            001-009.99   \n",
      "\n",
      "    sex  rollup  leaf  category_number             category  \n",
      "0   NaN       1     0                1  infectious diseases  \n",
      "1  Both       1     0                1  infectious diseases  \n",
      "2  Both       1     1                1  infectious diseases  \n",
      "3  Both       1     1                1  infectious diseases  \n",
      "4  Both       1     1                1  infectious diseases  \n"
     ]
    }
   ],
   "source": [
    "# import csv with 'phenotype' descriptor column\n",
    "\n",
    "file = '/Users/ellenbowen/Desktop/Michigan/Siwo_lab/phecode_definitions1.2.csv' \n",
    "df = pd.read_csv(file)\n",
    "\n",
    "print(df.head())\n"
   ]
  },
  {
   "cell_type": "code",
   "execution_count": 11,
   "id": "a873468a",
   "metadata": {},
   "outputs": [],
   "source": [
    "# client = MistralClient(api_key=os.environ.get(\"MISTRAL_API_KEY\"))\n",
    "\n",
    "# embeddings_batch_response = client.embeddings(\n",
    "#     model=\"mistral-embed\",\n",
    "#     input=[\"Embed this sentence.\", \"As well as this one.\"],\n",
    "# )"
   ]
  },
  {
   "cell_type": "code",
   "execution_count": 10,
   "id": "aa7fdcef",
   "metadata": {},
   "outputs": [],
   "source": [
    "mistral_client = MistralClient(api_key=os.environ.get(\"MISTRAL_API_KEY\"))\n",
    "\n"
   ]
  },
  {
   "cell_type": "code",
   "execution_count": 19,
   "id": "c596238a",
   "metadata": {},
   "outputs": [],
   "source": [
    "# Embed the Phenotype Column for the First Row\n",
    "def embed_phenotype(phenotype):\n",
    "    # Get the embedding for the phenotype using Mistral AI\n",
    "    response = mistral_client.embeddings(model=\"mistral-embed\", input=[phenotype])\n",
    "    embedding = response.data[0].embedding\n",
    "    return embedding\n",
    "\n",
    "\n"
   ]
  },
  {
   "cell_type": "code",
   "execution_count": 20,
   "id": "8f50a1d4",
   "metadata": {},
   "outputs": [],
   "source": [
    "# Apply the embedding function to the first row of the phenotype column\n",
    "first_row_embedding = embed_phenotype(df.iloc[0]['phenotype'])\n",
    "\n"
   ]
  },
  {
   "cell_type": "code",
   "execution_count": 22,
   "id": "dca5c6bb",
   "metadata": {},
   "outputs": [
    {
     "name": "stdout",
     "output_type": "stream",
     "text": [
      "      phecode                                          phenotype  \\\n",
      "0        8.00                               Intestinal infection   \n",
      "1        8.50                                Bacterial enteritis   \n",
      "2        8.51                                  Intestinal e.coli   \n",
      "3        8.52           Intestinal infection due to C. difficile   \n",
      "4        8.60                                    Viral Enteritis   \n",
      "...       ...                                                ...   \n",
      "1861   994.00                                    Sepsis and SIRS   \n",
      "1862   994.10     Systemic inflammatory response syndrome (SIRS)   \n",
      "1863   994.20                                             Sepsis   \n",
      "1864   994.21                                       Septic shock   \n",
      "1865   996.00  Complications peculiar to certain specified pr...   \n",
      "\n",
      "     phecode_exclude_range   sex  rollup  leaf  category_number  \\\n",
      "0               001-009.99   NaN       1     0                1   \n",
      "1               001-009.99  Both       1     0                1   \n",
      "2               001-009.99  Both       1     1                1   \n",
      "3               001-009.99  Both       1     1                1   \n",
      "4               001-009.99  Both       1     1                1   \n",
      "...                    ...   ...     ...   ...              ...   \n",
      "1861            994-994.99   NaN       1     0               18   \n",
      "1862            994-994.99  Both       1     1               18   \n",
      "1863            994-994.99  Both       1     0               18   \n",
      "1864            994-994.99  Both       1     1               18   \n",
      "1865            996-999.99   NaN       1     0               18   \n",
      "\n",
      "                   category                                         embeddings  \n",
      "0       infectious diseases  [-0.052276611328125, 0.03253173828125, 0.04339...  \n",
      "1       infectious diseases  [-0.0306549072265625, 0.04034423828125, 0.0299...  \n",
      "2       infectious diseases  [-0.027923583984375, 0.00519561767578125, 0.03...  \n",
      "3       infectious diseases  [-0.057037353515625, 0.03045654296875, 0.02819...  \n",
      "4       infectious diseases  [-0.0260009765625, 0.0225830078125, 0.02340698...  \n",
      "...                     ...                                                ...  \n",
      "1861  injuries & poisonings  [-0.0364990234375, 0.040496826171875, 0.017440...  \n",
      "1862  injuries & poisonings  [-0.025238037109375, 0.024810791015625, 0.0251...  \n",
      "1863  injuries & poisonings  [-0.05938720703125, 0.03619384765625, 0.023345...  \n",
      "1864  injuries & poisonings  [-0.06304931640625, 0.0281219482421875, 0.0244...  \n",
      "1865  injuries & poisonings  [-0.018035888671875, 0.048583984375, 0.0432434...  \n",
      "\n",
      "[1866 rows x 9 columns]\n"
     ]
    }
   ],
   "source": [
    "# Apply the embedding function to the entire dataframe and add a new column 'embeddings'\n",
    "df['embeddings'] = df['phenotype'].apply(embed_phenotype)\n",
    "\n",
    "# Display the result\n",
    "print(df)"
   ]
  },
  {
   "cell_type": "code",
   "execution_count": 23,
   "id": "0cdeddaf",
   "metadata": {},
   "outputs": [],
   "source": [
    "# save embeddings to pkl file\n",
    "pickle_file = 'phecode_mistral_embedding.pkl'\n",
    "df.to_pickle(pickle_file)\n",
    "\n"
   ]
  },
  {
   "cell_type": "code",
   "execution_count": null,
   "id": "bae600b9",
   "metadata": {},
   "outputs": [],
   "source": []
  }
 ],
 "metadata": {
  "kernelspec": {
   "display_name": "Python 3 (ipykernel)",
   "language": "python",
   "name": "python3"
  },
  "language_info": {
   "codemirror_mode": {
    "name": "ipython",
    "version": 3
   },
   "file_extension": ".py",
   "mimetype": "text/x-python",
   "name": "python",
   "nbconvert_exporter": "python",
   "pygments_lexer": "ipython3",
   "version": "3.11.5"
  }
 },
 "nbformat": 4,
 "nbformat_minor": 5
}
