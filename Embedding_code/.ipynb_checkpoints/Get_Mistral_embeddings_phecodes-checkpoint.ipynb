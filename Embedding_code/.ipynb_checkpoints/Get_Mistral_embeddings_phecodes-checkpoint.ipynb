{
 "cells": [
  {
   "cell_type": "code",
   "execution_count": 3,
   "id": "8674a8c3",
   "metadata": {},
   "outputs": [],
   "source": [
    "import pandas as pd\n",
    "import os\n",
    "from sklearn.manifold import TSNE\n",
    "from sklearn.preprocessing import StandardScaler\n",
    "import matplotlib.pyplot as plt\n",
    "from sklearn.metrics.pairwise import cosine_similarity\n",
    "import networkx as nx\n",
    "import bokeh\n",
    "import os\n",
    "import backoff\n",
    "import numpy as np\n",
    "from sklearn.cluster import KMeans\n",
    "import backoff\n",
    "import requests \n",
    "from mistralai.client import MistralClient"
   ]
  },
  {
   "cell_type": "code",
   "execution_count": 4,
   "id": "43dd102e",
   "metadata": {},
   "outputs": [
    {
     "name": "stdout",
     "output_type": "stream",
     "text": [
      "   phecode                                 phenotype phecode_exclude_range  \\\n",
      "0     8.00                      Intestinal infection            001-009.99   \n",
      "1     8.50                       Bacterial enteritis            001-009.99   \n",
      "2     8.51                         Intestinal e.coli            001-009.99   \n",
      "3     8.52  Intestinal infection due to C. difficile            001-009.99   \n",
      "4     8.60                           Viral Enteritis            001-009.99   \n",
      "\n",
      "    sex  rollup  leaf  category_number             category  \n",
      "0   NaN       1     0                1  infectious diseases  \n",
      "1  Both       1     0                1  infectious diseases  \n",
      "2  Both       1     1                1  infectious diseases  \n",
      "3  Both       1     1                1  infectious diseases  \n",
      "4  Both       1     1                1  infectious diseases  \n"
     ]
    }
   ],
   "source": [
    "# import csv with 'phenotype' descriptor column\n",
    "\n",
    "file = '/Users/ellenbowen/Desktop/Michigan/Siwo_lab/phecode_definitions1.2.csv' \n",
    "df = pd.read_csv(file)\n",
    "\n",
    "print(df.head())\n"
   ]
  },
  {
   "cell_type": "code",
   "execution_count": 11,
   "id": "a873468a",
   "metadata": {},
   "outputs": [],
   "source": [
    "# client = MistralClient(api_key=os.environ.get(\"MISTRAL_API_KEY\"))\n",
    "\n",
    "# embeddings_batch_response = client.embeddings(\n",
    "#     model=\"mistral-embed\",\n",
    "#     input=[\"Embed this sentence.\", \"As well as this one.\"],\n",
    "# )"
   ]
  },
  {
   "cell_type": "code",
   "execution_count": 10,
   "id": "17c41ca6",
   "metadata": {},
   "outputs": [],
   "source": [
    "mistral_client = MistralClient(api_key=os.environ.get(\"MISTRAL_API_KEY\"))\n",
    "\n"
   ]
  },
  {
   "cell_type": "code",
   "execution_count": 19,
   "id": "c596238a",
   "metadata": {},
   "outputs": [],
   "source": [
    "# Embed the Phenotype Column for the First Row\n",
    "def embed_phenotype(phenotype):\n",
    "    # Get the embedding for the phenotype using Mistral AI\n",
    "    response = mistral_client.embeddings(model=\"mistral-embed\", input=[phenotype])\n",
    "    embedding = response.data[0].embedding\n",
    "    return embedding\n",
    "\n",
    "\n"
   ]
  },
  {
   "cell_type": "code",
   "execution_count": 20,
   "id": "8f50a1d4",
   "metadata": {},
   "outputs": [],
   "source": [
    "# Apply the embedding function to the first row of the phenotype column\n",
    "first_row_embedding = embed_phenotype(df.iloc[0]['phenotype'])\n",
    "\n"
   ]
  },
  {
   "cell_type": "code",
   "execution_count": null,
   "id": "3ca3e5fb",
   "metadata": {},
   "outputs": [],
   "source": [
    "# Apply the embedding function to the entire dataframe and add a new column 'embeddings'\n",
    "df['embeddings'] = df['phenotype'].apply(embed_phenotype)\n",
    "\n",
    "# Display the result\n",
    "print(df)"
   ]
  },
  {
   "cell_type": "code",
   "execution_count": null,
   "id": "80cb1a4c",
   "metadata": {},
   "outputs": [],
   "source": [
    "# save embeddings to pkl file\n",
    "pickle_file = 'phecode_mistral_embedding.pkl'\n",
    "df.to_pickle(pickle_file)\n",
    "\n"
   ]
  },
  {
   "cell_type": "code",
   "execution_count": null,
   "id": "5474644a",
   "metadata": {},
   "outputs": [],
   "source": []
  }
 ],
 "metadata": {
  "kernelspec": {
   "display_name": "Python 3 (ipykernel)",
   "language": "python",
   "name": "python3"
  },
  "language_info": {
   "codemirror_mode": {
    "name": "ipython",
    "version": 3
   },
   "file_extension": ".py",
   "mimetype": "text/x-python",
   "name": "python",
   "nbconvert_exporter": "python",
   "pygments_lexer": "ipython3",
   "version": "3.11.5"
  }
 },
 "nbformat": 4,
 "nbformat_minor": 5
}
