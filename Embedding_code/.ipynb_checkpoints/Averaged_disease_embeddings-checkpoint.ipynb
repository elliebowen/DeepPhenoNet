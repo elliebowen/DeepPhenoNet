{
 "cells": [
  {
   "cell_type": "code",
   "execution_count": 1,
   "id": "2a10f68c",
   "metadata": {},
   "outputs": [],
   "source": [
    "import json\n",
    "import numpy as np\n",
    "import pandas as pd\n",
    "from sklearn.metrics.pairwise import cosine_similarity\n",
    "import networkx as nx\n",
    "from scipy.stats import norm\n",
    "import seaborn as sns\n",
    "import matplotlib.pyplot as plt\n",
    "import openpyxl"
   ]
  },
  {
   "cell_type": "code",
   "execution_count": 2,
   "id": "27258d16",
   "metadata": {},
   "outputs": [],
   "source": [
    "# Load embeddings file\n",
    "\n",
    "#mistral\n",
    "path_mistral = '/Users/ellenbowen/Desktop/Michigan/Siwo_lab/'\n",
    "file_mistral = str(path_mistral) + 'phecode_mistral_embedding.pkl'\n",
    "\n",
    "df_mistral = pd.read_pickle(file_mistral)\n",
    "\n",
    "# gpt\n",
    "path_gpt = '/Users/ellenbowen/Desktop/Michigan/Siwo_lab/'\n",
    "file_gpt = str(path_gpt) + 'phecode_gpt_embedding.pkl'\n",
    "\n",
    "df_gpt = pd.read_pickle(file_gpt)\n",
    "\n",
    "# voyage\n",
    "path_voyage = '/Users/ellenbowen/Desktop/Michigan/Siwo_lab/'\n",
    "file_voyage = str(path_voyage) + 'phecode_voyage_embedding.pkl'\n",
    "\n",
    "df_voyage = pd.read_pickle(file_voyage)"
   ]
  },
  {
   "cell_type": "code",
   "execution_count": 9,
   "id": "fffb8e3d",
   "metadata": {},
   "outputs": [
    {
     "data": {
      "text/plain": [
       "array(['infectious diseases', nan, 'neoplasms', 'endocrine/metabolic',\n",
       "       'hematopoietic', 'mental disorders', 'neurological',\n",
       "       'sense organs', 'circulatory system', 'respiratory', 'digestive',\n",
       "       'genitourinary', 'pregnancy complications', 'dermatologic',\n",
       "       'musculoskeletal', 'congenital anomalies', 'symptoms',\n",
       "       'injuries & poisonings'], dtype=object)"
      ]
     },
     "execution_count": 9,
     "metadata": {},
     "output_type": "execute_result"
    }
   ],
   "source": [
    "df_gpt['category'].unique()"
   ]
  },
  {
   "cell_type": "code",
   "execution_count": 5,
   "id": "b4b6a166",
   "metadata": {},
   "outputs": [
    {
     "data": {
      "text/plain": [
       "array(['infectious diseases', nan, 'neoplasms', 'endocrine/metabolic',\n",
       "       'hematopoietic', 'mental disorders', 'neurological',\n",
       "       'sense organs', 'circulatory system', 'respiratory', 'digestive',\n",
       "       'genitourinary', 'pregnancy complications', 'dermatologic',\n",
       "       'musculoskeletal', 'congenital anomalies', 'symptoms',\n",
       "       'injuries & poisonings'], dtype=object)"
      ]
     },
     "execution_count": 5,
     "metadata": {},
     "output_type": "execute_result"
    }
   ],
   "source": [
    "df_voyage['category'].unique()"
   ]
  },
  {
   "cell_type": "markdown",
   "id": "4c93f00f",
   "metadata": {},
   "source": [
    "# Mistral average embeddings"
   ]
  },
  {
   "cell_type": "code",
   "execution_count": 3,
   "id": "af74e233",
   "metadata": {},
   "outputs": [],
   "source": [
    "#make sure embeddings data is an array\n",
    "df_mistral['embeddings'] = df_mistral['embeddings'].apply(np.array)\n",
    "\n",
    "# Group by disease category and average the embeddings\n",
    "category_embeddings_mistral = (\n",
    "    df_mistral.groupby('category')['embeddings']\n",
    "    .apply(lambda x: np.mean(np.stack(x), axis=0))\n",
    "    .reset_index()\n",
    ")\n",
    "\n",
    "# Rename columns for clarity\n",
    "category_embeddings_mistral.columns = ['category', 'avg_embedding']\n"
   ]
  },
  {
   "cell_type": "code",
   "execution_count": 28,
   "id": "2f49a283",
   "metadata": {},
   "outputs": [],
   "source": [
    "pickle_file = 'category_avg_embeddings_mistral.pkl'\n",
    "category_embeddings_mistral.to_pickle(pickle_file)"
   ]
  },
  {
   "cell_type": "code",
   "execution_count": 54,
   "id": "56fdb992",
   "metadata": {},
   "outputs": [],
   "source": [
    "# category_embeddings_mistral['avg_embedding'] = category_embeddings_mistral['avg_embedding'].apply(lambda x: json.dumps(x.tolist()))\n",
    "# category_embeddings_mistral.to_csv('category_avg_embeddings_mistral.csv', index=False)\n"
   ]
  },
  {
   "cell_type": "markdown",
   "id": "e6816a68",
   "metadata": {},
   "source": [
    "# GPT averaged embeddings"
   ]
  },
  {
   "cell_type": "code",
   "execution_count": 4,
   "id": "83493959",
   "metadata": {},
   "outputs": [],
   "source": [
    "#make sure embeddings data is an array\n",
    "df_gpt['embeddings'] = df_gpt['embeddings'].apply(np.array)\n",
    "\n",
    "# Group by disease category and average the embeddings\n",
    "category_embeddings_gpt = (\n",
    "    df_gpt.groupby('category')['embeddings']\n",
    "    .apply(lambda x: np.mean(np.stack(x), axis=0))\n",
    "    .reset_index()\n",
    ")\n",
    "\n",
    "# Rename columns for clarity\n",
    "category_embeddings_gpt.columns = ['category', 'avg_embedding']"
   ]
  },
  {
   "cell_type": "code",
   "execution_count": 30,
   "id": "eb25ac25",
   "metadata": {},
   "outputs": [],
   "source": [
    "pickle_file = 'category_avg_embeddings_gpt.pkl'\n",
    "category_embeddings_gpt.to_pickle(pickle_file)"
   ]
  },
  {
   "cell_type": "code",
   "execution_count": 8,
   "id": "88a4b780",
   "metadata": {},
   "outputs": [],
   "source": [
    "# Convert each embedding array to a long string with high precision\n",
    "category_embeddings_gpt['avg_embedding'] = category_embeddings_gpt['avg_embedding'].apply(\n",
    "    lambda x: \"[\" + \", \".join(f\"{v:.10f}\" for v in x) + \"]\"\n",
    ")\n",
    "\n",
    "# Export to Excel\n",
    "category_embeddings_gpt.to_excel(\"category_avg_embeddings_gpt_full.xlsx\", index=False)\n"
   ]
  },
  {
   "cell_type": "code",
   "execution_count": 11,
   "id": "3c714a13",
   "metadata": {},
   "outputs": [
    {
     "data": {
      "text/html": [
       "<div>\n",
       "<style scoped>\n",
       "    .dataframe tbody tr th:only-of-type {\n",
       "        vertical-align: middle;\n",
       "    }\n",
       "\n",
       "    .dataframe tbody tr th {\n",
       "        vertical-align: top;\n",
       "    }\n",
       "\n",
       "    .dataframe thead th {\n",
       "        text-align: right;\n",
       "    }\n",
       "</style>\n",
       "<table border=\"1\" class=\"dataframe\">\n",
       "  <thead>\n",
       "    <tr style=\"text-align: right;\">\n",
       "      <th></th>\n",
       "      <th>category</th>\n",
       "      <th>avg_embedding</th>\n",
       "    </tr>\n",
       "  </thead>\n",
       "  <tbody>\n",
       "    <tr>\n",
       "      <th>0</th>\n",
       "      <td>circulatory system</td>\n",
       "      <td>[-0.02259593942670658, 0.0026998810491593674, ...</td>\n",
       "    </tr>\n",
       "    <tr>\n",
       "      <th>1</th>\n",
       "      <td>congenital anomalies</td>\n",
       "      <td>[-0.0012482956766949169, 0.01212603372096055, ...</td>\n",
       "    </tr>\n",
       "    <tr>\n",
       "      <th>2</th>\n",
       "      <td>dermatologic</td>\n",
       "      <td>[-0.003326331262845391, 0.005034657234773476, ...</td>\n",
       "    </tr>\n",
       "    <tr>\n",
       "      <th>3</th>\n",
       "      <td>digestive</td>\n",
       "      <td>[-0.0033964011176812418, 0.005431490945837535,...</td>\n",
       "    </tr>\n",
       "    <tr>\n",
       "      <th>4</th>\n",
       "      <td>endocrine/metabolic</td>\n",
       "      <td>[-0.01079635200606998, -0.004346215406408811, ...</td>\n",
       "    </tr>\n",
       "    <tr>\n",
       "      <th>5</th>\n",
       "      <td>genitourinary</td>\n",
       "      <td>[-0.010222831910442827, -0.003920748559030471,...</td>\n",
       "    </tr>\n",
       "    <tr>\n",
       "      <th>6</th>\n",
       "      <td>hematopoietic</td>\n",
       "      <td>[-0.017526577019335462, -0.010456552888846941,...</td>\n",
       "    </tr>\n",
       "    <tr>\n",
       "      <th>7</th>\n",
       "      <td>infectious diseases</td>\n",
       "      <td>[-0.0046266999373641, -0.0050466424931126285, ...</td>\n",
       "    </tr>\n",
       "    <tr>\n",
       "      <th>8</th>\n",
       "      <td>injuries &amp; poisonings</td>\n",
       "      <td>[-0.004829939856165311, 0.00014071109535507276...</td>\n",
       "    </tr>\n",
       "    <tr>\n",
       "      <th>9</th>\n",
       "      <td>mental disorders</td>\n",
       "      <td>[-0.012789647945618, 0.006035329067871268, 0.0...</td>\n",
       "    </tr>\n",
       "    <tr>\n",
       "      <th>10</th>\n",
       "      <td>musculoskeletal</td>\n",
       "      <td>[-0.006318552918497572, 0.0013464857251109966,...</td>\n",
       "    </tr>\n",
       "    <tr>\n",
       "      <th>11</th>\n",
       "      <td>neoplasms</td>\n",
       "      <td>[-0.007391633184755498, -0.006097476582966764,...</td>\n",
       "    </tr>\n",
       "    <tr>\n",
       "      <th>12</th>\n",
       "      <td>neurological</td>\n",
       "      <td>[-0.008128092217991842, 0.007405998541734709, ...</td>\n",
       "    </tr>\n",
       "    <tr>\n",
       "      <th>13</th>\n",
       "      <td>pregnancy complications</td>\n",
       "      <td>[-0.009431180080543432, -0.0019629288583708896...</td>\n",
       "    </tr>\n",
       "    <tr>\n",
       "      <th>14</th>\n",
       "      <td>respiratory</td>\n",
       "      <td>[-0.008153350068502785, 0.005578764820786412, ...</td>\n",
       "    </tr>\n",
       "    <tr>\n",
       "      <th>15</th>\n",
       "      <td>sense organs</td>\n",
       "      <td>[-0.002248058909572137, 0.00676871923701583, 0...</td>\n",
       "    </tr>\n",
       "    <tr>\n",
       "      <th>16</th>\n",
       "      <td>symptoms</td>\n",
       "      <td>[-0.014074687983375044, -0.00473333916044794, ...</td>\n",
       "    </tr>\n",
       "  </tbody>\n",
       "</table>\n",
       "</div>"
      ],
      "text/plain": [
       "                   category                                      avg_embedding\n",
       "0        circulatory system  [-0.02259593942670658, 0.0026998810491593674, ...\n",
       "1      congenital anomalies  [-0.0012482956766949169, 0.01212603372096055, ...\n",
       "2              dermatologic  [-0.003326331262845391, 0.005034657234773476, ...\n",
       "3                 digestive  [-0.0033964011176812418, 0.005431490945837535,...\n",
       "4       endocrine/metabolic  [-0.01079635200606998, -0.004346215406408811, ...\n",
       "5             genitourinary  [-0.010222831910442827, -0.003920748559030471,...\n",
       "6             hematopoietic  [-0.017526577019335462, -0.010456552888846941,...\n",
       "7       infectious diseases  [-0.0046266999373641, -0.0050466424931126285, ...\n",
       "8     injuries & poisonings  [-0.004829939856165311, 0.00014071109535507276...\n",
       "9          mental disorders  [-0.012789647945618, 0.006035329067871268, 0.0...\n",
       "10          musculoskeletal  [-0.006318552918497572, 0.0013464857251109966,...\n",
       "11                neoplasms  [-0.007391633184755498, -0.006097476582966764,...\n",
       "12             neurological  [-0.008128092217991842, 0.007405998541734709, ...\n",
       "13  pregnancy complications  [-0.009431180080543432, -0.0019629288583708896...\n",
       "14              respiratory  [-0.008153350068502785, 0.005578764820786412, ...\n",
       "15             sense organs  [-0.002248058909572137, 0.00676871923701583, 0...\n",
       "16                 symptoms  [-0.014074687983375044, -0.00473333916044794, ..."
      ]
     },
     "execution_count": 11,
     "metadata": {},
     "output_type": "execute_result"
    }
   ],
   "source": [
    "category_embeddings_gpt"
   ]
  },
  {
   "cell_type": "markdown",
   "id": "b2979f4a",
   "metadata": {},
   "source": [
    "# Voyage average embeddings"
   ]
  },
  {
   "cell_type": "code",
   "execution_count": 57,
   "id": "1d84c84c",
   "metadata": {},
   "outputs": [],
   "source": [
    "#make sure embeddings data is an array\n",
    "df_voyage['embeddings'] = df_voyage['embeddings'].apply(np.array)\n",
    "\n",
    "# Group by disease category and average the embeddings\n",
    "category_embeddings_voyage = (\n",
    "    df_voyage.groupby('category')['embeddings']\n",
    "    .apply(lambda x: np.mean(np.stack(x), axis=0))\n",
    "    .reset_index()\n",
    ")\n",
    "\n",
    "# Rename columns for clarity\n",
    "category_embeddings_voyage.columns = ['category', 'avg_embedding']"
   ]
  },
  {
   "cell_type": "code",
   "execution_count": 32,
   "id": "92301953",
   "metadata": {},
   "outputs": [],
   "source": [
    "pickle_file = 'category_avg_embeddings_voyage.pkl'\n",
    "category_embeddings_voyage.to_pickle(pickle_file)"
   ]
  },
  {
   "cell_type": "code",
   "execution_count": 58,
   "id": "59d19bda",
   "metadata": {},
   "outputs": [],
   "source": [
    "category_embeddings_voyage['avg_embedding'] = category_embeddings_voyage['avg_embedding'].apply(lambda x: json.dumps(x.tolist()))\n",
    "category_embeddings_voyage.to_csv('category_avg_embeddings_voyage.csv', index=False)\n"
   ]
  },
  {
   "cell_type": "code",
   "execution_count": null,
   "id": "cad22576",
   "metadata": {},
   "outputs": [],
   "source": []
  }
 ],
 "metadata": {
  "kernelspec": {
   "display_name": "Python 3 (ipykernel)",
   "language": "python",
   "name": "python3"
  },
  "language_info": {
   "codemirror_mode": {
    "name": "ipython",
    "version": 3
   },
   "file_extension": ".py",
   "mimetype": "text/x-python",
   "name": "python",
   "nbconvert_exporter": "python",
   "pygments_lexer": "ipython3",
   "version": "3.11.5"
  }
 },
 "nbformat": 4,
 "nbformat_minor": 5
}
