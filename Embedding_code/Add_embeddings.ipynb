{
 "cells": [
  {
   "cell_type": "code",
   "execution_count": null,
   "id": "f643de4f",
   "metadata": {},
   "outputs": [],
   "source": [
    "import pandas as pd\n",
    "import os\n",
    "from sklearn.manifold import TSNE\n",
    "from sklearn.preprocessing import StandardScaler\n",
    "import matplotlib.pyplot as plt\n",
    "from sklearn.metrics.pairwise import cosine_similarity\n",
    "import networkx as nx\n",
    "import bokeh\n",
    "import os\n",
    "import backoff\n",
    "import numpy as np\n",
    "from sklearn.cluster import KMeans\n",
    "import backoff\n",
    "import requests \n",
    "from mistralai.client import MistralClient"
   ]
  },
  {
   "cell_type": "code",
   "execution_count": null,
   "id": "4c0e6f24",
   "metadata": {},
   "outputs": [],
   "source": [
    "\"Batten disease\"\n",
    "\"Splice switching antisense oligonucleotides targeting CLN3\""
   ]
  },
  {
   "cell_type": "code",
   "execution_count": null,
   "id": "d557f93c",
   "metadata": {},
   "outputs": [],
   "source": [
    "mistral_client = MistralClient(api_key=os.environ.get(\"MISTRAL_API_KEY\"))\n",
    "\n",
    "# Embed the Phenotype Column for the First Row\n",
    "def embed_phenotype(phenotype):\n",
    "    # Get the embedding for the phenotype using Mistral AI\n",
    "    response = mistral_client.embeddings(model=\"mistral-embed\", input=[phenotype])\n",
    "    embedding = response.data[0].embedding\n",
    "    return embedding"
   ]
  }
 ],
 "metadata": {
  "kernelspec": {
   "display_name": "Python 3 (ipykernel)",
   "language": "python",
   "name": "python3"
  },
  "language_info": {
   "codemirror_mode": {
    "name": "ipython",
    "version": 3
   },
   "file_extension": ".py",
   "mimetype": "text/x-python",
   "name": "python",
   "nbconvert_exporter": "python",
   "pygments_lexer": "ipython3",
   "version": "3.11.5"
  }
 },
 "nbformat": 4,
 "nbformat_minor": 5
}
