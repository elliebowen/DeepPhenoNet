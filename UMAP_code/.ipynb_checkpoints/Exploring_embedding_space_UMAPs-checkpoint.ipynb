{
 "cells": [
  {
   "cell_type": "code",
   "execution_count": 1,
   "id": "ebb05e05",
   "metadata": {},
   "outputs": [],
   "source": [
    "import pandas as pd\n",
    "import os\n",
    "import numpy as np\n",
    "import umap\n",
    "import matplotlib.pyplot as plt\n",
    "import seaborn as sns"
   ]
  },
  {
   "cell_type": "code",
   "execution_count": 2,
   "id": "2c0d5890",
   "metadata": {},
   "outputs": [],
   "source": [
    "# Load embeddings file\n",
    "\n",
    "# input the path to your saved embeddings\n",
    "path = '/Users/ellenbowen/Desktop/Michigan/Siwo_lab/'\n",
    "file = str(path) + 'phecode_gpt_embedding.pkl'\n",
    "\n",
    "df = pd.read_pickle(file)"
   ]
  },
  {
   "cell_type": "code",
   "execution_count": 3,
   "id": "303d9688",
   "metadata": {},
   "outputs": [],
   "source": [
    "# Ensure df is the cleaned version without NaN in 'category'\n",
    "df_cleaned = df.dropna(subset=['category'])\n",
    "unique_categories = df_cleaned['category'].unique()\n",
    "categories = unique_categories"
   ]
  },
  {
   "cell_type": "code",
   "execution_count": 4,
   "id": "c550f7aa",
   "metadata": {},
   "outputs": [
    {
     "data": {
      "text/html": [
       "<div>\n",
       "<style scoped>\n",
       "    .dataframe tbody tr th:only-of-type {\n",
       "        vertical-align: middle;\n",
       "    }\n",
       "\n",
       "    .dataframe tbody tr th {\n",
       "        vertical-align: top;\n",
       "    }\n",
       "\n",
       "    .dataframe thead th {\n",
       "        text-align: right;\n",
       "    }\n",
       "</style>\n",
       "<table border=\"1\" class=\"dataframe\">\n",
       "  <thead>\n",
       "    <tr style=\"text-align: right;\">\n",
       "      <th></th>\n",
       "      <th>phecode</th>\n",
       "      <th>phenotype</th>\n",
       "      <th>phecode_exclude_range</th>\n",
       "      <th>sex</th>\n",
       "      <th>rollup</th>\n",
       "      <th>leaf</th>\n",
       "      <th>category_number</th>\n",
       "      <th>category</th>\n",
       "      <th>embeddings</th>\n",
       "    </tr>\n",
       "  </thead>\n",
       "  <tbody>\n",
       "    <tr>\n",
       "      <th>0</th>\n",
       "      <td>8.00</td>\n",
       "      <td>Intestinal infection</td>\n",
       "      <td>001-009.99</td>\n",
       "      <td>NaN</td>\n",
       "      <td>1</td>\n",
       "      <td>0</td>\n",
       "      <td>1</td>\n",
       "      <td>infectious diseases</td>\n",
       "      <td>[0.0068802302703261375, 0.0005461262771859765,...</td>\n",
       "    </tr>\n",
       "    <tr>\n",
       "      <th>1</th>\n",
       "      <td>8.50</td>\n",
       "      <td>Bacterial enteritis</td>\n",
       "      <td>001-009.99</td>\n",
       "      <td>Both</td>\n",
       "      <td>1</td>\n",
       "      <td>0</td>\n",
       "      <td>1</td>\n",
       "      <td>infectious diseases</td>\n",
       "      <td>[-0.010700925253331661, 1.566567698318977e-05,...</td>\n",
       "    </tr>\n",
       "    <tr>\n",
       "      <th>2</th>\n",
       "      <td>8.51</td>\n",
       "      <td>Intestinal e.coli</td>\n",
       "      <td>001-009.99</td>\n",
       "      <td>Both</td>\n",
       "      <td>1</td>\n",
       "      <td>1</td>\n",
       "      <td>1</td>\n",
       "      <td>infectious diseases</td>\n",
       "      <td>[0.01900758408010006, -0.0076250554993748665, ...</td>\n",
       "    </tr>\n",
       "    <tr>\n",
       "      <th>3</th>\n",
       "      <td>8.52</td>\n",
       "      <td>Intestinal infection due to C. difficile</td>\n",
       "      <td>001-009.99</td>\n",
       "      <td>Both</td>\n",
       "      <td>1</td>\n",
       "      <td>1</td>\n",
       "      <td>1</td>\n",
       "      <td>infectious diseases</td>\n",
       "      <td>[0.013732682913541794, -0.013513063080608845, ...</td>\n",
       "    </tr>\n",
       "    <tr>\n",
       "      <th>4</th>\n",
       "      <td>8.60</td>\n",
       "      <td>Viral Enteritis</td>\n",
       "      <td>001-009.99</td>\n",
       "      <td>Both</td>\n",
       "      <td>1</td>\n",
       "      <td>1</td>\n",
       "      <td>1</td>\n",
       "      <td>infectious diseases</td>\n",
       "      <td>[-0.01282576099038124, -0.0019294519443064928,...</td>\n",
       "    </tr>\n",
       "    <tr>\n",
       "      <th>...</th>\n",
       "      <td>...</td>\n",
       "      <td>...</td>\n",
       "      <td>...</td>\n",
       "      <td>...</td>\n",
       "      <td>...</td>\n",
       "      <td>...</td>\n",
       "      <td>...</td>\n",
       "      <td>...</td>\n",
       "      <td>...</td>\n",
       "    </tr>\n",
       "    <tr>\n",
       "      <th>1861</th>\n",
       "      <td>994.00</td>\n",
       "      <td>Sepsis and SIRS</td>\n",
       "      <td>994-994.99</td>\n",
       "      <td>NaN</td>\n",
       "      <td>1</td>\n",
       "      <td>0</td>\n",
       "      <td>18</td>\n",
       "      <td>injuries &amp; poisonings</td>\n",
       "      <td>[-0.009411283768713474, -0.011322950012981892,...</td>\n",
       "    </tr>\n",
       "    <tr>\n",
       "      <th>1862</th>\n",
       "      <td>994.10</td>\n",
       "      <td>Systemic inflammatory response syndrome (SIRS)</td>\n",
       "      <td>994-994.99</td>\n",
       "      <td>Both</td>\n",
       "      <td>1</td>\n",
       "      <td>1</td>\n",
       "      <td>18</td>\n",
       "      <td>injuries &amp; poisonings</td>\n",
       "      <td>[-0.036918796598911285, -0.012674717232584953,...</td>\n",
       "    </tr>\n",
       "    <tr>\n",
       "      <th>1863</th>\n",
       "      <td>994.20</td>\n",
       "      <td>Sepsis</td>\n",
       "      <td>994-994.99</td>\n",
       "      <td>Both</td>\n",
       "      <td>1</td>\n",
       "      <td>0</td>\n",
       "      <td>18</td>\n",
       "      <td>injuries &amp; poisonings</td>\n",
       "      <td>[0.004166525788605213, -0.005852119065821171, ...</td>\n",
       "    </tr>\n",
       "    <tr>\n",
       "      <th>1864</th>\n",
       "      <td>994.21</td>\n",
       "      <td>Septic shock</td>\n",
       "      <td>994-994.99</td>\n",
       "      <td>Both</td>\n",
       "      <td>1</td>\n",
       "      <td>1</td>\n",
       "      <td>18</td>\n",
       "      <td>injuries &amp; poisonings</td>\n",
       "      <td>[-0.012952380813658237, 0.0007000957266427577,...</td>\n",
       "    </tr>\n",
       "    <tr>\n",
       "      <th>1865</th>\n",
       "      <td>996.00</td>\n",
       "      <td>Complications peculiar to certain specified pr...</td>\n",
       "      <td>996-999.99</td>\n",
       "      <td>NaN</td>\n",
       "      <td>1</td>\n",
       "      <td>0</td>\n",
       "      <td>18</td>\n",
       "      <td>injuries &amp; poisonings</td>\n",
       "      <td>[-0.00911512691527605, 0.00773080438375473, 0....</td>\n",
       "    </tr>\n",
       "  </tbody>\n",
       "</table>\n",
       "<p>1866 rows × 9 columns</p>\n",
       "</div>"
      ],
      "text/plain": [
       "      phecode                                          phenotype  \\\n",
       "0        8.00                               Intestinal infection   \n",
       "1        8.50                                Bacterial enteritis   \n",
       "2        8.51                                  Intestinal e.coli   \n",
       "3        8.52           Intestinal infection due to C. difficile   \n",
       "4        8.60                                    Viral Enteritis   \n",
       "...       ...                                                ...   \n",
       "1861   994.00                                    Sepsis and SIRS   \n",
       "1862   994.10     Systemic inflammatory response syndrome (SIRS)   \n",
       "1863   994.20                                             Sepsis   \n",
       "1864   994.21                                       Septic shock   \n",
       "1865   996.00  Complications peculiar to certain specified pr...   \n",
       "\n",
       "     phecode_exclude_range   sex  rollup  leaf  category_number  \\\n",
       "0               001-009.99   NaN       1     0                1   \n",
       "1               001-009.99  Both       1     0                1   \n",
       "2               001-009.99  Both       1     1                1   \n",
       "3               001-009.99  Both       1     1                1   \n",
       "4               001-009.99  Both       1     1                1   \n",
       "...                    ...   ...     ...   ...              ...   \n",
       "1861            994-994.99   NaN       1     0               18   \n",
       "1862            994-994.99  Both       1     1               18   \n",
       "1863            994-994.99  Both       1     0               18   \n",
       "1864            994-994.99  Both       1     1               18   \n",
       "1865            996-999.99   NaN       1     0               18   \n",
       "\n",
       "                   category                                         embeddings  \n",
       "0       infectious diseases  [0.0068802302703261375, 0.0005461262771859765,...  \n",
       "1       infectious diseases  [-0.010700925253331661, 1.566567698318977e-05,...  \n",
       "2       infectious diseases  [0.01900758408010006, -0.0076250554993748665, ...  \n",
       "3       infectious diseases  [0.013732682913541794, -0.013513063080608845, ...  \n",
       "4       infectious diseases  [-0.01282576099038124, -0.0019294519443064928,...  \n",
       "...                     ...                                                ...  \n",
       "1861  injuries & poisonings  [-0.009411283768713474, -0.011322950012981892,...  \n",
       "1862  injuries & poisonings  [-0.036918796598911285, -0.012674717232584953,...  \n",
       "1863  injuries & poisonings  [0.004166525788605213, -0.005852119065821171, ...  \n",
       "1864  injuries & poisonings  [-0.012952380813658237, 0.0007000957266427577,...  \n",
       "1865  injuries & poisonings  [-0.00911512691527605, 0.00773080438375473, 0....  \n",
       "\n",
       "[1866 rows x 9 columns]"
      ]
     },
     "execution_count": 4,
     "metadata": {},
     "output_type": "execute_result"
    }
   ],
   "source": [
    "df"
   ]
  },
  {
   "cell_type": "code",
   "execution_count": 5,
   "id": "cffa2ff4",
   "metadata": {},
   "outputs": [
    {
     "data": {
      "text/plain": [
       "array([[ 6.88023027e-03,  5.46126277e-04,  1.82447825e-02, ...,\n",
       "        -3.36964726e-02, -1.35426512e-02, -7.85396900e-03],\n",
       "       [-1.07009253e-02,  1.56656770e-05,  9.50688589e-03, ...,\n",
       "        -3.81054170e-02, -3.87738179e-03, -2.28424836e-02],\n",
       "       [ 1.90075841e-02, -7.62505550e-03,  6.57213712e-03, ...,\n",
       "        -2.29302198e-02, -1.26694283e-02, -1.77550931e-02],\n",
       "       ...,\n",
       "       [ 4.16652579e-03, -5.85211907e-03,  9.43277869e-03, ...,\n",
       "        -1.60769634e-02, -9.92372818e-03, -1.62864346e-02],\n",
       "       [-1.29523808e-02,  7.00095727e-04,  2.05936357e-02, ...,\n",
       "        -2.13486478e-02, -1.17743006e-02, -1.21452985e-02],\n",
       "       [-9.11512692e-03,  7.73080438e-03,  3.55242491e-02, ...,\n",
       "        -4.11952892e-03, -1.18536770e-03, -1.05863875e-02]])"
      ]
     },
     "execution_count": 5,
     "metadata": {},
     "output_type": "execute_result"
    }
   ],
   "source": [
    "# Convert \"embeddings\" column from string to list of floats\n",
    "embeddings = np.array(df['embeddings'].tolist())\n",
    "embeddings"
   ]
  },
  {
   "cell_type": "code",
   "execution_count": 6,
   "id": "f09c6e3a",
   "metadata": {},
   "outputs": [
    {
     "name": "stdout",
     "output_type": "stream",
     "text": [
      "   phecode                                 phenotype phecode_exclude_range  \\\n",
      "0     8.00                      Intestinal infection            001-009.99   \n",
      "1     8.50                       Bacterial enteritis            001-009.99   \n",
      "2     8.51                         Intestinal e.coli            001-009.99   \n",
      "3     8.52  Intestinal infection due to C. difficile            001-009.99   \n",
      "4     8.60                           Viral Enteritis            001-009.99   \n",
      "\n",
      "    sex  rollup  leaf  category_number             category  \\\n",
      "0   NaN       1     0                1  infectious diseases   \n",
      "1  Both       1     0                1  infectious diseases   \n",
      "2  Both       1     1                1  infectious diseases   \n",
      "3  Both       1     1                1  infectious diseases   \n",
      "4  Both       1     1                1  infectious diseases   \n",
      "\n",
      "                                          embeddings     UMAP_1    UMAP_2  \n",
      "0  [0.0068802302703261375, 0.0005461262771859765,...  11.682556  2.764739  \n",
      "1  [-0.010700925253331661, 1.566567698318977e-05,...  11.634239  2.812684  \n",
      "2  [0.01900758408010006, -0.0076250554993748665, ...  11.672106  2.751186  \n",
      "3  [0.013732682913541794, -0.013513063080608845, ...  11.741401  2.696872  \n",
      "4  [-0.01282576099038124, -0.0019294519443064928,...  11.661492  2.914905  \n"
     ]
    }
   ],
   "source": [
    "\n",
    "\n",
    "# Initialize UMAP\n",
    "umap_model = umap.UMAP(n_neighbors=15, min_dist=0.1, n_components=2, random_state=42)\n",
    "\n",
    "# specifications of other paper\n",
    "\n",
    "#umap_model = umap.UMAP(n_neighbors=50, min_dist=0.4, n_components=2, random_state=42)\n",
    "\n",
    "# Fit and transform the embeddings\n",
    "umap_result = umap_model.fit_transform(embeddings)\n",
    "\n",
    "# Convert UMAP results into a DataFrame\n",
    "umap_df = pd.DataFrame(umap_result, columns=['UMAP_1', 'UMAP_2'])\n",
    "\n",
    "# Add the UMAP results to the original DataFrame\n",
    "df['UMAP_1'] = umap_df['UMAP_1']\n",
    "df['UMAP_2'] = umap_df['UMAP_2']\n",
    "\n",
    "# Save or view the updated DataFrame\n",
    "print(df.head())\n"
   ]
  },
  {
   "cell_type": "code",
   "execution_count": 13,
   "id": "7bde0392",
   "metadata": {},
   "outputs": [],
   "source": [
    "#save embeddings\n",
    "df.to_pickle('UMAP_embeddings.pkl')"
   ]
  },
  {
   "cell_type": "code",
   "execution_count": 7,
   "id": "5c5cd25c",
   "metadata": {
    "scrolled": false
   },
   "outputs": [
    {
     "data": {
      "text/html": [
       "\n",
       "        <iframe\n",
       "            width=\"100%\"\n",
       "            height=\"650\"\n",
       "            src=\"http://127.0.0.1:8050/\"\n",
       "            frameborder=\"0\"\n",
       "            allowfullscreen\n",
       "            \n",
       "        ></iframe>\n",
       "        "
      ],
      "text/plain": [
       "<IPython.lib.display.IFrame at 0x16ec00690>"
      ]
     },
     "metadata": {},
     "output_type": "display_data"
    }
   ],
   "source": [
    "import pandas as pd\n",
    "import plotly.express as px\n",
    "from dash import dcc, html, Input, Output, Dash\n",
    "\n",
    "# Assuming your DataFrame `df` already contains 'UMAP_1', 'UMAP_2', 'phenotype', and 'category'\n",
    "\n",
    "# Initialize Dash app\n",
    "app = Dash(__name__)\n",
    "\n",
    "# Store clicked phenotypes\n",
    "selected_phenotypes = set()\n",
    "\n",
    "# Create a function to generate the UMAP plot\n",
    "def create_umap_plot(selected_phenotypes=None):\n",
    "    # Ensure selected_phenotypes is not None\n",
    "    selected_phenotypes = selected_phenotypes or set()\n",
    "    \n",
    "    # Add a column to highlight selected phenotypes\n",
    "    df['selected'] = df['phenotype'].apply(lambda x: x in selected_phenotypes)\n",
    "    \n",
    "    # Create the scatter plot\n",
    "    fig = px.scatter(\n",
    "        df,\n",
    "        x='UMAP_1',\n",
    "        y='UMAP_2',\n",
    "        color='category',\n",
    "        hover_data={'phenotype': True},  # Only show phenotype on hover\n",
    "        opacity=0.8,\n",
    "        title=\"Interactive UMAP Visualization with Search and Click\",\n",
    "    )\n",
    "    \n",
    " \n",
    "    # Simplify hover to show only the phenotype name\n",
    "    fig.for_each_trace(lambda trace: trace.update(\n",
    "        hovertemplate=\"%{customdata[0]}\"  # Display only the phenotype name\n",
    "    ))\n",
    "    \n",
    "    # Highlight selected phenotypes with annotations for better readability\n",
    "    selected_data = df[df['selected']]\n",
    "    if not selected_data.empty:\n",
    "        for _, row in selected_data.iterrows():\n",
    "            fig.add_annotation(\n",
    "                x=row['UMAP_1'],\n",
    "                y=row['UMAP_2'],\n",
    "                text=row['phenotype'],  # Display phenotype name\n",
    "                showarrow=True,\n",
    "                arrowhead=2,\n",
    "                ax=20,  # Offset for the annotation text\n",
    "                ay=-20,\n",
    "                bgcolor='white',  # White background for text\n",
    "                font=dict(size=12, color='black'),\n",
    "                arrowcolor='black'\n",
    "            )\n",
    "    \n",
    "    # Remove axis titles for cleaner look\n",
    "    fig.update_layout(\n",
    "        #width=1000,  # Set the width of the figure in pixels\n",
    "        height=700,  # Set the height of the figure in pixels\n",
    "        xaxis_title='UMAP 1',\n",
    "        yaxis_title='UMAP 2',\n",
    "        showlegend=True,\n",
    "        template='plotly_white'\n",
    "    )\n",
    "\n",
    "    return fig\n",
    "\n",
    "# App layout\n",
    "app.layout = html.Div([\n",
    "    html.H1(\"GPT Embedding Space of Phecodes\"),\n",
    "    dcc.Input(\n",
    "        id='search-input',\n",
    "        type='text',\n",
    "        placeholder='Search for a phenotype...',\n",
    "        debounce=True,  # Updates only when user stops typing\n",
    "        style={'marginBottom': '20px', 'width': '300px'},\n",
    "    ),\n",
    "    dcc.Graph(\n",
    "        id='umap-plot',\n",
    "        config={'displayModeBar': True},  # Allows zooming/panning\n",
    "        clear_on_unhover=False,\n",
    "    ),\n",
    "    html.Div(id='selected-phenotypes', style={'marginTop': '20px', 'fontSize': '16px'}),\n",
    "])\n",
    "\n",
    "# Callback to update plot and selected phenotypes\n",
    "@app.callback(\n",
    "    [Output('umap-plot', 'figure'), Output('selected-phenotypes', 'children')],\n",
    "    [Input('umap-plot', 'clickData'), Input('search-input', 'value')]\n",
    ")\n",
    "def update_plot(click_data, search_query):\n",
    "    global selected_phenotypes  # Access the global set to store selected phenotypes\n",
    "    \n",
    "    # Handle clicking on a phenotype\n",
    "    if click_data and 'points' in click_data:\n",
    "        clicked_phenotype = click_data['points'][0]['customdata'][0]\n",
    "        if clicked_phenotype in selected_phenotypes:\n",
    "            selected_phenotypes.remove(clicked_phenotype)  # Deselect if already selected\n",
    "        else:\n",
    "            selected_phenotypes.add(clicked_phenotype)  # Select if not already selected\n",
    "    \n",
    "    # Handle searching for a phenotype\n",
    "    if search_query:\n",
    "        searched_phenotype = search_query.strip().lower()\n",
    "        matches = df[df['phenotype'].str.lower() == searched_phenotype]\n",
    "        for phenotype in matches['phenotype']:\n",
    "            selected_phenotypes.add(phenotype)  # Add search results to selected\n",
    "    \n",
    "    # Generate updated plot\n",
    "    fig = create_umap_plot(selected_phenotypes)\n",
    "    \n",
    "    # Display the currently selected phenotypes\n",
    "    selected_list = ', '.join(selected_phenotypes)\n",
    "    return fig, f\"Selected Phenotypes: {selected_list}\" if selected_phenotypes else \"No phenotypes selected.\"\n",
    "\n",
    "# Run the app\n",
    "if __name__ == '__main__':\n",
    "    app.run_server(debug=True)\n"
   ]
  },
  {
   "cell_type": "code",
   "execution_count": null,
   "id": "5cd37e96",
   "metadata": {},
   "outputs": [],
   "source": [
    "# save embeddings\n",
    "pickle.dump"
   ]
  },
  {
   "cell_type": "markdown",
   "id": "276856fd",
   "metadata": {},
   "source": [
    "# Local UMAP Digestive"
   ]
  },
  {
   "cell_type": "code",
   "execution_count": 8,
   "id": "ba461ed8",
   "metadata": {},
   "outputs": [],
   "source": [
    "local_embed_df = df[df['category'] == 'digestive']"
   ]
  },
  {
   "cell_type": "code",
   "execution_count": 9,
   "id": "0d162b32",
   "metadata": {},
   "outputs": [
    {
     "data": {
      "text/html": [
       "<div>\n",
       "<style scoped>\n",
       "    .dataframe tbody tr th:only-of-type {\n",
       "        vertical-align: middle;\n",
       "    }\n",
       "\n",
       "    .dataframe tbody tr th {\n",
       "        vertical-align: top;\n",
       "    }\n",
       "\n",
       "    .dataframe thead th {\n",
       "        text-align: right;\n",
       "    }\n",
       "</style>\n",
       "<table border=\"1\" class=\"dataframe\">\n",
       "  <thead>\n",
       "    <tr style=\"text-align: right;\">\n",
       "      <th></th>\n",
       "      <th>phecode</th>\n",
       "      <th>phenotype</th>\n",
       "      <th>phecode_exclude_range</th>\n",
       "      <th>sex</th>\n",
       "      <th>rollup</th>\n",
       "      <th>leaf</th>\n",
       "      <th>category_number</th>\n",
       "      <th>category</th>\n",
       "      <th>embeddings</th>\n",
       "      <th>UMAP_1</th>\n",
       "      <th>UMAP_2</th>\n",
       "      <th>selected</th>\n",
       "    </tr>\n",
       "  </thead>\n",
       "  <tbody>\n",
       "    <tr>\n",
       "      <th>1003</th>\n",
       "      <td>520.0</td>\n",
       "      <td>Disorders of tooth development</td>\n",
       "      <td>520-526.99</td>\n",
       "      <td>NaN</td>\n",
       "      <td>1</td>\n",
       "      <td>0</td>\n",
       "      <td>10</td>\n",
       "      <td>digestive</td>\n",
       "      <td>[-0.0028154414612799883, 0.018279241397976875,...</td>\n",
       "      <td>12.843326</td>\n",
       "      <td>5.807004</td>\n",
       "      <td>False</td>\n",
       "    </tr>\n",
       "    <tr>\n",
       "      <th>1004</th>\n",
       "      <td>520.1</td>\n",
       "      <td>Hereditary disturbances in tooth structure</td>\n",
       "      <td>520-526.99</td>\n",
       "      <td>Both</td>\n",
       "      <td>1</td>\n",
       "      <td>1</td>\n",
       "      <td>10</td>\n",
       "      <td>digestive</td>\n",
       "      <td>[0.0019516226602718234, 0.026563841849565506, ...</td>\n",
       "      <td>12.908388</td>\n",
       "      <td>5.786859</td>\n",
       "      <td>False</td>\n",
       "    </tr>\n",
       "    <tr>\n",
       "      <th>1005</th>\n",
       "      <td>520.2</td>\n",
       "      <td>Disturbances in tooth eruption</td>\n",
       "      <td>520-526.99</td>\n",
       "      <td>Both</td>\n",
       "      <td>1</td>\n",
       "      <td>1</td>\n",
       "      <td>10</td>\n",
       "      <td>digestive</td>\n",
       "      <td>[-0.008283114060759544, 0.006165308877825737, ...</td>\n",
       "      <td>12.907480</td>\n",
       "      <td>5.745174</td>\n",
       "      <td>False</td>\n",
       "    </tr>\n",
       "    <tr>\n",
       "      <th>1006</th>\n",
       "      <td>521.0</td>\n",
       "      <td>Diseases of hard tissues of teeth</td>\n",
       "      <td>520-526.99</td>\n",
       "      <td>NaN</td>\n",
       "      <td>1</td>\n",
       "      <td>0</td>\n",
       "      <td>10</td>\n",
       "      <td>digestive</td>\n",
       "      <td>[0.009716500528156757, 0.00790802575647831, 0....</td>\n",
       "      <td>12.892418</td>\n",
       "      <td>5.833263</td>\n",
       "      <td>False</td>\n",
       "    </tr>\n",
       "    <tr>\n",
       "      <th>1007</th>\n",
       "      <td>521.1</td>\n",
       "      <td>Dental caries</td>\n",
       "      <td>520-526.99</td>\n",
       "      <td>Both</td>\n",
       "      <td>1</td>\n",
       "      <td>1</td>\n",
       "      <td>10</td>\n",
       "      <td>digestive</td>\n",
       "      <td>[-0.0004344163171481341, 0.01665380969643593, ...</td>\n",
       "      <td>12.946482</td>\n",
       "      <td>5.843550</td>\n",
       "      <td>False</td>\n",
       "    </tr>\n",
       "    <tr>\n",
       "      <th>...</th>\n",
       "      <td>...</td>\n",
       "      <td>...</td>\n",
       "      <td>...</td>\n",
       "      <td>...</td>\n",
       "      <td>...</td>\n",
       "      <td>...</td>\n",
       "      <td>...</td>\n",
       "      <td>...</td>\n",
       "      <td>...</td>\n",
       "      <td>...</td>\n",
       "      <td>...</td>\n",
       "      <td>...</td>\n",
       "    </tr>\n",
       "    <tr>\n",
       "      <th>1164</th>\n",
       "      <td>578.8</td>\n",
       "      <td>Hemorrhage of rectum and anus</td>\n",
       "      <td>578-579.99</td>\n",
       "      <td>Both</td>\n",
       "      <td>1</td>\n",
       "      <td>1</td>\n",
       "      <td>10</td>\n",
       "      <td>digestive</td>\n",
       "      <td>[-0.008574603125452995, -0.001847308361902833,...</td>\n",
       "      <td>11.681997</td>\n",
       "      <td>0.706891</td>\n",
       "      <td>False</td>\n",
       "    </tr>\n",
       "    <tr>\n",
       "      <th>1165</th>\n",
       "      <td>578.9</td>\n",
       "      <td>Hemorrhage of gastrointestinal tract</td>\n",
       "      <td>578-579.99</td>\n",
       "      <td>Both</td>\n",
       "      <td>1</td>\n",
       "      <td>1</td>\n",
       "      <td>10</td>\n",
       "      <td>digestive</td>\n",
       "      <td>[-0.017736976966261864, -0.0027105279732495546...</td>\n",
       "      <td>11.711283</td>\n",
       "      <td>0.779730</td>\n",
       "      <td>False</td>\n",
       "    </tr>\n",
       "    <tr>\n",
       "      <th>1166</th>\n",
       "      <td>579.0</td>\n",
       "      <td>Other symptoms involving abdomen and pelvis</td>\n",
       "      <td>578-579.99</td>\n",
       "      <td>NaN</td>\n",
       "      <td>1</td>\n",
       "      <td>0</td>\n",
       "      <td>10</td>\n",
       "      <td>digestive</td>\n",
       "      <td>[0.008516996167600155, -0.0379025861620903, 0....</td>\n",
       "      <td>13.595953</td>\n",
       "      <td>2.325487</td>\n",
       "      <td>False</td>\n",
       "    </tr>\n",
       "    <tr>\n",
       "      <th>1167</th>\n",
       "      <td>579.2</td>\n",
       "      <td>Splenomegaly</td>\n",
       "      <td>578-579.99</td>\n",
       "      <td>Both</td>\n",
       "      <td>1</td>\n",
       "      <td>1</td>\n",
       "      <td>10</td>\n",
       "      <td>digestive</td>\n",
       "      <td>[-0.011209613643586636, 0.013966076076030731, ...</td>\n",
       "      <td>11.358766</td>\n",
       "      <td>0.917736</td>\n",
       "      <td>False</td>\n",
       "    </tr>\n",
       "    <tr>\n",
       "      <th>1168</th>\n",
       "      <td>579.8</td>\n",
       "      <td>Nonspecific abnormal findings in stool contents</td>\n",
       "      <td>578-579.99</td>\n",
       "      <td>Both</td>\n",
       "      <td>0</td>\n",
       "      <td>1</td>\n",
       "      <td>10</td>\n",
       "      <td>digestive</td>\n",
       "      <td>[0.0016432841075584292, 0.005132139660418034, ...</td>\n",
       "      <td>14.252381</td>\n",
       "      <td>1.268068</td>\n",
       "      <td>False</td>\n",
       "    </tr>\n",
       "  </tbody>\n",
       "</table>\n",
       "<p>166 rows × 12 columns</p>\n",
       "</div>"
      ],
      "text/plain": [
       "      phecode                                        phenotype  \\\n",
       "1003    520.0                   Disorders of tooth development   \n",
       "1004    520.1       Hereditary disturbances in tooth structure   \n",
       "1005    520.2                   Disturbances in tooth eruption   \n",
       "1006    521.0                Diseases of hard tissues of teeth   \n",
       "1007    521.1                                    Dental caries   \n",
       "...       ...                                              ...   \n",
       "1164    578.8                    Hemorrhage of rectum and anus   \n",
       "1165    578.9             Hemorrhage of gastrointestinal tract   \n",
       "1166    579.0      Other symptoms involving abdomen and pelvis   \n",
       "1167    579.2                                     Splenomegaly   \n",
       "1168    579.8  Nonspecific abnormal findings in stool contents   \n",
       "\n",
       "     phecode_exclude_range   sex  rollup  leaf  category_number   category  \\\n",
       "1003            520-526.99   NaN       1     0               10  digestive   \n",
       "1004            520-526.99  Both       1     1               10  digestive   \n",
       "1005            520-526.99  Both       1     1               10  digestive   \n",
       "1006            520-526.99   NaN       1     0               10  digestive   \n",
       "1007            520-526.99  Both       1     1               10  digestive   \n",
       "...                    ...   ...     ...   ...              ...        ...   \n",
       "1164            578-579.99  Both       1     1               10  digestive   \n",
       "1165            578-579.99  Both       1     1               10  digestive   \n",
       "1166            578-579.99   NaN       1     0               10  digestive   \n",
       "1167            578-579.99  Both       1     1               10  digestive   \n",
       "1168            578-579.99  Both       0     1               10  digestive   \n",
       "\n",
       "                                             embeddings     UMAP_1    UMAP_2  \\\n",
       "1003  [-0.0028154414612799883, 0.018279241397976875,...  12.843326  5.807004   \n",
       "1004  [0.0019516226602718234, 0.026563841849565506, ...  12.908388  5.786859   \n",
       "1005  [-0.008283114060759544, 0.006165308877825737, ...  12.907480  5.745174   \n",
       "1006  [0.009716500528156757, 0.00790802575647831, 0....  12.892418  5.833263   \n",
       "1007  [-0.0004344163171481341, 0.01665380969643593, ...  12.946482  5.843550   \n",
       "...                                                 ...        ...       ...   \n",
       "1164  [-0.008574603125452995, -0.001847308361902833,...  11.681997  0.706891   \n",
       "1165  [-0.017736976966261864, -0.0027105279732495546...  11.711283  0.779730   \n",
       "1166  [0.008516996167600155, -0.0379025861620903, 0....  13.595953  2.325487   \n",
       "1167  [-0.011209613643586636, 0.013966076076030731, ...  11.358766  0.917736   \n",
       "1168  [0.0016432841075584292, 0.005132139660418034, ...  14.252381  1.268068   \n",
       "\n",
       "      selected  \n",
       "1003     False  \n",
       "1004     False  \n",
       "1005     False  \n",
       "1006     False  \n",
       "1007     False  \n",
       "...        ...  \n",
       "1164     False  \n",
       "1165     False  \n",
       "1166     False  \n",
       "1167     False  \n",
       "1168     False  \n",
       "\n",
       "[166 rows x 12 columns]"
      ]
     },
     "execution_count": 9,
     "metadata": {},
     "output_type": "execute_result"
    }
   ],
   "source": [
    "local_embed_df"
   ]
  },
  {
   "cell_type": "code",
   "execution_count": 10,
   "id": "f7a4c940",
   "metadata": {},
   "outputs": [],
   "source": [
    "local_embed_df.loc[local_embed_df['phecode'].between(520.0, 526.99), 'category'] = 'teeth' #\"Disorders of teeth and jaws\"\n",
    "local_embed_df.loc[local_embed_df['phecode'].between(527.0, 529.99), 'category'] = 'mouth' # \"Disorders of mouth\"\n",
    "local_embed_df.loc[local_embed_df['phecode'].between(530.0, 530.99), 'category'] = \"Esophageal\"\n",
    "local_embed_df.loc[local_embed_df['phecode'].between(532.0, 532.99), 'category'] = \"Esophageal\"\n",
    "local_embed_df.loc[local_embed_df['phecode'].between(531.0, 531.99), 'category'] = \"Gastro ulcer\"\n",
    "\n",
    "local_embed_df.loc[local_embed_df['phecode'].between(535.0, 537.99), 'category'] = \"stomach\"\n",
    "local_embed_df.loc[local_embed_df['phecode'].between(539.0, 539.99), 'category'] = \"Bariatric\"\n",
    "local_embed_df.loc[local_embed_df['phecode'].between(540.0, 540.99), 'category'] = \"Appendiceal\"\n",
    "\n",
    "local_embed_df.loc[local_embed_df['phecode'].between(578.0, 579.99), 'category'] = \"Other\"\n",
    "local_embed_df.loc[local_embed_df['phecode'].between(565.0, 569.99), 'category'] = \"Other\"\n",
    "local_embed_df.loc[local_embed_df['phecode'].between(555.0, 564.99), 'category'] = \"Noninfective\"\n",
    "local_embed_df.loc[local_embed_df['phecode'].between(550.0, 550.99), 'category'] = \"hernia\"\n",
    "local_embed_df.loc[local_embed_df['phecode'].between(570.0, 573.99), 'category'] = \"Liver\"\n",
    "local_embed_df.loc[local_embed_df['phecode'].between(574, 576.99), 'category'] = \"Biliary\"\n",
    "local_embed_df.loc[local_embed_df['phecode'].between(578.0, 579.99), 'category'] = \"Other\"\n",
    "local_embed_df.loc[local_embed_df['phecode'].between(577, 577.99), 'category'] = \"Pancreatic\"\n"
   ]
  },
  {
   "cell_type": "code",
   "execution_count": 11,
   "id": "dd01cf6d",
   "metadata": {},
   "outputs": [
    {
     "name": "stderr",
     "output_type": "stream",
     "text": [
      "/Users/ellenbowen/opt/anaconda3/envs/ehail/lib/python3.11/site-packages/seaborn/_oldcore.py:1498: FutureWarning:\n",
      "\n",
      "is_categorical_dtype is deprecated and will be removed in a future version. Use isinstance(dtype, CategoricalDtype) instead\n",
      "\n",
      "/Users/ellenbowen/opt/anaconda3/envs/ehail/lib/python3.11/site-packages/seaborn/_oldcore.py:1498: FutureWarning:\n",
      "\n",
      "is_categorical_dtype is deprecated and will be removed in a future version. Use isinstance(dtype, CategoricalDtype) instead\n",
      "\n",
      "/Users/ellenbowen/opt/anaconda3/envs/ehail/lib/python3.11/site-packages/seaborn/_oldcore.py:1498: FutureWarning:\n",
      "\n",
      "is_categorical_dtype is deprecated and will be removed in a future version. Use isinstance(dtype, CategoricalDtype) instead\n",
      "\n",
      "/Users/ellenbowen/opt/anaconda3/envs/ehail/lib/python3.11/site-packages/seaborn/_oldcore.py:1498: FutureWarning:\n",
      "\n",
      "is_categorical_dtype is deprecated and will be removed in a future version. Use isinstance(dtype, CategoricalDtype) instead\n",
      "\n"
     ]
    },
    {
     "data": {
      "image/png": "[encoded data removed]",
      "text/plain": [
       "<Figure size 475x425 with 1 Axes>"
      ]
     },
     "metadata": {},
     "output_type": "display_data"
    }
   ],
   "source": [
    "import matplotlib.pyplot as plt\n",
    "import seaborn as sns\n",
    "import matplotlib.ticker as plticker\n",
    "\n",
    "# Create the figure and axis\n",
    "fig, ax = plt.subplots(figsize=(4.75, 4.25))\n",
    "\n",
    "# Scatter plot for all points\n",
    "sns.scatterplot(\n",
    "    data=local_embed_df, \n",
    "    x='UMAP_1', y='UMAP_2', \n",
    "    alpha=0.5, s=70, linewidth=0.25, edgecolor='white',\n",
    "    color='gray', ax=ax\n",
    ")\n",
    "\n",
    "# Highlight points where category is 'teeth' or 'mouth'\n",
    "highlight_data = local_embed_df[local_embed_df['category'].isin(['teeth', 'mouth'])]\n",
    "\n",
    "sns.scatterplot(\n",
    "    data=highlight_data, \n",
    "    x='UMAP_1', y='UMAP_2', \n",
    "    alpha=0.9, s=70, linewidth=0.25, edgecolor='white',\n",
    "    color='#D04848', ax=ax\n",
    ")\n",
    "\n",
    "# Add labels and limits\n",
    "plt.xlabel(\"UMAP 1 (Digestive)\")\n",
    "plt.ylabel(\"UMAP 2 (Digestive)\")\n",
    "plt.xlim(-5, 19)\n",
    "plt.ylim(-6, 15)\n",
    "\n",
    "# Set tick locators\n",
    "loc = plticker.MultipleLocator(base=5.0)\n",
    "ax.yaxis.set_major_locator(loc)\n",
    "\n",
    "loc = plticker.MultipleLocator(base=3.0)\n",
    "ax.xaxis.set_major_locator(loc)\n",
    "\n",
    "# Remove top and right spines\n",
    "sns.despine(offset=2, trim=True)\n",
    "\n",
    "# Add title\n",
    "plt.title(\"Teeth and Mouth Disorders\")\n",
    "\n",
    "# Show plot\n",
    "plt.show()\n"
   ]
  },
  {
   "cell_type": "code",
   "execution_count": 73,
   "id": "6cf3bb94",
   "metadata": {},
   "outputs": [
    {
     "name": "stderr",
     "output_type": "stream",
     "text": [
      "/var/folders/pq/qx5x9fj10pj3v7hdcsd6qzz40000gn/T/ipykernel_38629/3067653501.py:4: SettingWithCopyWarning:\n",
      "\n",
      "\n",
      "A value is trying to be set on a copy of a slice from a DataFrame.\n",
      "Try using .loc[row_indexer,col_indexer] = value instead\n",
      "\n",
      "See the caveats in the documentation: https://pandas.pydata.org/pandas-docs/stable/user_guide/indexing.html#returning-a-view-versus-a-copy\n",
      "\n"
     ]
    },
    {
     "data": {
      "application/vnd.plotly.v1+json": {
       "config": {
        "plotlyServerURL": "https://plot.ly"
       },
       "data": [
        {
         "customdata": [
          [
           "Disorders of tooth development",
           "teeth"
          ],
          [
           "Hereditary disturbances in tooth structure",
           "teeth"
          ],
          [
           "Disturbances in tooth eruption",
           "teeth"
          ],
          [
           "Diseases of hard tissues of teeth",
           "teeth"
          ],
          [
           "Dental caries",
           "teeth"
          ],
          [
           "Dental abrasion, erosion and attrition",
           "teeth"
          ],
          [
           "Tooth complications likely association with other diseases",
           "teeth"
          ],
          [
           "Diseases of pulp and periapical tissues",
           "teeth"
          ],
          [
           "Pulpitis and necrosis of tooth pulp",
           "teeth"
          ],
          [
           "Periapical abscess",
           "teeth"
          ],
          [
           "Gingival and periodontal diseases",
           "teeth"
          ],
          [
           "Gingivitis",
           "teeth"
          ],
          [
           "Periodontitis (acute or chronic)",
           "teeth"
          ],
          [
           "Acute periodontitis",
           "teeth"
          ],
          [
           "Chronic periodontitis",
           "teeth"
          ],
          [
           "Dentofacial anomalies, including malocclusion",
           "teeth"
          ],
          [
           "Anomalies of tooth position/malocclusion",
           "teeth"
          ],
          [
           "Other diseases of the teeth and supporting structures",
           "teeth"
          ],
          [
           "Loss of teeth or edentulism",
           "teeth"
          ],
          [
           "Atrophy of edentulous alveolar ridge",
           "teeth"
          ],
          [
           "Diseases of the jaws",
           "teeth"
          ],
          [
           "Cysts of the jaws",
           "teeth"
          ],
          [
           "Anomalies of jaw size/symmetry",
           "teeth"
          ],
          [
           "Temporomandibular joint disorders",
           "teeth"
          ],
          [
           "Temporomandibular joint disorder, unspecified",
           "teeth"
          ],
          [
           "Arthralgia/ankylosis of temporomandibular joint",
           "teeth"
          ],
          [
           "Inflammatory conditions of jaw",
           "teeth"
          ],
          [
           "Exostosis of jaw",
           "teeth"
          ],
          [
           "Jaw disease NOS",
           "teeth"
          ],
          [
           "Diseases of the salivary glands",
           "mouth"
          ],
          [
           "Hypertrophy of salivary gland",
           "mouth"
          ],
          [
           "Sialoadenitis",
           "mouth"
          ],
          [
           "Disturbance of salivary secretion",
           "mouth"
          ],
          [
           "Other specified diseases of the salivary glands",
           "mouth"
          ],
          [
           "Diseases of the oral soft tissues, excluding lesions specific for gingiva and tongue",
           "mouth"
          ],
          [
           "Stomatitis and mucositis",
           "mouth"
          ],
          [
           "Stomatitis and mucositis (ulcerative)",
           "mouth"
          ],
          [
           "Oral aphthae",
           "mouth"
          ],
          [
           "Cellulitis and abscess of oral soft tissues",
           "mouth"
          ],
          [
           "Cysts of oral soft tissues",
           "mouth"
          ],
          [
           "Cyst of the salivary gland",
           "mouth"
          ],
          [
           "Diseases of lips",
           "mouth"
          ],
          [
           "Leukoplakia of oral mucosa",
           "mouth"
          ],
          [
           "Sialolithiasis",
           "mouth"
          ],
          [
           "Diseases and other conditions of the tongue",
           "mouth"
          ],
          [
           "Glossitis",
           "mouth"
          ],
          [
           "Glossodynia",
           "mouth"
          ]
         ],
         "hovertemplate": "highlight=True<br>UMAP_1=%{x}<br>UMAP_2=%{y}<br>phenotype=%{customdata[0]}<br>category=%{customdata[1]}<extra></extra>",
         "legendgroup": "True",
         "marker": {
          "color": "#D04848",
          "line": {
           "color": "white",
           "width": 1
          },
          "opacity": 0.7,
          "size": 7,
          "symbol": "circle"
         },
         "mode": "markers",
         "name": "True",
         "orientation": "v",
         "showlegend": true,
         "type": "scatter",
         "x": [
          12.843326,
          12.908388,
          12.90748,
          12.892418,
          12.946482,
          12.928417,
          12.92249,
          12.890549,
          12.882347,
          12.759845,
          12.948122,
          12.9768915,
          12.7771845,
          12.790361,
          12.825554,
          12.840672,
          12.84403,
          12.911312,
          12.910738,
          12.877992,
          12.7683115,
          12.9631815,
          12.851359,
          10.850549,
          10.759581,
          10.7519045,
          12.562827,
          12.621896,
          11.564546,
          12.815485,
          13.013627,
          12.731808,
          12.883156,
          12.786776,
          13.060073,
          13.070244,
          12.929602,
          13.170418,
          12.464097,
          13.181399,
          13.0554285,
          13.336275,
          13.467405,
          12.885223,
          13.178607,
          13.0355835,
          12.985704
         ],
         "xaxis": "x",
         "y": [
          5.8070045,
          5.786859,
          5.7451744,
          5.8332634,
          5.8435497,
          5.828349,
          5.8276005,
          5.895766,
          5.895272,
          6.0270143,
          5.8637753,
          5.73955,
          5.9531856,
          5.9341874,
          5.9090676,
          5.6649423,
          5.6397734,
          5.807018,
          5.8423424,
          5.857924,
          5.5726953,
          5.232188,
          5.503843,
          6.105066,
          6.1548123,
          6.209869,
          5.5865493,
          5.5774484,
          5.7139783,
          4.9099083,
          4.868456,
          4.806136,
          4.946983,
          4.9278083,
          5.635545,
          5.408201,
          5.2781577,
          5.343979,
          6.433947,
          5.127637,
          4.884621,
          5.2053986,
          5.23224,
          4.8783507,
          5.2366214,
          5.2872114,
          5.0357594
         ],
         "yaxis": "y"
        },
        {
         "customdata": [
          [
           "Diseases of esophagus",
           "Esophageal"
          ],
          [
           "Esophagitis, GERD and related diseases",
           "Esophageal"
          ],
          [
           "GERD",
           "Esophageal"
          ],
          [
           "Ulcer of esophagus",
           "Esophageal"
          ],
          [
           "Barrett's esophagus",
           "Esophageal"
          ],
          [
           "Reflux esophagitis",
           "Esophageal"
          ],
          [
           "Eosinophilic esophagitis",
           "Esophageal"
          ],
          [
           "Esophageal bleeding (varices/hemorrhage)",
           "Esophageal"
          ],
          [
           "Stricture and stenosis of esophagus",
           "Esophageal"
          ],
          [
           "Disorders of esophageal motility",
           "Esophageal"
          ],
          [
           "Diverticulum of esophagus, acquired",
           "Esophageal"
          ],
          [
           "Gastroesophageal laceration-hemorrhage syndrome",
           "Esophageal"
          ],
          [
           "Heartburn",
           "Esophageal"
          ],
          [
           "Peptic ulcer (excl. esophageal)",
           "Gastro ulcer"
          ],
          [
           "Hemorrhage from gastrointestinal ulcer",
           "Gastro ulcer"
          ],
          [
           "Gastric ulcer",
           "Gastro ulcer"
          ],
          [
           "Duodenal ulcer",
           "Gastro ulcer"
          ],
          [
           "Peptic ulcer, site unspecified",
           "Gastro ulcer"
          ],
          [
           "Gastrojejunal ulcer",
           "Gastro ulcer"
          ],
          [
           "Dysphagia",
           "Esophageal"
          ],
          [
           "Gastritis and duodenitis",
           "stomach"
          ],
          [
           "Acute gastritis",
           "stomach"
          ],
          [
           "Atrophic gastritis",
           "stomach"
          ],
          [
           "Duodenitis",
           "stomach"
          ],
          [
           "Other specified gastritis",
           "stomach"
          ],
          [
           "Gastritis and duodenitis, NOS",
           "stomach"
          ],
          [
           "Disorders of function of stomach",
           "stomach"
          ],
          [
           "Gastroparesis",
           "stomach"
          ],
          [
           "Complications of gastrostomy, colostomy and enterostomy",
           "stomach"
          ],
          [
           "Dyspepsia and other specified disorders of function of stomach",
           "stomach"
          ],
          [
           "Other disorders of stomach and duodenum",
           "stomach"
          ],
          [
           "Lesions of stomach and duodenum",
           "stomach"
          ],
          [
           "Bariatric surgery",
           "Bariatric"
          ],
          [
           "Appendiceal conditions",
           "Appendiceal"
          ],
          [
           "Appendicitis",
           "Appendiceal"
          ],
          [
           "Acute appendicitis",
           "Appendiceal"
          ],
          [
           "Abdominal hernia",
           "hernia"
          ],
          [
           "Inguinal hernia",
           "hernia"
          ],
          [
           "Diaphragmatic hernia",
           "hernia"
          ],
          [
           "Femoral hernia",
           "hernia"
          ],
          [
           "Umbilical hernia",
           "hernia"
          ],
          [
           "Ventral hernia",
           "hernia"
          ],
          [
           "Incisional hernia",
           "hernia"
          ],
          [
           "Inflammatory bowel disease and other gastroenteritis and colitis",
           "Noninfective"
          ],
          [
           "Regional enteritis",
           "Noninfective"
          ],
          [
           "Ulcerative colitis",
           "Noninfective"
          ],
          [
           "Ulcerative colitis (chronic)",
           "Noninfective"
          ],
          [
           "Ulceration of the lower GI tract",
           "Noninfective"
          ],
          [
           "Ulceration of intestine",
           "Noninfective"
          ],
          [
           "Angiodysplasia of intestine (without mention of hemorrhage)",
           "Noninfective"
          ],
          [
           "Intestinal malabsorption (non-celiac)",
           "Noninfective"
          ],
          [
           "Celiac disease",
           "Noninfective"
          ],
          [
           "Noninfectious gastroenteritis",
           "Noninfective"
          ],
          [
           "Ileostomy status",
           "Noninfective"
          ],
          [
           "Intestinal obstruction without mention of hernia",
           "Noninfective"
          ],
          [
           "Paralytic ileus",
           "Noninfective"
          ],
          [
           "Impaction of intestine",
           "Noninfective"
          ],
          [
           "Peritoneal or intestinal adhesions",
           "Noninfective"
          ],
          [
           "Other intestinal obstruction",
           "Noninfective"
          ],
          [
           "Symptoms involving digestive system",
           "Noninfective"
          ],
          [
           "Diarrhea",
           "Noninfective"
          ],
          [
           "Flatulence",
           "Noninfective"
          ],
          [
           "Diverticulosis and diverticulitis",
           "Noninfective"
          ],
          [
           "Diverticulosis",
           "Noninfective"
          ],
          [
           "Diverticulitis",
           "Noninfective"
          ],
          [
           "Constipation",
           "Noninfective"
          ],
          [
           "Functional digestive disorders",
           "Noninfective"
          ],
          [
           "Irritable Bowel Syndrome",
           "Noninfective"
          ],
          [
           "Abnormal findings on exam of gastrointestinal tract/ abdominal area",
           "Noninfective"
          ],
          [
           "Personal history of diseases of digestive system",
           "Noninfective"
          ],
          [
           "Anal and rectal conditions",
           "Other"
          ],
          [
           "Anal and rectal polyp",
           "Other"
          ],
          [
           "Peritonitis and retroperitoneal infections",
           "Other"
          ],
          [
           "Other disorders of peritoneum",
           "Other"
          ],
          [
           "Peritoneal adhesions (postoperative) (postinfection)",
           "Other"
          ],
          [
           "Other disorders of intestine",
           "Other"
          ],
          [
           "Toxic gastroenteritis and colitis",
           "Other"
          ],
          [
           "Gastrointestinal complications",
           "Other"
          ],
          [
           "Chronic liver disease and cirrhosis",
           "Liver"
          ],
          [
           "Other chronic nonalcoholic liver disease",
           "Liver"
          ],
          [
           "Cirrhosis of liver without mention of alcohol",
           "Liver"
          ],
          [
           "Primary biliary cirrhosis",
           "Liver"
          ],
          [
           "Liver abscess and sequelae of chronic liver disease",
           "Liver"
          ],
          [
           "Portal hypertension",
           "Liver"
          ],
          [
           "Ascites (non malignant)",
           "Liver"
          ],
          [
           "Other disorders of liver",
           "Liver"
          ],
          [
           "Chronic passive congestion of liver",
           "Liver"
          ],
          [
           "Liver replaced by transplant",
           "Liver"
          ],
          [
           "Hepatomegaly",
           "Liver"
          ],
          [
           "Acute and subacute necrosis of liver",
           "Liver"
          ],
          [
           "Jaundice (not of newborn)",
           "Liver"
          ],
          [
           "Nonspecific elevation of levels of transaminase or lactic acid dehydrogenase [LDH]",
           "Liver"
          ],
          [
           "Abnormal results of function study of liver",
           "Liver"
          ],
          [
           "Abnormal serum enzyme levels",
           "Liver"
          ],
          [
           "Cholelithiasis and cholecystitis",
           "Biliary"
          ],
          [
           "Cholelithiasis",
           "Biliary"
          ],
          [
           "Cholelithiasis with acute cholecystitis",
           "Biliary"
          ],
          [
           "Cholelithiasis with other cholecystitis",
           "Biliary"
          ],
          [
           "Calculus of bile duct",
           "Biliary"
          ],
          [
           "Cholecystitis without cholelithiasis",
           "Biliary"
          ],
          [
           "Other biliary tract disease",
           "Biliary"
          ],
          [
           "Cholangitis",
           "Biliary"
          ],
          [
           "Obstruction of bile duct",
           "Biliary"
          ],
          [
           "Cholesterolosis of gallbladder",
           "Biliary"
          ],
          [
           "Other disorders of gallbladder",
           "Biliary"
          ],
          [
           "Other disorders of biliary tract",
           "Biliary"
          ],
          [
           "Nonspecific abnormal findings on radiological and other examination of biliary tract",
           "Biliary"
          ],
          [
           "Diseases of pancreas",
           "Pancreatic"
          ],
          [
           "Acute pancreatitis",
           "Pancreatic"
          ],
          [
           "Chronic pancreatitis",
           "Pancreatic"
          ],
          [
           "Cyst and pseudocyst of pancreas",
           "Pancreatic"
          ],
          [
           "Gastrointestinal hemorrhage",
           "Other"
          ],
          [
           "Hematemesis",
           "Other"
          ],
          [
           "Blood in stool",
           "Other"
          ],
          [
           "Hemorrhage of rectum and anus",
           "Other"
          ],
          [
           "Hemorrhage of gastrointestinal tract",
           "Other"
          ],
          [
           "Other symptoms involving abdomen and pelvis",
           "Other"
          ],
          [
           "Splenomegaly",
           "Other"
          ],
          [
           "Nonspecific abnormal findings in stool contents",
           "Other"
          ]
         ],
         "hovertemplate": "highlight=False<br>UMAP_1=%{x}<br>UMAP_2=%{y}<br>phenotype=%{customdata[0]}<br>category=%{customdata[1]}<extra></extra>",
         "legendgroup": "False",
         "marker": {
          "color": "gray",
          "line": {
           "color": "white",
           "width": 1
          },
          "opacity": 0.7,
          "size": 7,
          "symbol": "circle"
         },
         "mode": "markers",
         "name": "False",
         "orientation": "v",
         "showlegend": true,
         "type": "scatter",
         "x": [
          12.493873,
          12.448925,
          12.091774,
          12.371579,
          12.4159975,
          12.338035,
          12.419395,
          11.778246,
          12.505438,
          12.552059,
          12.775002,
          11.8155575,
          11.428215,
          12.197688,
          11.791296,
          12.128147,
          12.149895,
          12.112752,
          12.157811,
          11.889009,
          12.216449,
          12.201153,
          12.163759,
          12.389466,
          12.191698,
          11.974789,
          12.523682,
          12.017342,
          10.846435,
          12.448867,
          12.666751,
          12.394616,
          12.022727,
          12.758513,
          12.734633,
          12.777444,
          12.85928,
          12.925973,
          12.895736,
          12.895677,
          12.900248,
          12.903473,
          12.903242,
          11.841461,
          11.666214,
          12.002554,
          11.965192,
          12.09489,
          12.066289,
          12.40276,
          12.0660095,
          11.7662945,
          11.646609,
          11.932265,
          12.621102,
          11.827313,
          12.150611,
          12.363999,
          12.278298,
          11.408945,
          11.467747,
          11.45078,
          12.352422,
          12.351515,
          12.370533,
          11.539556,
          12.53483,
          11.809075,
          14.172613,
          11.264832,
          14.004479,
          14.374355,
          12.496482,
          12.706998,
          12.511615,
          12.690033,
          11.719819,
          11.674819,
          12.428387,
          12.455707,
          12.413197,
          12.654251,
          12.51652,
          10.553352,
          11.230538,
          12.956101,
          12.406487,
          10.071228,
          11.409151,
          12.486607,
          11.075933,
          14.07258,
          14.085027,
          13.830715,
          13.287939,
          13.290088,
          13.237814,
          13.283476,
          13.573162,
          13.243871,
          13.233024,
          13.25856,
          13.347696,
          13.289625,
          13.166759,
          13.274743,
          14.214474,
          13.186206,
          13.136358,
          13.122108,
          13.429115,
          11.786677,
          11.781176,
          11.781831,
          11.681997,
          11.711283,
          13.595953,
          11.358766,
          14.252381
         ],
         "xaxis": "x",
         "y": [
          2.8463328,
          2.806925,
          2.6632617,
          2.7055094,
          2.814425,
          2.814562,
          2.8599715,
          0.8663134,
          2.7735147,
          2.805732,
          2.7161572,
          0.8769672,
          2.5145712,
          2.513307,
          0.9090949,
          2.542522,
          2.5435624,
          2.5112336,
          2.530787,
          2.310396,
          2.4524543,
          2.5987751,
          2.4836621,
          2.5458124,
          2.500836,
          2.1822965,
          2.432458,
          2.3485134,
          0.33284906,
          2.393128,
          2.4141097,
          2.501315,
          0.28727788,
          2.3866096,
          2.3829749,
          2.4764702,
          1.9784228,
          1.9350973,
          2.0269563,
          1.9431876,
          1.9659846,
          1.939953,
          1.9276055,
          2.5551255,
          2.7748952,
          2.4587598,
          2.4282715,
          2.3689568,
          2.25271,
          1.9028176,
          2.1399834,
          2.4944575,
          2.7688885,
          1.9873432,
          1.9484738,
          2.1957924,
          2.1950314,
          2.207018,
          2.1316473,
          2.62102,
          2.3531063,
          2.3206024,
          2.392906,
          2.3792288,
          2.3949654,
          2.2793984,
          2.406969,
          2.4229932,
          1.3839875,
          2.2903793,
          3.350445,
          3.923707,
          2.0741684,
          2.2668257,
          2.0686681,
          2.2553756,
          2.6601293,
          2.0045733,
          3.09,
          3.0896008,
          3.0477352,
          2.9135144,
          3.1542144,
          1.0797609,
          1.0962282,
          2.3237252,
          3.1183975,
          0.13604301,
          0.8998101,
          3.2601542,
          -0.28229785,
          0.82295775,
          1.0735711,
          0.49334273,
          2.2217212,
          2.2281528,
          2.2513473,
          2.2262847,
          2.0748281,
          2.197452,
          2.3186522,
          2.2808301,
          2.252638,
          2.215589,
          2.2669983,
          2.2758706,
          1.2648964,
          3.7275903,
          3.4676247,
          3.6063643,
          4.0012565,
          0.87993157,
          0.78522074,
          0.7276447,
          0.70689136,
          0.77972955,
          2.3254874,
          0.91773605,
          1.268068
         ],
         "yaxis": "y"
        }
       ],
       "layout": {
        "height": 700,
        "legend": {
         "title": {
          "text": "highlight"
         },
         "tracegroupgap": 0
        },
        "template": {
         "data": {
          "bar": [
           {
            "error_x": {
             "color": "#2a3f5f"
            },
            "error_y": {
             "color": "#2a3f5f"
            },
            "marker": {
             "line": {
              "color": "white",
              "width": 0.5
             },
             "pattern": {
              "fillmode": "overlay",
              "size": 10,
              "solidity": 0.2
             }
            },
            "type": "bar"
           }
          ],
          "barpolar": [
           {
            "marker": {
             "line": {
              "color": "white",
              "width": 0.5
             },
             "pattern": {
              "fillmode": "overlay",
              "size": 10,
              "solidity": 0.2
             }
            },
            "type": "barpolar"
           }
          ],
          "carpet": [
           {
            "aaxis": {
             "endlinecolor": "#2a3f5f",
             "gridcolor": "#C8D4E3",
             "linecolor": "#C8D4E3",
             "minorgridcolor": "#C8D4E3",
             "startlinecolor": "#2a3f5f"
            },
            "baxis": {
             "endlinecolor": "#2a3f5f",
             "gridcolor": "#C8D4E3",
             "linecolor": "#C8D4E3",
             "minorgridcolor": "#C8D4E3",
             "startlinecolor": "#2a3f5f"
            },
            "type": "carpet"
           }
          ],
          "choropleth": [
           {
            "colorbar": {
             "outlinewidth": 0,
             "ticks": ""
            },
            "type": "choropleth"
           }
          ],
          "contour": [
           {
            "colorbar": {
             "outlinewidth": 0,
             "ticks": ""
            },
            "colorscale": [
             [
              0,
              "#0d0887"
             ],
             [
              0.1111111111111111,
              "#46039f"
             ],
             [
              0.2222222222222222,
              "#7201a8"
             ],
             [
              0.3333333333333333,
              "#9c179e"
             ],
             [
              0.4444444444444444,
              "#bd3786"
             ],
             [
              0.5555555555555556,
              "#d8576b"
             ],
             [
              0.6666666666666666,
              "#ed7953"
             ],
             [
              0.7777777777777778,
              "#fb9f3a"
             ],
             [
              0.8888888888888888,
              "#fdca26"
             ],
             [
              1,
              "#f0f921"
             ]
            ],
            "type": "contour"
           }
          ],
          "contourcarpet": [
           {
            "colorbar": {
             "outlinewidth": 0,
             "ticks": ""
            },
            "type": "contourcarpet"
           }
          ],
          "heatmap": [
           {
            "colorbar": {
             "outlinewidth": 0,
             "ticks": ""
            },
            "colorscale": [
             [
              0,
              "#0d0887"
             ],
             [
              0.1111111111111111,
              "#46039f"
             ],
             [
              0.2222222222222222,
              "#7201a8"
             ],
             [
              0.3333333333333333,
              "#9c179e"
             ],
             [
              0.4444444444444444,
              "#bd3786"
             ],
             [
              0.5555555555555556,
              "#d8576b"
             ],
             [
              0.6666666666666666,
              "#ed7953"
             ],
             [
              0.7777777777777778,
              "#fb9f3a"
             ],
             [
              0.8888888888888888,
              "#fdca26"
             ],
             [
              1,
              "#f0f921"
             ]
            ],
            "type": "heatmap"
           }
          ],
          "heatmapgl": [
           {
            "colorbar": {
             "outlinewidth": 0,
             "ticks": ""
            },
            "colorscale": [
             [
              0,
              "#0d0887"
             ],
             [
              0.1111111111111111,
              "#46039f"
             ],
             [
              0.2222222222222222,
              "#7201a8"
             ],
             [
              0.3333333333333333,
              "#9c179e"
             ],
             [
              0.4444444444444444,
              "#bd3786"
             ],
             [
              0.5555555555555556,
              "#d8576b"
             ],
             [
              0.6666666666666666,
              "#ed7953"
             ],
             [
              0.7777777777777778,
              "#fb9f3a"
             ],
             [
              0.8888888888888888,
              "#fdca26"
             ],
             [
              1,
              "#f0f921"
             ]
            ],
            "type": "heatmapgl"
           }
          ],
          "histogram": [
           {
            "marker": {
             "pattern": {
              "fillmode": "overlay",
              "size": 10,
              "solidity": 0.2
             }
            },
            "type": "histogram"
           }
          ],
          "histogram2d": [
           {
            "colorbar": {
             "outlinewidth": 0,
             "ticks": ""
            },
            "colorscale": [
             [
              0,
              "#0d0887"
             ],
             [
              0.1111111111111111,
              "#46039f"
             ],
             [
              0.2222222222222222,
              "#7201a8"
             ],
             [
              0.3333333333333333,
              "#9c179e"
             ],
             [
              0.4444444444444444,
              "#bd3786"
             ],
             [
              0.5555555555555556,
              "#d8576b"
             ],
             [
              0.6666666666666666,
              "#ed7953"
             ],
             [
              0.7777777777777778,
              "#fb9f3a"
             ],
             [
              0.8888888888888888,
              "#fdca26"
             ],
             [
              1,
              "#f0f921"
             ]
            ],
            "type": "histogram2d"
           }
          ],
          "histogram2dcontour": [
           {
            "colorbar": {
             "outlinewidth": 0,
             "ticks": ""
            },
            "colorscale": [
             [
              0,
              "#0d0887"
             ],
             [
              0.1111111111111111,
              "#46039f"
             ],
             [
              0.2222222222222222,
              "#7201a8"
             ],
             [
              0.3333333333333333,
              "#9c179e"
             ],
             [
              0.4444444444444444,
              "#bd3786"
             ],
             [
              0.5555555555555556,
              "#d8576b"
             ],
             [
              0.6666666666666666,
              "#ed7953"
             ],
             [
              0.7777777777777778,
              "#fb9f3a"
             ],
             [
              0.8888888888888888,
              "#fdca26"
             ],
             [
              1,
              "#f0f921"
             ]
            ],
            "type": "histogram2dcontour"
           }
          ],
          "mesh3d": [
           {
            "colorbar": {
             "outlinewidth": 0,
             "ticks": ""
            },
            "type": "mesh3d"
           }
          ],
          "parcoords": [
           {
            "line": {
             "colorbar": {
              "outlinewidth": 0,
              "ticks": ""
             }
            },
            "type": "parcoords"
           }
          ],
          "pie": [
           {
            "automargin": true,
            "type": "pie"
           }
          ],
          "scatter": [
           {
            "fillpattern": {
             "fillmode": "overlay",
             "size": 10,
             "solidity": 0.2
            },
            "type": "scatter"
           }
          ],
          "scatter3d": [
           {
            "line": {
             "colorbar": {
              "outlinewidth": 0,
              "ticks": ""
             }
            },
            "marker": {
             "colorbar": {
              "outlinewidth": 0,
              "ticks": ""
             }
            },
            "type": "scatter3d"
           }
          ],
          "scattercarpet": [
           {
            "marker": {
             "colorbar": {
              "outlinewidth": 0,
              "ticks": ""
             }
            },
            "type": "scattercarpet"
           }
          ],
          "scattergeo": [
           {
            "marker": {
             "colorbar": {
              "outlinewidth": 0,
              "ticks": ""
             }
            },
            "type": "scattergeo"
           }
          ],
          "scattergl": [
           {
            "marker": {
             "colorbar": {
              "outlinewidth": 0,
              "ticks": ""
             }
            },
            "type": "scattergl"
           }
          ],
          "scattermapbox": [
           {
            "marker": {
             "colorbar": {
              "outlinewidth": 0,
              "ticks": ""
             }
            },
            "type": "scattermapbox"
           }
          ],
          "scatterpolar": [
           {
            "marker": {
             "colorbar": {
              "outlinewidth": 0,
              "ticks": ""
             }
            },
            "type": "scatterpolar"
           }
          ],
          "scatterpolargl": [
           {
            "marker": {
             "colorbar": {
              "outlinewidth": 0,
              "ticks": ""
             }
            },
            "type": "scatterpolargl"
           }
          ],
          "scatterternary": [
           {
            "marker": {
             "colorbar": {
              "outlinewidth": 0,
              "ticks": ""
             }
            },
            "type": "scatterternary"
           }
          ],
          "surface": [
           {
            "colorbar": {
             "outlinewidth": 0,
             "ticks": ""
            },
            "colorscale": [
             [
              0,
              "#0d0887"
             ],
             [
              0.1111111111111111,
              "#46039f"
             ],
             [
              0.2222222222222222,
              "#7201a8"
             ],
             [
              0.3333333333333333,
              "#9c179e"
             ],
             [
              0.4444444444444444,
              "#bd3786"
             ],
             [
              0.5555555555555556,
              "#d8576b"
             ],
             [
              0.6666666666666666,
              "#ed7953"
             ],
             [
              0.7777777777777778,
              "#fb9f3a"
             ],
             [
              0.8888888888888888,
              "#fdca26"
             ],
             [
              1,
              "#f0f921"
             ]
            ],
            "type": "surface"
           }
          ],
          "table": [
           {
            "cells": {
             "fill": {
              "color": "#EBF0F8"
             },
             "line": {
              "color": "white"
             }
            },
            "header": {
             "fill": {
              "color": "#C8D4E3"
             },
             "line": {
              "color": "white"
             }
            },
            "type": "table"
           }
          ]
         },
         "layout": {
          "annotationdefaults": {
           "arrowcolor": "#2a3f5f",
           "arrowhead": 0,
           "arrowwidth": 1
          },
          "autotypenumbers": "strict",
          "coloraxis": {
           "colorbar": {
            "outlinewidth": 0,
            "ticks": ""
           }
          },
          "colorscale": {
           "diverging": [
            [
             0,
             "#8e0152"
            ],
            [
             0.1,
             "#c51b7d"
            ],
            [
             0.2,
             "#de77ae"
            ],
            [
             0.3,
             "#f1b6da"
            ],
            [
             0.4,
             "#fde0ef"
            ],
            [
             0.5,
             "#f7f7f7"
            ],
            [
             0.6,
             "#e6f5d0"
            ],
            [
             0.7,
             "#b8e186"
            ],
            [
             0.8,
             "#7fbc41"
            ],
            [
             0.9,
             "#4d9221"
            ],
            [
             1,
             "#276419"
            ]
           ],
           "sequential": [
            [
             0,
             "#0d0887"
            ],
            [
             0.1111111111111111,
             "#46039f"
            ],
            [
             0.2222222222222222,
             "#7201a8"
            ],
            [
             0.3333333333333333,
             "#9c179e"
            ],
            [
             0.4444444444444444,
             "#bd3786"
            ],
            [
             0.5555555555555556,
             "#d8576b"
            ],
            [
             0.6666666666666666,
             "#ed7953"
            ],
            [
             0.7777777777777778,
             "#fb9f3a"
            ],
            [
             0.8888888888888888,
             "#fdca26"
            ],
            [
             1,
             "#f0f921"
            ]
           ],
           "sequentialminus": [
            [
             0,
             "#0d0887"
            ],
            [
             0.1111111111111111,
             "#46039f"
            ],
            [
             0.2222222222222222,
             "#7201a8"
            ],
            [
             0.3333333333333333,
             "#9c179e"
            ],
            [
             0.4444444444444444,
             "#bd3786"
            ],
            [
             0.5555555555555556,
             "#d8576b"
            ],
            [
             0.6666666666666666,
             "#ed7953"
            ],
            [
             0.7777777777777778,
             "#fb9f3a"
            ],
            [
             0.8888888888888888,
             "#fdca26"
            ],
            [
             1,
             "#f0f921"
            ]
           ]
          },
          "colorway": [
           "#636efa",
           "#EF553B",
           "#00cc96",
           "#ab63fa",
           "#FFA15A",
           "#19d3f3",
           "#FF6692",
           "#B6E880",
           "#FF97FF",
           "#FECB52"
          ],
          "font": {
           "color": "#2a3f5f"
          },
          "geo": {
           "bgcolor": "white",
           "lakecolor": "white",
           "landcolor": "white",
           "showlakes": true,
           "showland": true,
           "subunitcolor": "#C8D4E3"
          },
          "hoverlabel": {
           "align": "left"
          },
          "hovermode": "closest",
          "mapbox": {
           "style": "light"
          },
          "paper_bgcolor": "white",
          "plot_bgcolor": "white",
          "polar": {
           "angularaxis": {
            "gridcolor": "#EBF0F8",
            "linecolor": "#EBF0F8",
            "ticks": ""
           },
           "bgcolor": "white",
           "radialaxis": {
            "gridcolor": "#EBF0F8",
            "linecolor": "#EBF0F8",
            "ticks": ""
           }
          },
          "scene": {
           "xaxis": {
            "backgroundcolor": "white",
            "gridcolor": "#DFE8F3",
            "gridwidth": 2,
            "linecolor": "#EBF0F8",
            "showbackground": true,
            "ticks": "",
            "zerolinecolor": "#EBF0F8"
           },
           "yaxis": {
            "backgroundcolor": "white",
            "gridcolor": "#DFE8F3",
            "gridwidth": 2,
            "linecolor": "#EBF0F8",
            "showbackground": true,
            "ticks": "",
            "zerolinecolor": "#EBF0F8"
           },
           "zaxis": {
            "backgroundcolor": "white",
            "gridcolor": "#DFE8F3",
            "gridwidth": 2,
            "linecolor": "#EBF0F8",
            "showbackground": true,
            "ticks": "",
            "zerolinecolor": "#EBF0F8"
           }
          },
          "shapedefaults": {
           "line": {
            "color": "#2a3f5f"
           }
          },
          "ternary": {
           "aaxis": {
            "gridcolor": "#DFE8F3",
            "linecolor": "#A2B1C6",
            "ticks": ""
           },
           "baxis": {
            "gridcolor": "#DFE8F3",
            "linecolor": "#A2B1C6",
            "ticks": ""
           },
           "bgcolor": "white",
           "caxis": {
            "gridcolor": "#DFE8F3",
            "linecolor": "#A2B1C6",
            "ticks": ""
           }
          },
          "title": {
           "x": 0.05
          },
          "xaxis": {
           "automargin": true,
           "gridcolor": "#EBF0F8",
           "linecolor": "#EBF0F8",
           "ticks": "",
           "title": {
            "standoff": 15
           },
           "zerolinecolor": "#EBF0F8",
           "zerolinewidth": 2
          },
          "yaxis": {
           "automargin": true,
           "gridcolor": "#EBF0F8",
           "linecolor": "#EBF0F8",
           "ticks": "",
           "title": {
            "standoff": 15
           },
           "zerolinecolor": "#EBF0F8",
           "zerolinewidth": 2
          }
         }
        },
        "title": {
         "text": "Interactive Tooth and Mouth Disorders"
        },
        "width": 900,
        "xaxis": {
         "anchor": "y",
         "domain": [
          0,
          1
         ],
         "title": {
          "text": "UMAP 1 (Digestive)"
         }
        },
        "yaxis": {
         "anchor": "x",
         "domain": [
          0,
          1
         ],
         "title": {
          "text": "UMAP 2 (Digestive)"
         }
        }
       }
      },
      "text/html": [
       "<div>                            <div id=\"38ba0a91-7287-4068-ad5d-f9fa62d450a7\" class=\"plotly-graph-div\" style=\"height:700px; width:900px;\"></div>            <script type=\"text/javascript\">                require([\"plotly\"], function(Plotly) {                    window.PLOTLYENV=window.PLOTLYENV || {};                                    if (document.getElementById(\"38ba0a91-7287-4068-ad5d-f9fa62d450a7\")) {                    Plotly.newPlot(                        \"38ba0a91-7287-4068-ad5d-f9fa62d450a7\",                        [{\"customdata\":[[\"Disorders of tooth development\",\"teeth\"],[\"Hereditary disturbances in tooth structure\",\"teeth\"],[\"Disturbances in tooth eruption\",\"teeth\"],[\"Diseases of hard tissues of teeth\",\"teeth\"],[\"Dental caries\",\"teeth\"],[\"Dental abrasion, erosion and attrition\",\"teeth\"],[\"Tooth complications likely association with other diseases\",\"teeth\"],[\"Diseases of pulp and periapical tissues\",\"teeth\"],[\"Pulpitis and necrosis of tooth pulp\",\"teeth\"],[\"Periapical abscess\",\"teeth\"],[\"Gingival and periodontal diseases\",\"teeth\"],[\"Gingivitis\",\"teeth\"],[\"Periodontitis (acute or chronic)\",\"teeth\"],[\"Acute periodontitis\",\"teeth\"],[\"Chronic periodontitis\",\"teeth\"],[\"Dentofacial anomalies, including malocclusion\",\"teeth\"],[\"Anomalies of tooth position\\u002fmalocclusion\",\"teeth\"],[\"Other diseases of the teeth and supporting structures\",\"teeth\"],[\"Loss of teeth or edentulism\",\"teeth\"],[\"Atrophy of edentulous alveolar ridge\",\"teeth\"],[\"Diseases of the jaws\",\"teeth\"],[\"Cysts of the jaws\",\"teeth\"],[\"Anomalies of jaw size\\u002fsymmetry\",\"teeth\"],[\"Temporomandibular joint disorders\",\"teeth\"],[\"Temporomandibular joint disorder, unspecified\",\"teeth\"],[\"Arthralgia\\u002fankylosis of temporomandibular joint\",\"teeth\"],[\"Inflammatory conditions of jaw\",\"teeth\"],[\"Exostosis of jaw\",\"teeth\"],[\"Jaw disease NOS\",\"teeth\"],[\"Diseases of the salivary glands\",\"mouth\"],[\"Hypertrophy of salivary gland\",\"mouth\"],[\"Sialoadenitis\",\"mouth\"],[\"Disturbance of salivary secretion\",\"mouth\"],[\"Other specified diseases of the salivary glands\",\"mouth\"],[\"Diseases of the oral soft tissues, excluding lesions specific for gingiva and tongue\",\"mouth\"],[\"Stomatitis and mucositis\",\"mouth\"],[\"Stomatitis and mucositis (ulcerative)\",\"mouth\"],[\"Oral aphthae\",\"mouth\"],[\"Cellulitis and abscess of oral soft tissues\",\"mouth\"],[\"Cysts of oral soft tissues\",\"mouth\"],[\"Cyst of the salivary gland\",\"mouth\"],[\"Diseases of lips\",\"mouth\"],[\"Leukoplakia of oral mucosa\",\"mouth\"],[\"Sialolithiasis\",\"mouth\"],[\"Diseases and other conditions of the tongue\",\"mouth\"],[\"Glossitis\",\"mouth\"],[\"Glossodynia\",\"mouth\"]],\"hovertemplate\":\"highlight=True\\u003cbr\\u003eUMAP_1=%{x}\\u003cbr\\u003eUMAP_2=%{y}\\u003cbr\\u003ephenotype=%{customdata[0]}\\u003cbr\\u003ecategory=%{customdata[1]}\\u003cextra\\u003e\\u003c\\u002fextra\\u003e\",\"legendgroup\":\"True\",\"marker\":{\"color\":\"#D04848\",\"opacity\":0.7,\"symbol\":\"circle\",\"line\":{\"color\":\"white\",\"width\":1},\"size\":7},\"mode\":\"markers\",\"name\":\"True\",\"orientation\":\"v\",\"showlegend\":true,\"x\":[12.843326,12.908388,12.90748,12.892418,12.946482,12.928417,12.92249,12.890549,12.882347,12.759845,12.948122,12.9768915,12.7771845,12.790361,12.825554,12.840672,12.84403,12.911312,12.910738,12.877992,12.7683115,12.9631815,12.851359,10.850549,10.759581,10.7519045,12.562827,12.621896,11.564546,12.815485,13.013627,12.731808,12.883156,12.786776,13.060073,13.070244,12.929602,13.170418,12.464097,13.181399,13.0554285,13.336275,13.467405,12.885223,13.178607,13.0355835,12.985704],\"xaxis\":\"x\",\"y\":[5.8070045,5.786859,5.7451744,5.8332634,5.8435497,5.828349,5.8276005,5.895766,5.895272,6.0270143,5.8637753,5.73955,5.9531856,5.9341874,5.9090676,5.6649423,5.6397734,5.807018,5.8423424,5.857924,5.5726953,5.232188,5.503843,6.105066,6.1548123,6.209869,5.5865493,5.5774484,5.7139783,4.9099083,4.868456,4.806136,4.946983,4.9278083,5.635545,5.408201,5.2781577,5.343979,6.433947,5.127637,4.884621,5.2053986,5.23224,4.8783507,5.2366214,5.2872114,5.0357594],\"yaxis\":\"y\",\"type\":\"scatter\"},{\"customdata\":[[\"Diseases of esophagus\",\"Esophageal\"],[\"Esophagitis, GERD and related diseases\",\"Esophageal\"],[\"GERD\",\"Esophageal\"],[\"Ulcer of esophagus\",\"Esophageal\"],[\"Barrett's esophagus\",\"Esophageal\"],[\"Reflux esophagitis\",\"Esophageal\"],[\"Eosinophilic esophagitis\",\"Esophageal\"],[\"Esophageal bleeding (varices\\u002fhemorrhage)\",\"Esophageal\"],[\"Stricture and stenosis of esophagus\",\"Esophageal\"],[\"Disorders of esophageal motility\",\"Esophageal\"],[\"Diverticulum of esophagus, acquired\",\"Esophageal\"],[\"Gastroesophageal laceration-hemorrhage syndrome\",\"Esophageal\"],[\"Heartburn\",\"Esophageal\"],[\"Peptic ulcer (excl. esophageal)\",\"Gastro ulcer\"],[\"Hemorrhage from gastrointestinal ulcer\",\"Gastro ulcer\"],[\"Gastric ulcer\",\"Gastro ulcer\"],[\"Duodenal ulcer\",\"Gastro ulcer\"],[\"Peptic ulcer, site unspecified\",\"Gastro ulcer\"],[\"Gastrojejunal ulcer\",\"Gastro ulcer\"],[\"Dysphagia\",\"Esophageal\"],[\"Gastritis and duodenitis\",\"stomach\"],[\"Acute gastritis\",\"stomach\"],[\"Atrophic gastritis\",\"stomach\"],[\"Duodenitis\",\"stomach\"],[\"Other specified gastritis\",\"stomach\"],[\"Gastritis and duodenitis, NOS\",\"stomach\"],[\"Disorders of function of stomach\",\"stomach\"],[\"Gastroparesis\",\"stomach\"],[\"Complications of gastrostomy, colostomy and enterostomy\",\"stomach\"],[\"Dyspepsia and other specified disorders of function of stomach\",\"stomach\"],[\"Other disorders of stomach and duodenum\",\"stomach\"],[\"Lesions of stomach and duodenum\",\"stomach\"],[\"Bariatric surgery\",\"Bariatric\"],[\"Appendiceal conditions\",\"Appendiceal\"],[\"Appendicitis\",\"Appendiceal\"],[\"Acute appendicitis\",\"Appendiceal\"],[\"Abdominal hernia\",\"hernia\"],[\"Inguinal hernia\",\"hernia\"],[\"Diaphragmatic hernia\",\"hernia\"],[\"Femoral hernia\",\"hernia\"],[\"Umbilical hernia\",\"hernia\"],[\"Ventral hernia\",\"hernia\"],[\"Incisional hernia\",\"hernia\"],[\"Inflammatory bowel disease and other gastroenteritis and colitis\",\"Noninfective\"],[\"Regional enteritis\",\"Noninfective\"],[\"Ulcerative colitis\",\"Noninfective\"],[\"Ulcerative colitis (chronic)\",\"Noninfective\"],[\"Ulceration of the lower GI tract\",\"Noninfective\"],[\"Ulceration of intestine\",\"Noninfective\"],[\"Angiodysplasia of intestine (without mention of hemorrhage)\",\"Noninfective\"],[\"Intestinal malabsorption (non-celiac)\",\"Noninfective\"],[\"Celiac disease\",\"Noninfective\"],[\"Noninfectious gastroenteritis\",\"Noninfective\"],[\"Ileostomy status\",\"Noninfective\"],[\"Intestinal obstruction without mention of hernia\",\"Noninfective\"],[\"Paralytic ileus\",\"Noninfective\"],[\"Impaction of intestine\",\"Noninfective\"],[\"Peritoneal or intestinal adhesions\",\"Noninfective\"],[\"Other intestinal obstruction\",\"Noninfective\"],[\"Symptoms involving digestive system\",\"Noninfective\"],[\"Diarrhea\",\"Noninfective\"],[\"Flatulence\",\"Noninfective\"],[\"Diverticulosis and diverticulitis\",\"Noninfective\"],[\"Diverticulosis\",\"Noninfective\"],[\"Diverticulitis\",\"Noninfective\"],[\"Constipation\",\"Noninfective\"],[\"Functional digestive disorders\",\"Noninfective\"],[\"Irritable Bowel Syndrome\",\"Noninfective\"],[\"Abnormal findings on exam of gastrointestinal tract\\u002f abdominal area\",\"Noninfective\"],[\"Personal history of diseases of digestive system\",\"Noninfective\"],[\"Anal and rectal conditions\",\"Other\"],[\"Anal and rectal polyp\",\"Other\"],[\"Peritonitis and retroperitoneal infections\",\"Other\"],[\"Other disorders of peritoneum\",\"Other\"],[\"Peritoneal adhesions (postoperative) (postinfection)\",\"Other\"],[\"Other disorders of intestine\",\"Other\"],[\"Toxic gastroenteritis and colitis\",\"Other\"],[\"Gastrointestinal complications\",\"Other\"],[\"Chronic liver disease and cirrhosis\",\"Liver\"],[\"Other chronic nonalcoholic liver disease\",\"Liver\"],[\"Cirrhosis of liver without mention of alcohol\",\"Liver\"],[\"Primary biliary cirrhosis\",\"Liver\"],[\"Liver abscess and sequelae of chronic liver disease\",\"Liver\"],[\"Portal hypertension\",\"Liver\"],[\"Ascites (non malignant)\",\"Liver\"],[\"Other disorders of liver\",\"Liver\"],[\"Chronic passive congestion of liver\",\"Liver\"],[\"Liver replaced by transplant\",\"Liver\"],[\"Hepatomegaly\",\"Liver\"],[\"Acute and subacute necrosis of liver\",\"Liver\"],[\"Jaundice (not of newborn)\",\"Liver\"],[\"Nonspecific elevation of levels of transaminase or lactic acid dehydrogenase [LDH]\",\"Liver\"],[\"Abnormal results of function study of liver\",\"Liver\"],[\"Abnormal serum enzyme levels\",\"Liver\"],[\"Cholelithiasis and cholecystitis\",\"Biliary\"],[\"Cholelithiasis\",\"Biliary\"],[\"Cholelithiasis with acute cholecystitis\",\"Biliary\"],[\"Cholelithiasis with other cholecystitis\",\"Biliary\"],[\"Calculus of bile duct\",\"Biliary\"],[\"Cholecystitis without cholelithiasis\",\"Biliary\"],[\"Other biliary tract disease\",\"Biliary\"],[\"Cholangitis\",\"Biliary\"],[\"Obstruction of bile duct\",\"Biliary\"],[\"Cholesterolosis of gallbladder\",\"Biliary\"],[\"Other disorders of gallbladder\",\"Biliary\"],[\"Other disorders of biliary tract\",\"Biliary\"],[\"Nonspecific abnormal findings on radiological and other examination of biliary tract\",\"Biliary\"],[\"Diseases of pancreas\",\"Pancreatic\"],[\"Acute pancreatitis\",\"Pancreatic\"],[\"Chronic pancreatitis\",\"Pancreatic\"],[\"Cyst and pseudocyst of pancreas\",\"Pancreatic\"],[\"Gastrointestinal hemorrhage\",\"Other\"],[\"Hematemesis\",\"Other\"],[\"Blood in stool\",\"Other\"],[\"Hemorrhage of rectum and anus\",\"Other\"],[\"Hemorrhage of gastrointestinal tract\",\"Other\"],[\"Other symptoms involving abdomen and pelvis\",\"Other\"],[\"Splenomegaly\",\"Other\"],[\"Nonspecific abnormal findings in stool contents\",\"Other\"]],\"hovertemplate\":\"highlight=False\\u003cbr\\u003eUMAP_1=%{x}\\u003cbr\\u003eUMAP_2=%{y}\\u003cbr\\u003ephenotype=%{customdata[0]}\\u003cbr\\u003ecategory=%{customdata[1]}\\u003cextra\\u003e\\u003c\\u002fextra\\u003e\",\"legendgroup\":\"False\",\"marker\":{\"color\":\"gray\",\"opacity\":0.7,\"symbol\":\"circle\",\"line\":{\"color\":\"white\",\"width\":1},\"size\":7},\"mode\":\"markers\",\"name\":\"False\",\"orientation\":\"v\",\"showlegend\":true,\"x\":[12.493873,12.448925,12.091774,12.371579,12.4159975,12.338035,12.419395,11.778246,12.505438,12.552059,12.775002,11.8155575,11.428215,12.197688,11.791296,12.128147,12.149895,12.112752,12.157811,11.889009,12.216449,12.201153,12.163759,12.389466,12.191698,11.974789,12.523682,12.017342,10.846435,12.448867,12.666751,12.394616,12.022727,12.758513,12.734633,12.777444,12.85928,12.925973,12.895736,12.895677,12.900248,12.903473,12.903242,11.841461,11.666214,12.002554,11.965192,12.09489,12.066289,12.40276,12.0660095,11.7662945,11.646609,11.932265,12.621102,11.827313,12.150611,12.363999,12.278298,11.408945,11.467747,11.45078,12.352422,12.351515,12.370533,11.539556,12.53483,11.809075,14.172613,11.264832,14.004479,14.374355,12.496482,12.706998,12.511615,12.690033,11.719819,11.674819,12.428387,12.455707,12.413197,12.654251,12.51652,10.553352,11.230538,12.956101,12.406487,10.071228,11.409151,12.486607,11.075933,14.07258,14.085027,13.830715,13.287939,13.290088,13.237814,13.283476,13.573162,13.243871,13.233024,13.25856,13.347696,13.289625,13.166759,13.274743,14.214474,13.186206,13.136358,13.122108,13.429115,11.786677,11.781176,11.781831,11.681997,11.711283,13.595953,11.358766,14.252381],\"xaxis\":\"x\",\"y\":[2.8463328,2.806925,2.6632617,2.7055094,2.814425,2.814562,2.8599715,0.8663134,2.7735147,2.805732,2.7161572,0.8769672,2.5145712,2.513307,0.9090949,2.542522,2.5435624,2.5112336,2.530787,2.310396,2.4524543,2.5987751,2.4836621,2.5458124,2.500836,2.1822965,2.432458,2.3485134,0.33284906,2.393128,2.4141097,2.501315,0.28727788,2.3866096,2.3829749,2.4764702,1.9784228,1.9350973,2.0269563,1.9431876,1.9659846,1.939953,1.9276055,2.5551255,2.7748952,2.4587598,2.4282715,2.3689568,2.25271,1.9028176,2.1399834,2.4944575,2.7688885,1.9873432,1.9484738,2.1957924,2.1950314,2.207018,2.1316473,2.62102,2.3531063,2.3206024,2.392906,2.3792288,2.3949654,2.2793984,2.406969,2.4229932,1.3839875,2.2903793,3.350445,3.923707,2.0741684,2.2668257,2.0686681,2.2553756,2.6601293,2.0045733,3.09,3.0896008,3.0477352,2.9135144,3.1542144,1.0797609,1.0962282,2.3237252,3.1183975,0.13604301,0.8998101,3.2601542,-0.28229785,0.82295775,1.0735711,0.49334273,2.2217212,2.2281528,2.2513473,2.2262847,2.0748281,2.197452,2.3186522,2.2808301,2.252638,2.215589,2.2669983,2.2758706,1.2648964,3.7275903,3.4676247,3.6063643,4.0012565,0.87993157,0.78522074,0.7276447,0.70689136,0.77972955,2.3254874,0.91773605,1.268068],\"yaxis\":\"y\",\"type\":\"scatter\"}],                        {\"template\":{\"data\":{\"barpolar\":[{\"marker\":{\"line\":{\"color\":\"white\",\"width\":0.5},\"pattern\":{\"fillmode\":\"overlay\",\"size\":10,\"solidity\":0.2}},\"type\":\"barpolar\"}],\"bar\":[{\"error_x\":{\"color\":\"#2a3f5f\"},\"error_y\":{\"color\":\"#2a3f5f\"},\"marker\":{\"line\":{\"color\":\"white\",\"width\":0.5},\"pattern\":{\"fillmode\":\"overlay\",\"size\":10,\"solidity\":0.2}},\"type\":\"bar\"}],\"carpet\":[{\"aaxis\":{\"endlinecolor\":\"#2a3f5f\",\"gridcolor\":\"#C8D4E3\",\"linecolor\":\"#C8D4E3\",\"minorgridcolor\":\"#C8D4E3\",\"startlinecolor\":\"#2a3f5f\"},\"baxis\":{\"endlinecolor\":\"#2a3f5f\",\"gridcolor\":\"#C8D4E3\",\"linecolor\":\"#C8D4E3\",\"minorgridcolor\":\"#C8D4E3\",\"startlinecolor\":\"#2a3f5f\"},\"type\":\"carpet\"}],\"choropleth\":[{\"colorbar\":{\"outlinewidth\":0,\"ticks\":\"\"},\"type\":\"choropleth\"}],\"contourcarpet\":[{\"colorbar\":{\"outlinewidth\":0,\"ticks\":\"\"},\"type\":\"contourcarpet\"}],\"contour\":[{\"colorbar\":{\"outlinewidth\":0,\"ticks\":\"\"},\"colorscale\":[[0.0,\"#0d0887\"],[0.1111111111111111,\"#46039f\"],[0.2222222222222222,\"#7201a8\"],[0.3333333333333333,\"#9c179e\"],[0.4444444444444444,\"#bd3786\"],[0.5555555555555556,\"#d8576b\"],[0.6666666666666666,\"#ed7953\"],[0.7777777777777778,\"#fb9f3a\"],[0.8888888888888888,\"#fdca26\"],[1.0,\"#f0f921\"]],\"type\":\"contour\"}],\"heatmapgl\":[{\"colorbar\":{\"outlinewidth\":0,\"ticks\":\"\"},\"colorscale\":[[0.0,\"#0d0887\"],[0.1111111111111111,\"#46039f\"],[0.2222222222222222,\"#7201a8\"],[0.3333333333333333,\"#9c179e\"],[0.4444444444444444,\"#bd3786\"],[0.5555555555555556,\"#d8576b\"],[0.6666666666666666,\"#ed7953\"],[0.7777777777777778,\"#fb9f3a\"],[0.8888888888888888,\"#fdca26\"],[1.0,\"#f0f921\"]],\"type\":\"heatmapgl\"}],\"heatmap\":[{\"colorbar\":{\"outlinewidth\":0,\"ticks\":\"\"},\"colorscale\":[[0.0,\"#0d0887\"],[0.1111111111111111,\"#46039f\"],[0.2222222222222222,\"#7201a8\"],[0.3333333333333333,\"#9c179e\"],[0.4444444444444444,\"#bd3786\"],[0.5555555555555556,\"#d8576b\"],[0.6666666666666666,\"#ed7953\"],[0.7777777777777778,\"#fb9f3a\"],[0.8888888888888888,\"#fdca26\"],[1.0,\"#f0f921\"]],\"type\":\"heatmap\"}],\"histogram2dcontour\":[{\"colorbar\":{\"outlinewidth\":0,\"ticks\":\"\"},\"colorscale\":[[0.0,\"#0d0887\"],[0.1111111111111111,\"#46039f\"],[0.2222222222222222,\"#7201a8\"],[0.3333333333333333,\"#9c179e\"],[0.4444444444444444,\"#bd3786\"],[0.5555555555555556,\"#d8576b\"],[0.6666666666666666,\"#ed7953\"],[0.7777777777777778,\"#fb9f3a\"],[0.8888888888888888,\"#fdca26\"],[1.0,\"#f0f921\"]],\"type\":\"histogram2dcontour\"}],\"histogram2d\":[{\"colorbar\":{\"outlinewidth\":0,\"ticks\":\"\"},\"colorscale\":[[0.0,\"#0d0887\"],[0.1111111111111111,\"#46039f\"],[0.2222222222222222,\"#7201a8\"],[0.3333333333333333,\"#9c179e\"],[0.4444444444444444,\"#bd3786\"],[0.5555555555555556,\"#d8576b\"],[0.6666666666666666,\"#ed7953\"],[0.7777777777777778,\"#fb9f3a\"],[0.8888888888888888,\"#fdca26\"],[1.0,\"#f0f921\"]],\"type\":\"histogram2d\"}],\"histogram\":[{\"marker\":{\"pattern\":{\"fillmode\":\"overlay\",\"size\":10,\"solidity\":0.2}},\"type\":\"histogram\"}],\"mesh3d\":[{\"colorbar\":{\"outlinewidth\":0,\"ticks\":\"\"},\"type\":\"mesh3d\"}],\"parcoords\":[{\"line\":{\"colorbar\":{\"outlinewidth\":0,\"ticks\":\"\"}},\"type\":\"parcoords\"}],\"pie\":[{\"automargin\":true,\"type\":\"pie\"}],\"scatter3d\":[{\"line\":{\"colorbar\":{\"outlinewidth\":0,\"ticks\":\"\"}},\"marker\":{\"colorbar\":{\"outlinewidth\":0,\"ticks\":\"\"}},\"type\":\"scatter3d\"}],\"scattercarpet\":[{\"marker\":{\"colorbar\":{\"outlinewidth\":0,\"ticks\":\"\"}},\"type\":\"scattercarpet\"}],\"scattergeo\":[{\"marker\":{\"colorbar\":{\"outlinewidth\":0,\"ticks\":\"\"}},\"type\":\"scattergeo\"}],\"scattergl\":[{\"marker\":{\"colorbar\":{\"outlinewidth\":0,\"ticks\":\"\"}},\"type\":\"scattergl\"}],\"scattermapbox\":[{\"marker\":{\"colorbar\":{\"outlinewidth\":0,\"ticks\":\"\"}},\"type\":\"scattermapbox\"}],\"scatterpolargl\":[{\"marker\":{\"colorbar\":{\"outlinewidth\":0,\"ticks\":\"\"}},\"type\":\"scatterpolargl\"}],\"scatterpolar\":[{\"marker\":{\"colorbar\":{\"outlinewidth\":0,\"ticks\":\"\"}},\"type\":\"scatterpolar\"}],\"scatter\":[{\"fillpattern\":{\"fillmode\":\"overlay\",\"size\":10,\"solidity\":0.2},\"type\":\"scatter\"}],\"scatterternary\":[{\"marker\":{\"colorbar\":{\"outlinewidth\":0,\"ticks\":\"\"}},\"type\":\"scatterternary\"}],\"surface\":[{\"colorbar\":{\"outlinewidth\":0,\"ticks\":\"\"},\"colorscale\":[[0.0,\"#0d0887\"],[0.1111111111111111,\"#46039f\"],[0.2222222222222222,\"#7201a8\"],[0.3333333333333333,\"#9c179e\"],[0.4444444444444444,\"#bd3786\"],[0.5555555555555556,\"#d8576b\"],[0.6666666666666666,\"#ed7953\"],[0.7777777777777778,\"#fb9f3a\"],[0.8888888888888888,\"#fdca26\"],[1.0,\"#f0f921\"]],\"type\":\"surface\"}],\"table\":[{\"cells\":{\"fill\":{\"color\":\"#EBF0F8\"},\"line\":{\"color\":\"white\"}},\"header\":{\"fill\":{\"color\":\"#C8D4E3\"},\"line\":{\"color\":\"white\"}},\"type\":\"table\"}]},\"layout\":{\"annotationdefaults\":{\"arrowcolor\":\"#2a3f5f\",\"arrowhead\":0,\"arrowwidth\":1},\"autotypenumbers\":\"strict\",\"coloraxis\":{\"colorbar\":{\"outlinewidth\":0,\"ticks\":\"\"}},\"colorscale\":{\"diverging\":[[0,\"#8e0152\"],[0.1,\"#c51b7d\"],[0.2,\"#de77ae\"],[0.3,\"#f1b6da\"],[0.4,\"#fde0ef\"],[0.5,\"#f7f7f7\"],[0.6,\"#e6f5d0\"],[0.7,\"#b8e186\"],[0.8,\"#7fbc41\"],[0.9,\"#4d9221\"],[1,\"#276419\"]],\"sequential\":[[0.0,\"#0d0887\"],[0.1111111111111111,\"#46039f\"],[0.2222222222222222,\"#7201a8\"],[0.3333333333333333,\"#9c179e\"],[0.4444444444444444,\"#bd3786\"],[0.5555555555555556,\"#d8576b\"],[0.6666666666666666,\"#ed7953\"],[0.7777777777777778,\"#fb9f3a\"],[0.8888888888888888,\"#fdca26\"],[1.0,\"#f0f921\"]],\"sequentialminus\":[[0.0,\"#0d0887\"],[0.1111111111111111,\"#46039f\"],[0.2222222222222222,\"#7201a8\"],[0.3333333333333333,\"#9c179e\"],[0.4444444444444444,\"#bd3786\"],[0.5555555555555556,\"#d8576b\"],[0.6666666666666666,\"#ed7953\"],[0.7777777777777778,\"#fb9f3a\"],[0.8888888888888888,\"#fdca26\"],[1.0,\"#f0f921\"]]},\"colorway\":[\"#636efa\",\"#EF553B\",\"#00cc96\",\"#ab63fa\",\"#FFA15A\",\"#19d3f3\",\"#FF6692\",\"#B6E880\",\"#FF97FF\",\"#FECB52\"],\"font\":{\"color\":\"#2a3f5f\"},\"geo\":{\"bgcolor\":\"white\",\"lakecolor\":\"white\",\"landcolor\":\"white\",\"showlakes\":true,\"showland\":true,\"subunitcolor\":\"#C8D4E3\"},\"hoverlabel\":{\"align\":\"left\"},\"hovermode\":\"closest\",\"mapbox\":{\"style\":\"light\"},\"paper_bgcolor\":\"white\",\"plot_bgcolor\":\"white\",\"polar\":{\"angularaxis\":{\"gridcolor\":\"#EBF0F8\",\"linecolor\":\"#EBF0F8\",\"ticks\":\"\"},\"bgcolor\":\"white\",\"radialaxis\":{\"gridcolor\":\"#EBF0F8\",\"linecolor\":\"#EBF0F8\",\"ticks\":\"\"}},\"scene\":{\"xaxis\":{\"backgroundcolor\":\"white\",\"gridcolor\":\"#DFE8F3\",\"gridwidth\":2,\"linecolor\":\"#EBF0F8\",\"showbackground\":true,\"ticks\":\"\",\"zerolinecolor\":\"#EBF0F8\"},\"yaxis\":{\"backgroundcolor\":\"white\",\"gridcolor\":\"#DFE8F3\",\"gridwidth\":2,\"linecolor\":\"#EBF0F8\",\"showbackground\":true,\"ticks\":\"\",\"zerolinecolor\":\"#EBF0F8\"},\"zaxis\":{\"backgroundcolor\":\"white\",\"gridcolor\":\"#DFE8F3\",\"gridwidth\":2,\"linecolor\":\"#EBF0F8\",\"showbackground\":true,\"ticks\":\"\",\"zerolinecolor\":\"#EBF0F8\"}},\"shapedefaults\":{\"line\":{\"color\":\"#2a3f5f\"}},\"ternary\":{\"aaxis\":{\"gridcolor\":\"#DFE8F3\",\"linecolor\":\"#A2B1C6\",\"ticks\":\"\"},\"baxis\":{\"gridcolor\":\"#DFE8F3\",\"linecolor\":\"#A2B1C6\",\"ticks\":\"\"},\"bgcolor\":\"white\",\"caxis\":{\"gridcolor\":\"#DFE8F3\",\"linecolor\":\"#A2B1C6\",\"ticks\":\"\"}},\"title\":{\"x\":0.05},\"xaxis\":{\"automargin\":true,\"gridcolor\":\"#EBF0F8\",\"linecolor\":\"#EBF0F8\",\"ticks\":\"\",\"title\":{\"standoff\":15},\"zerolinecolor\":\"#EBF0F8\",\"zerolinewidth\":2},\"yaxis\":{\"automargin\":true,\"gridcolor\":\"#EBF0F8\",\"linecolor\":\"#EBF0F8\",\"ticks\":\"\",\"title\":{\"standoff\":15},\"zerolinecolor\":\"#EBF0F8\",\"zerolinewidth\":2}}},\"xaxis\":{\"anchor\":\"y\",\"domain\":[0.0,1.0],\"title\":{\"text\":\"UMAP 1 (Digestive)\"}},\"yaxis\":{\"anchor\":\"x\",\"domain\":[0.0,1.0],\"title\":{\"text\":\"UMAP 2 (Digestive)\"}},\"legend\":{\"title\":{\"text\":\"highlight\"},\"tracegroupgap\":0},\"title\":{\"text\":\"Interactive Tooth and Mouth Disorders\"},\"height\":700,\"width\":900},                        {\"responsive\": true}                    ).then(function(){\n",
       "                            \n",
       "var gd = document.getElementById('38ba0a91-7287-4068-ad5d-f9fa62d450a7');\n",
       "var x = new MutationObserver(function (mutations, observer) {{\n",
       "        var display = window.getComputedStyle(gd).display;\n",
       "        if (!display || display === 'none') {{\n",
       "            console.log([gd, 'removed!']);\n",
       "            Plotly.purge(gd);\n",
       "            observer.disconnect();\n",
       "        }}\n",
       "}});\n",
       "\n",
       "// Listen for the removal of the full notebook cells\n",
       "var notebookContainer = gd.closest('#notebook-container');\n",
       "if (notebookContainer) {{\n",
       "    x.observe(notebookContainer, {childList: true});\n",
       "}}\n",
       "\n",
       "// Listen for the clearing of the current output cell\n",
       "var outputEl = gd.closest('.output');\n",
       "if (outputEl) {{\n",
       "    x.observe(outputEl, {childList: true});\n",
       "}}\n",
       "\n",
       "                        })                };                });            </script>        </div>"
      ]
     },
     "metadata": {},
     "output_type": "display_data"
    }
   ],
   "source": [
    "import plotly.express as px\n",
    "\n",
    "# Add a column to differentiate \"teeth\" and \"mouth\" categories from others\n",
    "local_embed_df['highlight'] = local_embed_df['category'].isin(['teeth', 'mouth'])\n",
    "\n",
    "# Create the scatter plot\n",
    "fig = px.scatter(\n",
    "    local_embed_df,\n",
    "    x='UMAP_1',\n",
    "    y='UMAP_2',\n",
    "    color='highlight',  # Highlight \"teeth\" and \"mouth\" points\n",
    "    hover_data={'phenotype': True, 'category': True},  # Show phenotype and category on hover\n",
    "    opacity=0.7,\n",
    "    title=\"Interactive Tooth and Mouth Disorders\",\n",
    "    color_discrete_map={True: '#D04848', False: 'gray'},  # Highlight \"teeth\" and \"mouth\" in red, others in gray\n",
    ")\n",
    "\n",
    "# Customize layout\n",
    "fig.update_traces(\n",
    "    marker=dict(size=7, line=dict(width=1, color='white')),  # Marker styling\n",
    ")\n",
    "\n",
    "fig.update_layout(\n",
    "    xaxis_title=\"UMAP 1 (Digestive)\",\n",
    "    yaxis_title=\"UMAP 2 (Digestive)\",\n",
    "    template=\"plotly_white\",\n",
    "    height=700,\n",
    "    width=900,\n",
    ")\n",
    "\n",
    "# Show the interactive plot\n",
    "fig.show()\n"
   ]
  },
  {
   "cell_type": "code",
   "execution_count": 74,
   "id": "8151ca23",
   "metadata": {},
   "outputs": [
    {
     "name": "stderr",
     "output_type": "stream",
     "text": [
      "/Users/ellenbowen/opt/anaconda3/envs/ehail/lib/python3.11/site-packages/seaborn/_oldcore.py:1498: FutureWarning:\n",
      "\n",
      "is_categorical_dtype is deprecated and will be removed in a future version. Use isinstance(dtype, CategoricalDtype) instead\n",
      "\n",
      "/Users/ellenbowen/opt/anaconda3/envs/ehail/lib/python3.11/site-packages/seaborn/_oldcore.py:1498: FutureWarning:\n",
      "\n",
      "is_categorical_dtype is deprecated and will be removed in a future version. Use isinstance(dtype, CategoricalDtype) instead\n",
      "\n",
      "/Users/ellenbowen/opt/anaconda3/envs/ehail/lib/python3.11/site-packages/seaborn/_oldcore.py:1498: FutureWarning:\n",
      "\n",
      "is_categorical_dtype is deprecated and will be removed in a future version. Use isinstance(dtype, CategoricalDtype) instead\n",
      "\n",
      "/Users/ellenbowen/opt/anaconda3/envs/ehail/lib/python3.11/site-packages/seaborn/_oldcore.py:1498: FutureWarning:\n",
      "\n",
      "is_categorical_dtype is deprecated and will be removed in a future version. Use isinstance(dtype, CategoricalDtype) instead\n",
      "\n"
     ]
    },
    {
     "data": {
      "image/png": "[encoded data removed]",
      "text/plain": [
       "<Figure size 475x425 with 1 Axes>"
      ]
     },
     "metadata": {},
     "output_type": "display_data"
    }
   ],
   "source": [
    "import matplotlib.pyplot as plt\n",
    "import matplotlib.ticker as plticker\n",
    "import seaborn as sns\n",
    "\n",
    "# Create the figure and axis\n",
    "fig, ax = plt.subplots(figsize=(4.75, 4.25))\n",
    "\n",
    "# Scatter plot for all points (gray background points)\n",
    "sns.scatterplot(\n",
    "    data=local_embed_df,\n",
    "    x='UMAP_1', y='UMAP_2', \n",
    "    alpha=0.5, s=70, linewidth=0.25, edgecolor='white',\n",
    "    color='gray', ax=ax\n",
    ")\n",
    "\n",
    "# Filter data for 'Liver' and 'Biliary' categories\n",
    "highlight_data = local_embed_df[local_embed_df['category'].isin(['Liver', 'Biliary'])]\n",
    "\n",
    "# Highlight points for 'Liver' and 'Biliary' categories (blue points)\n",
    "sns.scatterplot(\n",
    "    data=highlight_data,\n",
    "    x='UMAP_1', y='UMAP_2', \n",
    "    alpha=0.9, s=70, linewidth=0.25, edgecolor='white',\n",
    "    color='#125B9A', ax=ax\n",
    ")\n",
    "\n",
    "# Add labels and adjust plot limits\n",
    "plt.xlabel(\"UMAP 1 (Digestive)\")\n",
    "plt.ylabel(\"UMAP 2 (Digestive)\")\n",
    "plt.xlim(-5, 19)\n",
    "plt.ylim(-6, 15)\n",
    "\n",
    "# Set tick locators for axes\n",
    "loc = plticker.MultipleLocator(base=5.0)\n",
    "ax.yaxis.set_major_locator(loc)\n",
    "\n",
    "loc = plticker.MultipleLocator(base=3.0)\n",
    "ax.xaxis.set_major_locator(loc)\n",
    "\n",
    "# Remove top and right spines for cleaner aesthetics\n",
    "sns.despine(offset=2, trim=True)\n",
    "\n",
    "# Add title\n",
    "plt.title(\"Biliary System\")\n",
    "\n",
    "# Show the plot\n",
    "plt.show()\n"
   ]
  },
  {
   "cell_type": "code",
   "execution_count": 75,
   "id": "37f84b9f",
   "metadata": {},
   "outputs": [
    {
     "name": "stderr",
     "output_type": "stream",
     "text": [
      "/var/folders/pq/qx5x9fj10pj3v7hdcsd6qzz40000gn/T/ipykernel_38629/4213144935.py:4: SettingWithCopyWarning:\n",
      "\n",
      "\n",
      "A value is trying to be set on a copy of a slice from a DataFrame.\n",
      "Try using .loc[row_indexer,col_indexer] = value instead\n",
      "\n",
      "See the caveats in the documentation: https://pandas.pydata.org/pandas-docs/stable/user_guide/indexing.html#returning-a-view-versus-a-copy\n",
      "\n"
     ]
    },
    {
     "data": {
      "application/vnd.plotly.v1+json": {
       "config": {
        "plotlyServerURL": "https://plot.ly"
       },
       "data": [
        {
         "customdata": [
          [
           "Disorders of tooth development",
           "teeth"
          ],
          [
           "Hereditary disturbances in tooth structure",
           "teeth"
          ],
          [
           "Disturbances in tooth eruption",
           "teeth"
          ],
          [
           "Diseases of hard tissues of teeth",
           "teeth"
          ],
          [
           "Dental caries",
           "teeth"
          ],
          [
           "Dental abrasion, erosion and attrition",
           "teeth"
          ],
          [
           "Tooth complications likely association with other diseases",
           "teeth"
          ],
          [
           "Diseases of pulp and periapical tissues",
           "teeth"
          ],
          [
           "Pulpitis and necrosis of tooth pulp",
           "teeth"
          ],
          [
           "Periapical abscess",
           "teeth"
          ],
          [
           "Gingival and periodontal diseases",
           "teeth"
          ],
          [
           "Gingivitis",
           "teeth"
          ],
          [
           "Periodontitis (acute or chronic)",
           "teeth"
          ],
          [
           "Acute periodontitis",
           "teeth"
          ],
          [
           "Chronic periodontitis",
           "teeth"
          ],
          [
           "Dentofacial anomalies, including malocclusion",
           "teeth"
          ],
          [
           "Anomalies of tooth position/malocclusion",
           "teeth"
          ],
          [
           "Other diseases of the teeth and supporting structures",
           "teeth"
          ],
          [
           "Loss of teeth or edentulism",
           "teeth"
          ],
          [
           "Atrophy of edentulous alveolar ridge",
           "teeth"
          ],
          [
           "Diseases of the jaws",
           "teeth"
          ],
          [
           "Cysts of the jaws",
           "teeth"
          ],
          [
           "Anomalies of jaw size/symmetry",
           "teeth"
          ],
          [
           "Temporomandibular joint disorders",
           "teeth"
          ],
          [
           "Temporomandibular joint disorder, unspecified",
           "teeth"
          ],
          [
           "Arthralgia/ankylosis of temporomandibular joint",
           "teeth"
          ],
          [
           "Inflammatory conditions of jaw",
           "teeth"
          ],
          [
           "Exostosis of jaw",
           "teeth"
          ],
          [
           "Jaw disease NOS",
           "teeth"
          ],
          [
           "Diseases of the salivary glands",
           "mouth"
          ],
          [
           "Hypertrophy of salivary gland",
           "mouth"
          ],
          [
           "Sialoadenitis",
           "mouth"
          ],
          [
           "Disturbance of salivary secretion",
           "mouth"
          ],
          [
           "Other specified diseases of the salivary glands",
           "mouth"
          ],
          [
           "Diseases of the oral soft tissues, excluding lesions specific for gingiva and tongue",
           "mouth"
          ],
          [
           "Stomatitis and mucositis",
           "mouth"
          ],
          [
           "Stomatitis and mucositis (ulcerative)",
           "mouth"
          ],
          [
           "Oral aphthae",
           "mouth"
          ],
          [
           "Cellulitis and abscess of oral soft tissues",
           "mouth"
          ],
          [
           "Cysts of oral soft tissues",
           "mouth"
          ],
          [
           "Cyst of the salivary gland",
           "mouth"
          ],
          [
           "Diseases of lips",
           "mouth"
          ],
          [
           "Leukoplakia of oral mucosa",
           "mouth"
          ],
          [
           "Sialolithiasis",
           "mouth"
          ],
          [
           "Diseases and other conditions of the tongue",
           "mouth"
          ],
          [
           "Glossitis",
           "mouth"
          ],
          [
           "Glossodynia",
           "mouth"
          ],
          [
           "Diseases of esophagus",
           "Esophageal"
          ],
          [
           "Esophagitis, GERD and related diseases",
           "Esophageal"
          ],
          [
           "GERD",
           "Esophageal"
          ],
          [
           "Ulcer of esophagus",
           "Esophageal"
          ],
          [
           "Barrett's esophagus",
           "Esophageal"
          ],
          [
           "Reflux esophagitis",
           "Esophageal"
          ],
          [
           "Eosinophilic esophagitis",
           "Esophageal"
          ],
          [
           "Esophageal bleeding (varices/hemorrhage)",
           "Esophageal"
          ],
          [
           "Stricture and stenosis of esophagus",
           "Esophageal"
          ],
          [
           "Disorders of esophageal motility",
           "Esophageal"
          ],
          [
           "Diverticulum of esophagus, acquired",
           "Esophageal"
          ],
          [
           "Gastroesophageal laceration-hemorrhage syndrome",
           "Esophageal"
          ],
          [
           "Heartburn",
           "Esophageal"
          ],
          [
           "Peptic ulcer (excl. esophageal)",
           "Gastro ulcer"
          ],
          [
           "Hemorrhage from gastrointestinal ulcer",
           "Gastro ulcer"
          ],
          [
           "Gastric ulcer",
           "Gastro ulcer"
          ],
          [
           "Duodenal ulcer",
           "Gastro ulcer"
          ],
          [
           "Peptic ulcer, site unspecified",
           "Gastro ulcer"
          ],
          [
           "Gastrojejunal ulcer",
           "Gastro ulcer"
          ],
          [
           "Dysphagia",
           "Esophageal"
          ],
          [
           "Gastritis and duodenitis",
           "stomach"
          ],
          [
           "Acute gastritis",
           "stomach"
          ],
          [
           "Atrophic gastritis",
           "stomach"
          ],
          [
           "Duodenitis",
           "stomach"
          ],
          [
           "Other specified gastritis",
           "stomach"
          ],
          [
           "Gastritis and duodenitis, NOS",
           "stomach"
          ],
          [
           "Disorders of function of stomach",
           "stomach"
          ],
          [
           "Gastroparesis",
           "stomach"
          ],
          [
           "Complications of gastrostomy, colostomy and enterostomy",
           "stomach"
          ],
          [
           "Dyspepsia and other specified disorders of function of stomach",
           "stomach"
          ],
          [
           "Other disorders of stomach and duodenum",
           "stomach"
          ],
          [
           "Lesions of stomach and duodenum",
           "stomach"
          ],
          [
           "Bariatric surgery",
           "Bariatric"
          ],
          [
           "Appendiceal conditions",
           "Appendiceal"
          ],
          [
           "Appendicitis",
           "Appendiceal"
          ],
          [
           "Acute appendicitis",
           "Appendiceal"
          ],
          [
           "Abdominal hernia",
           "hernia"
          ],
          [
           "Inguinal hernia",
           "hernia"
          ],
          [
           "Diaphragmatic hernia",
           "hernia"
          ],
          [
           "Femoral hernia",
           "hernia"
          ],
          [
           "Umbilical hernia",
           "hernia"
          ],
          [
           "Ventral hernia",
           "hernia"
          ],
          [
           "Incisional hernia",
           "hernia"
          ],
          [
           "Inflammatory bowel disease and other gastroenteritis and colitis",
           "Noninfective"
          ],
          [
           "Regional enteritis",
           "Noninfective"
          ],
          [
           "Ulcerative colitis",
           "Noninfective"
          ],
          [
           "Ulcerative colitis (chronic)",
           "Noninfective"
          ],
          [
           "Ulceration of the lower GI tract",
           "Noninfective"
          ],
          [
           "Ulceration of intestine",
           "Noninfective"
          ],
          [
           "Angiodysplasia of intestine (without mention of hemorrhage)",
           "Noninfective"
          ],
          [
           "Intestinal malabsorption (non-celiac)",
           "Noninfective"
          ],
          [
           "Celiac disease",
           "Noninfective"
          ],
          [
           "Noninfectious gastroenteritis",
           "Noninfective"
          ],
          [
           "Ileostomy status",
           "Noninfective"
          ],
          [
           "Intestinal obstruction without mention of hernia",
           "Noninfective"
          ],
          [
           "Paralytic ileus",
           "Noninfective"
          ],
          [
           "Impaction of intestine",
           "Noninfective"
          ],
          [
           "Peritoneal or intestinal adhesions",
           "Noninfective"
          ],
          [
           "Other intestinal obstruction",
           "Noninfective"
          ],
          [
           "Symptoms involving digestive system",
           "Noninfective"
          ],
          [
           "Diarrhea",
           "Noninfective"
          ],
          [
           "Flatulence",
           "Noninfective"
          ],
          [
           "Diverticulosis and diverticulitis",
           "Noninfective"
          ],
          [
           "Diverticulosis",
           "Noninfective"
          ],
          [
           "Diverticulitis",
           "Noninfective"
          ],
          [
           "Constipation",
           "Noninfective"
          ],
          [
           "Functional digestive disorders",
           "Noninfective"
          ],
          [
           "Irritable Bowel Syndrome",
           "Noninfective"
          ],
          [
           "Abnormal findings on exam of gastrointestinal tract/ abdominal area",
           "Noninfective"
          ],
          [
           "Personal history of diseases of digestive system",
           "Noninfective"
          ],
          [
           "Anal and rectal conditions",
           "Other"
          ],
          [
           "Anal and rectal polyp",
           "Other"
          ],
          [
           "Peritonitis and retroperitoneal infections",
           "Other"
          ],
          [
           "Other disorders of peritoneum",
           "Other"
          ],
          [
           "Peritoneal adhesions (postoperative) (postinfection)",
           "Other"
          ],
          [
           "Other disorders of intestine",
           "Other"
          ],
          [
           "Toxic gastroenteritis and colitis",
           "Other"
          ],
          [
           "Gastrointestinal complications",
           "Other"
          ],
          [
           "Diseases of pancreas",
           "Pancreatic"
          ],
          [
           "Acute pancreatitis",
           "Pancreatic"
          ],
          [
           "Chronic pancreatitis",
           "Pancreatic"
          ],
          [
           "Cyst and pseudocyst of pancreas",
           "Pancreatic"
          ],
          [
           "Gastrointestinal hemorrhage",
           "Other"
          ],
          [
           "Hematemesis",
           "Other"
          ],
          [
           "Blood in stool",
           "Other"
          ],
          [
           "Hemorrhage of rectum and anus",
           "Other"
          ],
          [
           "Hemorrhage of gastrointestinal tract",
           "Other"
          ],
          [
           "Other symptoms involving abdomen and pelvis",
           "Other"
          ],
          [
           "Splenomegaly",
           "Other"
          ],
          [
           "Nonspecific abnormal findings in stool contents",
           "Other"
          ]
         ],
         "hovertemplate": "highlight=False<br>UMAP_1=%{x}<br>UMAP_2=%{y}<br>phenotype=%{customdata[0]}<br>category=%{customdata[1]}<extra></extra>",
         "legendgroup": "False",
         "marker": {
          "color": "gray",
          "line": {
           "color": "white",
           "width": 1
          },
          "opacity": 0.7,
          "size": 7,
          "symbol": "circle"
         },
         "mode": "markers",
         "name": "False",
         "orientation": "v",
         "showlegend": true,
         "type": "scatter",
         "x": [
          12.843326,
          12.908388,
          12.90748,
          12.892418,
          12.946482,
          12.928417,
          12.92249,
          12.890549,
          12.882347,
          12.759845,
          12.948122,
          12.9768915,
          12.7771845,
          12.790361,
          12.825554,
          12.840672,
          12.84403,
          12.911312,
          12.910738,
          12.877992,
          12.7683115,
          12.9631815,
          12.851359,
          10.850549,
          10.759581,
          10.7519045,
          12.562827,
          12.621896,
          11.564546,
          12.815485,
          13.013627,
          12.731808,
          12.883156,
          12.786776,
          13.060073,
          13.070244,
          12.929602,
          13.170418,
          12.464097,
          13.181399,
          13.0554285,
          13.336275,
          13.467405,
          12.885223,
          13.178607,
          13.0355835,
          12.985704,
          12.493873,
          12.448925,
          12.091774,
          12.371579,
          12.4159975,
          12.338035,
          12.419395,
          11.778246,
          12.505438,
          12.552059,
          12.775002,
          11.8155575,
          11.428215,
          12.197688,
          11.791296,
          12.128147,
          12.149895,
          12.112752,
          12.157811,
          11.889009,
          12.216449,
          12.201153,
          12.163759,
          12.389466,
          12.191698,
          11.974789,
          12.523682,
          12.017342,
          10.846435,
          12.448867,
          12.666751,
          12.394616,
          12.022727,
          12.758513,
          12.734633,
          12.777444,
          12.85928,
          12.925973,
          12.895736,
          12.895677,
          12.900248,
          12.903473,
          12.903242,
          11.841461,
          11.666214,
          12.002554,
          11.965192,
          12.09489,
          12.066289,
          12.40276,
          12.0660095,
          11.7662945,
          11.646609,
          11.932265,
          12.621102,
          11.827313,
          12.150611,
          12.363999,
          12.278298,
          11.408945,
          11.467747,
          11.45078,
          12.352422,
          12.351515,
          12.370533,
          11.539556,
          12.53483,
          11.809075,
          14.172613,
          11.264832,
          14.004479,
          14.374355,
          12.496482,
          12.706998,
          12.511615,
          12.690033,
          11.719819,
          11.674819,
          13.186206,
          13.136358,
          13.122108,
          13.429115,
          11.786677,
          11.781176,
          11.781831,
          11.681997,
          11.711283,
          13.595953,
          11.358766,
          14.252381
         ],
         "xaxis": "x",
         "y": [
          5.8070045,
          5.786859,
          5.7451744,
          5.8332634,
          5.8435497,
          5.828349,
          5.8276005,
          5.895766,
          5.895272,
          6.0270143,
          5.8637753,
          5.73955,
          5.9531856,
          5.9341874,
          5.9090676,
          5.6649423,
          5.6397734,
          5.807018,
          5.8423424,
          5.857924,
          5.5726953,
          5.232188,
          5.503843,
          6.105066,
          6.1548123,
          6.209869,
          5.5865493,
          5.5774484,
          5.7139783,
          4.9099083,
          4.868456,
          4.806136,
          4.946983,
          4.9278083,
          5.635545,
          5.408201,
          5.2781577,
          5.343979,
          6.433947,
          5.127637,
          4.884621,
          5.2053986,
          5.23224,
          4.8783507,
          5.2366214,
          5.2872114,
          5.0357594,
          2.8463328,
          2.806925,
          2.6632617,
          2.7055094,
          2.814425,
          2.814562,
          2.8599715,
          0.8663134,
          2.7735147,
          2.805732,
          2.7161572,
          0.8769672,
          2.5145712,
          2.513307,
          0.9090949,
          2.542522,
          2.5435624,
          2.5112336,
          2.530787,
          2.310396,
          2.4524543,
          2.5987751,
          2.4836621,
          2.5458124,
          2.500836,
          2.1822965,
          2.432458,
          2.3485134,
          0.33284906,
          2.393128,
          2.4141097,
          2.501315,
          0.28727788,
          2.3866096,
          2.3829749,
          2.4764702,
          1.9784228,
          1.9350973,
          2.0269563,
          1.9431876,
          1.9659846,
          1.939953,
          1.9276055,
          2.5551255,
          2.7748952,
          2.4587598,
          2.4282715,
          2.3689568,
          2.25271,
          1.9028176,
          2.1399834,
          2.4944575,
          2.7688885,
          1.9873432,
          1.9484738,
          2.1957924,
          2.1950314,
          2.207018,
          2.1316473,
          2.62102,
          2.3531063,
          2.3206024,
          2.392906,
          2.3792288,
          2.3949654,
          2.2793984,
          2.406969,
          2.4229932,
          1.3839875,
          2.2903793,
          3.350445,
          3.923707,
          2.0741684,
          2.2668257,
          2.0686681,
          2.2553756,
          2.6601293,
          2.0045733,
          3.7275903,
          3.4676247,
          3.6063643,
          4.0012565,
          0.87993157,
          0.78522074,
          0.7276447,
          0.70689136,
          0.77972955,
          2.3254874,
          0.91773605,
          1.268068
         ],
         "yaxis": "y"
        },
        {
         "customdata": [
          [
           "Chronic liver disease and cirrhosis",
           "Liver"
          ],
          [
           "Other chronic nonalcoholic liver disease",
           "Liver"
          ],
          [
           "Cirrhosis of liver without mention of alcohol",
           "Liver"
          ],
          [
           "Primary biliary cirrhosis",
           "Liver"
          ],
          [
           "Liver abscess and sequelae of chronic liver disease",
           "Liver"
          ],
          [
           "Portal hypertension",
           "Liver"
          ],
          [
           "Ascites (non malignant)",
           "Liver"
          ],
          [
           "Other disorders of liver",
           "Liver"
          ],
          [
           "Chronic passive congestion of liver",
           "Liver"
          ],
          [
           "Liver replaced by transplant",
           "Liver"
          ],
          [
           "Hepatomegaly",
           "Liver"
          ],
          [
           "Acute and subacute necrosis of liver",
           "Liver"
          ],
          [
           "Jaundice (not of newborn)",
           "Liver"
          ],
          [
           "Nonspecific elevation of levels of transaminase or lactic acid dehydrogenase [LDH]",
           "Liver"
          ],
          [
           "Abnormal results of function study of liver",
           "Liver"
          ],
          [
           "Abnormal serum enzyme levels",
           "Liver"
          ],
          [
           "Cholelithiasis and cholecystitis",
           "Biliary"
          ],
          [
           "Cholelithiasis",
           "Biliary"
          ],
          [
           "Cholelithiasis with acute cholecystitis",
           "Biliary"
          ],
          [
           "Cholelithiasis with other cholecystitis",
           "Biliary"
          ],
          [
           "Calculus of bile duct",
           "Biliary"
          ],
          [
           "Cholecystitis without cholelithiasis",
           "Biliary"
          ],
          [
           "Other biliary tract disease",
           "Biliary"
          ],
          [
           "Cholangitis",
           "Biliary"
          ],
          [
           "Obstruction of bile duct",
           "Biliary"
          ],
          [
           "Cholesterolosis of gallbladder",
           "Biliary"
          ],
          [
           "Other disorders of gallbladder",
           "Biliary"
          ],
          [
           "Other disorders of biliary tract",
           "Biliary"
          ],
          [
           "Nonspecific abnormal findings on radiological and other examination of biliary tract",
           "Biliary"
          ]
         ],
         "hovertemplate": "highlight=True<br>UMAP_1=%{x}<br>UMAP_2=%{y}<br>phenotype=%{customdata[0]}<br>category=%{customdata[1]}<extra></extra>",
         "legendgroup": "True",
         "marker": {
          "color": "#125B9A",
          "line": {
           "color": "white",
           "width": 1
          },
          "opacity": 0.7,
          "size": 7,
          "symbol": "circle"
         },
         "mode": "markers",
         "name": "True",
         "orientation": "v",
         "showlegend": true,
         "type": "scatter",
         "x": [
          12.428387,
          12.455707,
          12.413197,
          12.654251,
          12.51652,
          10.553352,
          11.230538,
          12.956101,
          12.406487,
          10.071228,
          11.409151,
          12.486607,
          11.075933,
          14.07258,
          14.085027,
          13.830715,
          13.287939,
          13.290088,
          13.237814,
          13.283476,
          13.573162,
          13.243871,
          13.233024,
          13.25856,
          13.347696,
          13.289625,
          13.166759,
          13.274743,
          14.214474
         ],
         "xaxis": "x",
         "y": [
          3.09,
          3.0896008,
          3.0477352,
          2.9135144,
          3.1542144,
          1.0797609,
          1.0962282,
          2.3237252,
          3.1183975,
          0.13604301,
          0.8998101,
          3.2601542,
          -0.28229785,
          0.82295775,
          1.0735711,
          0.49334273,
          2.2217212,
          2.2281528,
          2.2513473,
          2.2262847,
          2.0748281,
          2.197452,
          2.3186522,
          2.2808301,
          2.252638,
          2.215589,
          2.2669983,
          2.2758706,
          1.2648964
         ],
         "yaxis": "y"
        }
       ],
       "layout": {
        "height": 700,
        "legend": {
         "title": {
          "text": "highlight"
         },
         "tracegroupgap": 0
        },
        "template": {
         "data": {
          "bar": [
           {
            "error_x": {
             "color": "#2a3f5f"
            },
            "error_y": {
             "color": "#2a3f5f"
            },
            "marker": {
             "line": {
              "color": "white",
              "width": 0.5
             },
             "pattern": {
              "fillmode": "overlay",
              "size": 10,
              "solidity": 0.2
             }
            },
            "type": "bar"
           }
          ],
          "barpolar": [
           {
            "marker": {
             "line": {
              "color": "white",
              "width": 0.5
             },
             "pattern": {
              "fillmode": "overlay",
              "size": 10,
              "solidity": 0.2
             }
            },
            "type": "barpolar"
           }
          ],
          "carpet": [
           {
            "aaxis": {
             "endlinecolor": "#2a3f5f",
             "gridcolor": "#C8D4E3",
             "linecolor": "#C8D4E3",
             "minorgridcolor": "#C8D4E3",
             "startlinecolor": "#2a3f5f"
            },
            "baxis": {
             "endlinecolor": "#2a3f5f",
             "gridcolor": "#C8D4E3",
             "linecolor": "#C8D4E3",
             "minorgridcolor": "#C8D4E3",
             "startlinecolor": "#2a3f5f"
            },
            "type": "carpet"
           }
          ],
          "choropleth": [
           {
            "colorbar": {
             "outlinewidth": 0,
             "ticks": ""
            },
            "type": "choropleth"
           }
          ],
          "contour": [
           {
            "colorbar": {
             "outlinewidth": 0,
             "ticks": ""
            },
            "colorscale": [
             [
              0,
              "#0d0887"
             ],
             [
              0.1111111111111111,
              "#46039f"
             ],
             [
              0.2222222222222222,
              "#7201a8"
             ],
             [
              0.3333333333333333,
              "#9c179e"
             ],
             [
              0.4444444444444444,
              "#bd3786"
             ],
             [
              0.5555555555555556,
              "#d8576b"
             ],
             [
              0.6666666666666666,
              "#ed7953"
             ],
             [
              0.7777777777777778,
              "#fb9f3a"
             ],
             [
              0.8888888888888888,
              "#fdca26"
             ],
             [
              1,
              "#f0f921"
             ]
            ],
            "type": "contour"
           }
          ],
          "contourcarpet": [
           {
            "colorbar": {
             "outlinewidth": 0,
             "ticks": ""
            },
            "type": "contourcarpet"
           }
          ],
          "heatmap": [
           {
            "colorbar": {
             "outlinewidth": 0,
             "ticks": ""
            },
            "colorscale": [
             [
              0,
              "#0d0887"
             ],
             [
              0.1111111111111111,
              "#46039f"
             ],
             [
              0.2222222222222222,
              "#7201a8"
             ],
             [
              0.3333333333333333,
              "#9c179e"
             ],
             [
              0.4444444444444444,
              "#bd3786"
             ],
             [
              0.5555555555555556,
              "#d8576b"
             ],
             [
              0.6666666666666666,
              "#ed7953"
             ],
             [
              0.7777777777777778,
              "#fb9f3a"
             ],
             [
              0.8888888888888888,
              "#fdca26"
             ],
             [
              1,
              "#f0f921"
             ]
            ],
            "type": "heatmap"
           }
          ],
          "heatmapgl": [
           {
            "colorbar": {
             "outlinewidth": 0,
             "ticks": ""
            },
            "colorscale": [
             [
              0,
              "#0d0887"
             ],
             [
              0.1111111111111111,
              "#46039f"
             ],
             [
              0.2222222222222222,
              "#7201a8"
             ],
             [
              0.3333333333333333,
              "#9c179e"
             ],
             [
              0.4444444444444444,
              "#bd3786"
             ],
             [
              0.5555555555555556,
              "#d8576b"
             ],
             [
              0.6666666666666666,
              "#ed7953"
             ],
             [
              0.7777777777777778,
              "#fb9f3a"
             ],
             [
              0.8888888888888888,
              "#fdca26"
             ],
             [
              1,
              "#f0f921"
             ]
            ],
            "type": "heatmapgl"
           }
          ],
          "histogram": [
           {
            "marker": {
             "pattern": {
              "fillmode": "overlay",
              "size": 10,
              "solidity": 0.2
             }
            },
            "type": "histogram"
           }
          ],
          "histogram2d": [
           {
            "colorbar": {
             "outlinewidth": 0,
             "ticks": ""
            },
            "colorscale": [
             [
              0,
              "#0d0887"
             ],
             [
              0.1111111111111111,
              "#46039f"
             ],
             [
              0.2222222222222222,
              "#7201a8"
             ],
             [
              0.3333333333333333,
              "#9c179e"
             ],
             [
              0.4444444444444444,
              "#bd3786"
             ],
             [
              0.5555555555555556,
              "#d8576b"
             ],
             [
              0.6666666666666666,
              "#ed7953"
             ],
             [
              0.7777777777777778,
              "#fb9f3a"
             ],
             [
              0.8888888888888888,
              "#fdca26"
             ],
             [
              1,
              "#f0f921"
             ]
            ],
            "type": "histogram2d"
           }
          ],
          "histogram2dcontour": [
           {
            "colorbar": {
             "outlinewidth": 0,
             "ticks": ""
            },
            "colorscale": [
             [
              0,
              "#0d0887"
             ],
             [
              0.1111111111111111,
              "#46039f"
             ],
             [
              0.2222222222222222,
              "#7201a8"
             ],
             [
              0.3333333333333333,
              "#9c179e"
             ],
             [
              0.4444444444444444,
              "#bd3786"
             ],
             [
              0.5555555555555556,
              "#d8576b"
             ],
             [
              0.6666666666666666,
              "#ed7953"
             ],
             [
              0.7777777777777778,
              "#fb9f3a"
             ],
             [
              0.8888888888888888,
              "#fdca26"
             ],
             [
              1,
              "#f0f921"
             ]
            ],
            "type": "histogram2dcontour"
           }
          ],
          "mesh3d": [
           {
            "colorbar": {
             "outlinewidth": 0,
             "ticks": ""
            },
            "type": "mesh3d"
           }
          ],
          "parcoords": [
           {
            "line": {
             "colorbar": {
              "outlinewidth": 0,
              "ticks": ""
             }
            },
            "type": "parcoords"
           }
          ],
          "pie": [
           {
            "automargin": true,
            "type": "pie"
           }
          ],
          "scatter": [
           {
            "fillpattern": {
             "fillmode": "overlay",
             "size": 10,
             "solidity": 0.2
            },
            "type": "scatter"
           }
          ],
          "scatter3d": [
           {
            "line": {
             "colorbar": {
              "outlinewidth": 0,
              "ticks": ""
             }
            },
            "marker": {
             "colorbar": {
              "outlinewidth": 0,
              "ticks": ""
             }
            },
            "type": "scatter3d"
           }
          ],
          "scattercarpet": [
           {
            "marker": {
             "colorbar": {
              "outlinewidth": 0,
              "ticks": ""
             }
            },
            "type": "scattercarpet"
           }
          ],
          "scattergeo": [
           {
            "marker": {
             "colorbar": {
              "outlinewidth": 0,
              "ticks": ""
             }
            },
            "type": "scattergeo"
           }
          ],
          "scattergl": [
           {
            "marker": {
             "colorbar": {
              "outlinewidth": 0,
              "ticks": ""
             }
            },
            "type": "scattergl"
           }
          ],
          "scattermapbox": [
           {
            "marker": {
             "colorbar": {
              "outlinewidth": 0,
              "ticks": ""
             }
            },
            "type": "scattermapbox"
           }
          ],
          "scatterpolar": [
           {
            "marker": {
             "colorbar": {
              "outlinewidth": 0,
              "ticks": ""
             }
            },
            "type": "scatterpolar"
           }
          ],
          "scatterpolargl": [
           {
            "marker": {
             "colorbar": {
              "outlinewidth": 0,
              "ticks": ""
             }
            },
            "type": "scatterpolargl"
           }
          ],
          "scatterternary": [
           {
            "marker": {
             "colorbar": {
              "outlinewidth": 0,
              "ticks": ""
             }
            },
            "type": "scatterternary"
           }
          ],
          "surface": [
           {
            "colorbar": {
             "outlinewidth": 0,
             "ticks": ""
            },
            "colorscale": [
             [
              0,
              "#0d0887"
             ],
             [
              0.1111111111111111,
              "#46039f"
             ],
             [
              0.2222222222222222,
              "#7201a8"
             ],
             [
              0.3333333333333333,
              "#9c179e"
             ],
             [
              0.4444444444444444,
              "#bd3786"
             ],
             [
              0.5555555555555556,
              "#d8576b"
             ],
             [
              0.6666666666666666,
              "#ed7953"
             ],
             [
              0.7777777777777778,
              "#fb9f3a"
             ],
             [
              0.8888888888888888,
              "#fdca26"
             ],
             [
              1,
              "#f0f921"
             ]
            ],
            "type": "surface"
           }
          ],
          "table": [
           {
            "cells": {
             "fill": {
              "color": "#EBF0F8"
             },
             "line": {
              "color": "white"
             }
            },
            "header": {
             "fill": {
              "color": "#C8D4E3"
             },
             "line": {
              "color": "white"
             }
            },
            "type": "table"
           }
          ]
         },
         "layout": {
          "annotationdefaults": {
           "arrowcolor": "#2a3f5f",
           "arrowhead": 0,
           "arrowwidth": 1
          },
          "autotypenumbers": "strict",
          "coloraxis": {
           "colorbar": {
            "outlinewidth": 0,
            "ticks": ""
           }
          },
          "colorscale": {
           "diverging": [
            [
             0,
             "#8e0152"
            ],
            [
             0.1,
             "#c51b7d"
            ],
            [
             0.2,
             "#de77ae"
            ],
            [
             0.3,
             "#f1b6da"
            ],
            [
             0.4,
             "#fde0ef"
            ],
            [
             0.5,
             "#f7f7f7"
            ],
            [
             0.6,
             "#e6f5d0"
            ],
            [
             0.7,
             "#b8e186"
            ],
            [
             0.8,
             "#7fbc41"
            ],
            [
             0.9,
             "#4d9221"
            ],
            [
             1,
             "#276419"
            ]
           ],
           "sequential": [
            [
             0,
             "#0d0887"
            ],
            [
             0.1111111111111111,
             "#46039f"
            ],
            [
             0.2222222222222222,
             "#7201a8"
            ],
            [
             0.3333333333333333,
             "#9c179e"
            ],
            [
             0.4444444444444444,
             "#bd3786"
            ],
            [
             0.5555555555555556,
             "#d8576b"
            ],
            [
             0.6666666666666666,
             "#ed7953"
            ],
            [
             0.7777777777777778,
             "#fb9f3a"
            ],
            [
             0.8888888888888888,
             "#fdca26"
            ],
            [
             1,
             "#f0f921"
            ]
           ],
           "sequentialminus": [
            [
             0,
             "#0d0887"
            ],
            [
             0.1111111111111111,
             "#46039f"
            ],
            [
             0.2222222222222222,
             "#7201a8"
            ],
            [
             0.3333333333333333,
             "#9c179e"
            ],
            [
             0.4444444444444444,
             "#bd3786"
            ],
            [
             0.5555555555555556,
             "#d8576b"
            ],
            [
             0.6666666666666666,
             "#ed7953"
            ],
            [
             0.7777777777777778,
             "#fb9f3a"
            ],
            [
             0.8888888888888888,
             "#fdca26"
            ],
            [
             1,
             "#f0f921"
            ]
           ]
          },
          "colorway": [
           "#636efa",
           "#EF553B",
           "#00cc96",
           "#ab63fa",
           "#FFA15A",
           "#19d3f3",
           "#FF6692",
           "#B6E880",
           "#FF97FF",
           "#FECB52"
          ],
          "font": {
           "color": "#2a3f5f"
          },
          "geo": {
           "bgcolor": "white",
           "lakecolor": "white",
           "landcolor": "white",
           "showlakes": true,
           "showland": true,
           "subunitcolor": "#C8D4E3"
          },
          "hoverlabel": {
           "align": "left"
          },
          "hovermode": "closest",
          "mapbox": {
           "style": "light"
          },
          "paper_bgcolor": "white",
          "plot_bgcolor": "white",
          "polar": {
           "angularaxis": {
            "gridcolor": "#EBF0F8",
            "linecolor": "#EBF0F8",
            "ticks": ""
           },
           "bgcolor": "white",
           "radialaxis": {
            "gridcolor": "#EBF0F8",
            "linecolor": "#EBF0F8",
            "ticks": ""
           }
          },
          "scene": {
           "xaxis": {
            "backgroundcolor": "white",
            "gridcolor": "#DFE8F3",
            "gridwidth": 2,
            "linecolor": "#EBF0F8",
            "showbackground": true,
            "ticks": "",
            "zerolinecolor": "#EBF0F8"
           },
           "yaxis": {
            "backgroundcolor": "white",
            "gridcolor": "#DFE8F3",
            "gridwidth": 2,
            "linecolor": "#EBF0F8",
            "showbackground": true,
            "ticks": "",
            "zerolinecolor": "#EBF0F8"
           },
           "zaxis": {
            "backgroundcolor": "white",
            "gridcolor": "#DFE8F3",
            "gridwidth": 2,
            "linecolor": "#EBF0F8",
            "showbackground": true,
            "ticks": "",
            "zerolinecolor": "#EBF0F8"
           }
          },
          "shapedefaults": {
           "line": {
            "color": "#2a3f5f"
           }
          },
          "ternary": {
           "aaxis": {
            "gridcolor": "#DFE8F3",
            "linecolor": "#A2B1C6",
            "ticks": ""
           },
           "baxis": {
            "gridcolor": "#DFE8F3",
            "linecolor": "#A2B1C6",
            "ticks": ""
           },
           "bgcolor": "white",
           "caxis": {
            "gridcolor": "#DFE8F3",
            "linecolor": "#A2B1C6",
            "ticks": ""
           }
          },
          "title": {
           "x": 0.05
          },
          "xaxis": {
           "automargin": true,
           "gridcolor": "#EBF0F8",
           "linecolor": "#EBF0F8",
           "ticks": "",
           "title": {
            "standoff": 15
           },
           "zerolinecolor": "#EBF0F8",
           "zerolinewidth": 2
          },
          "yaxis": {
           "automargin": true,
           "gridcolor": "#EBF0F8",
           "linecolor": "#EBF0F8",
           "ticks": "",
           "title": {
            "standoff": 15
           },
           "zerolinecolor": "#EBF0F8",
           "zerolinewidth": 2
          }
         }
        },
        "title": {
         "text": "Interactive Biliary Disorders"
        },
        "width": 900,
        "xaxis": {
         "anchor": "y",
         "domain": [
          0,
          1
         ],
         "title": {
          "text": "UMAP 1 (Digestive)"
         }
        },
        "yaxis": {
         "anchor": "x",
         "domain": [
          0,
          1
         ],
         "title": {
          "text": "UMAP 2 (Digestive)"
         }
        }
       }
      },
      "text/html": [
       "<div>                            <div id=\"76d5cf92-5986-41fc-9105-7df5dbf7a729\" class=\"plotly-graph-div\" style=\"height:700px; width:900px;\"></div>            <script type=\"text/javascript\">                require([\"plotly\"], function(Plotly) {                    window.PLOTLYENV=window.PLOTLYENV || {};                                    if (document.getElementById(\"76d5cf92-5986-41fc-9105-7df5dbf7a729\")) {                    Plotly.newPlot(                        \"76d5cf92-5986-41fc-9105-7df5dbf7a729\",                        [{\"customdata\":[[\"Disorders of tooth development\",\"teeth\"],[\"Hereditary disturbances in tooth structure\",\"teeth\"],[\"Disturbances in tooth eruption\",\"teeth\"],[\"Diseases of hard tissues of teeth\",\"teeth\"],[\"Dental caries\",\"teeth\"],[\"Dental abrasion, erosion and attrition\",\"teeth\"],[\"Tooth complications likely association with other diseases\",\"teeth\"],[\"Diseases of pulp and periapical tissues\",\"teeth\"],[\"Pulpitis and necrosis of tooth pulp\",\"teeth\"],[\"Periapical abscess\",\"teeth\"],[\"Gingival and periodontal diseases\",\"teeth\"],[\"Gingivitis\",\"teeth\"],[\"Periodontitis (acute or chronic)\",\"teeth\"],[\"Acute periodontitis\",\"teeth\"],[\"Chronic periodontitis\",\"teeth\"],[\"Dentofacial anomalies, including malocclusion\",\"teeth\"],[\"Anomalies of tooth position\\u002fmalocclusion\",\"teeth\"],[\"Other diseases of the teeth and supporting structures\",\"teeth\"],[\"Loss of teeth or edentulism\",\"teeth\"],[\"Atrophy of edentulous alveolar ridge\",\"teeth\"],[\"Diseases of the jaws\",\"teeth\"],[\"Cysts of the jaws\",\"teeth\"],[\"Anomalies of jaw size\\u002fsymmetry\",\"teeth\"],[\"Temporomandibular joint disorders\",\"teeth\"],[\"Temporomandibular joint disorder, unspecified\",\"teeth\"],[\"Arthralgia\\u002fankylosis of temporomandibular joint\",\"teeth\"],[\"Inflammatory conditions of jaw\",\"teeth\"],[\"Exostosis of jaw\",\"teeth\"],[\"Jaw disease NOS\",\"teeth\"],[\"Diseases of the salivary glands\",\"mouth\"],[\"Hypertrophy of salivary gland\",\"mouth\"],[\"Sialoadenitis\",\"mouth\"],[\"Disturbance of salivary secretion\",\"mouth\"],[\"Other specified diseases of the salivary glands\",\"mouth\"],[\"Diseases of the oral soft tissues, excluding lesions specific for gingiva and tongue\",\"mouth\"],[\"Stomatitis and mucositis\",\"mouth\"],[\"Stomatitis and mucositis (ulcerative)\",\"mouth\"],[\"Oral aphthae\",\"mouth\"],[\"Cellulitis and abscess of oral soft tissues\",\"mouth\"],[\"Cysts of oral soft tissues\",\"mouth\"],[\"Cyst of the salivary gland\",\"mouth\"],[\"Diseases of lips\",\"mouth\"],[\"Leukoplakia of oral mucosa\",\"mouth\"],[\"Sialolithiasis\",\"mouth\"],[\"Diseases and other conditions of the tongue\",\"mouth\"],[\"Glossitis\",\"mouth\"],[\"Glossodynia\",\"mouth\"],[\"Diseases of esophagus\",\"Esophageal\"],[\"Esophagitis, GERD and related diseases\",\"Esophageal\"],[\"GERD\",\"Esophageal\"],[\"Ulcer of esophagus\",\"Esophageal\"],[\"Barrett's esophagus\",\"Esophageal\"],[\"Reflux esophagitis\",\"Esophageal\"],[\"Eosinophilic esophagitis\",\"Esophageal\"],[\"Esophageal bleeding (varices\\u002fhemorrhage)\",\"Esophageal\"],[\"Stricture and stenosis of esophagus\",\"Esophageal\"],[\"Disorders of esophageal motility\",\"Esophageal\"],[\"Diverticulum of esophagus, acquired\",\"Esophageal\"],[\"Gastroesophageal laceration-hemorrhage syndrome\",\"Esophageal\"],[\"Heartburn\",\"Esophageal\"],[\"Peptic ulcer (excl. esophageal)\",\"Gastro ulcer\"],[\"Hemorrhage from gastrointestinal ulcer\",\"Gastro ulcer\"],[\"Gastric ulcer\",\"Gastro ulcer\"],[\"Duodenal ulcer\",\"Gastro ulcer\"],[\"Peptic ulcer, site unspecified\",\"Gastro ulcer\"],[\"Gastrojejunal ulcer\",\"Gastro ulcer\"],[\"Dysphagia\",\"Esophageal\"],[\"Gastritis and duodenitis\",\"stomach\"],[\"Acute gastritis\",\"stomach\"],[\"Atrophic gastritis\",\"stomach\"],[\"Duodenitis\",\"stomach\"],[\"Other specified gastritis\",\"stomach\"],[\"Gastritis and duodenitis, NOS\",\"stomach\"],[\"Disorders of function of stomach\",\"stomach\"],[\"Gastroparesis\",\"stomach\"],[\"Complications of gastrostomy, colostomy and enterostomy\",\"stomach\"],[\"Dyspepsia and other specified disorders of function of stomach\",\"stomach\"],[\"Other disorders of stomach and duodenum\",\"stomach\"],[\"Lesions of stomach and duodenum\",\"stomach\"],[\"Bariatric surgery\",\"Bariatric\"],[\"Appendiceal conditions\",\"Appendiceal\"],[\"Appendicitis\",\"Appendiceal\"],[\"Acute appendicitis\",\"Appendiceal\"],[\"Abdominal hernia\",\"hernia\"],[\"Inguinal hernia\",\"hernia\"],[\"Diaphragmatic hernia\",\"hernia\"],[\"Femoral hernia\",\"hernia\"],[\"Umbilical hernia\",\"hernia\"],[\"Ventral hernia\",\"hernia\"],[\"Incisional hernia\",\"hernia\"],[\"Inflammatory bowel disease and other gastroenteritis and colitis\",\"Noninfective\"],[\"Regional enteritis\",\"Noninfective\"],[\"Ulcerative colitis\",\"Noninfective\"],[\"Ulcerative colitis (chronic)\",\"Noninfective\"],[\"Ulceration of the lower GI tract\",\"Noninfective\"],[\"Ulceration of intestine\",\"Noninfective\"],[\"Angiodysplasia of intestine (without mention of hemorrhage)\",\"Noninfective\"],[\"Intestinal malabsorption (non-celiac)\",\"Noninfective\"],[\"Celiac disease\",\"Noninfective\"],[\"Noninfectious gastroenteritis\",\"Noninfective\"],[\"Ileostomy status\",\"Noninfective\"],[\"Intestinal obstruction without mention of hernia\",\"Noninfective\"],[\"Paralytic ileus\",\"Noninfective\"],[\"Impaction of intestine\",\"Noninfective\"],[\"Peritoneal or intestinal adhesions\",\"Noninfective\"],[\"Other intestinal obstruction\",\"Noninfective\"],[\"Symptoms involving digestive system\",\"Noninfective\"],[\"Diarrhea\",\"Noninfective\"],[\"Flatulence\",\"Noninfective\"],[\"Diverticulosis and diverticulitis\",\"Noninfective\"],[\"Diverticulosis\",\"Noninfective\"],[\"Diverticulitis\",\"Noninfective\"],[\"Constipation\",\"Noninfective\"],[\"Functional digestive disorders\",\"Noninfective\"],[\"Irritable Bowel Syndrome\",\"Noninfective\"],[\"Abnormal findings on exam of gastrointestinal tract\\u002f abdominal area\",\"Noninfective\"],[\"Personal history of diseases of digestive system\",\"Noninfective\"],[\"Anal and rectal conditions\",\"Other\"],[\"Anal and rectal polyp\",\"Other\"],[\"Peritonitis and retroperitoneal infections\",\"Other\"],[\"Other disorders of peritoneum\",\"Other\"],[\"Peritoneal adhesions (postoperative) (postinfection)\",\"Other\"],[\"Other disorders of intestine\",\"Other\"],[\"Toxic gastroenteritis and colitis\",\"Other\"],[\"Gastrointestinal complications\",\"Other\"],[\"Diseases of pancreas\",\"Pancreatic\"],[\"Acute pancreatitis\",\"Pancreatic\"],[\"Chronic pancreatitis\",\"Pancreatic\"],[\"Cyst and pseudocyst of pancreas\",\"Pancreatic\"],[\"Gastrointestinal hemorrhage\",\"Other\"],[\"Hematemesis\",\"Other\"],[\"Blood in stool\",\"Other\"],[\"Hemorrhage of rectum and anus\",\"Other\"],[\"Hemorrhage of gastrointestinal tract\",\"Other\"],[\"Other symptoms involving abdomen and pelvis\",\"Other\"],[\"Splenomegaly\",\"Other\"],[\"Nonspecific abnormal findings in stool contents\",\"Other\"]],\"hovertemplate\":\"highlight=False\\u003cbr\\u003eUMAP_1=%{x}\\u003cbr\\u003eUMAP_2=%{y}\\u003cbr\\u003ephenotype=%{customdata[0]}\\u003cbr\\u003ecategory=%{customdata[1]}\\u003cextra\\u003e\\u003c\\u002fextra\\u003e\",\"legendgroup\":\"False\",\"marker\":{\"color\":\"gray\",\"opacity\":0.7,\"symbol\":\"circle\",\"line\":{\"color\":\"white\",\"width\":1},\"size\":7},\"mode\":\"markers\",\"name\":\"False\",\"orientation\":\"v\",\"showlegend\":true,\"x\":[12.843326,12.908388,12.90748,12.892418,12.946482,12.928417,12.92249,12.890549,12.882347,12.759845,12.948122,12.9768915,12.7771845,12.790361,12.825554,12.840672,12.84403,12.911312,12.910738,12.877992,12.7683115,12.9631815,12.851359,10.850549,10.759581,10.7519045,12.562827,12.621896,11.564546,12.815485,13.013627,12.731808,12.883156,12.786776,13.060073,13.070244,12.929602,13.170418,12.464097,13.181399,13.0554285,13.336275,13.467405,12.885223,13.178607,13.0355835,12.985704,12.493873,12.448925,12.091774,12.371579,12.4159975,12.338035,12.419395,11.778246,12.505438,12.552059,12.775002,11.8155575,11.428215,12.197688,11.791296,12.128147,12.149895,12.112752,12.157811,11.889009,12.216449,12.201153,12.163759,12.389466,12.191698,11.974789,12.523682,12.017342,10.846435,12.448867,12.666751,12.394616,12.022727,12.758513,12.734633,12.777444,12.85928,12.925973,12.895736,12.895677,12.900248,12.903473,12.903242,11.841461,11.666214,12.002554,11.965192,12.09489,12.066289,12.40276,12.0660095,11.7662945,11.646609,11.932265,12.621102,11.827313,12.150611,12.363999,12.278298,11.408945,11.467747,11.45078,12.352422,12.351515,12.370533,11.539556,12.53483,11.809075,14.172613,11.264832,14.004479,14.374355,12.496482,12.706998,12.511615,12.690033,11.719819,11.674819,13.186206,13.136358,13.122108,13.429115,11.786677,11.781176,11.781831,11.681997,11.711283,13.595953,11.358766,14.252381],\"xaxis\":\"x\",\"y\":[5.8070045,5.786859,5.7451744,5.8332634,5.8435497,5.828349,5.8276005,5.895766,5.895272,6.0270143,5.8637753,5.73955,5.9531856,5.9341874,5.9090676,5.6649423,5.6397734,5.807018,5.8423424,5.857924,5.5726953,5.232188,5.503843,6.105066,6.1548123,6.209869,5.5865493,5.5774484,5.7139783,4.9099083,4.868456,4.806136,4.946983,4.9278083,5.635545,5.408201,5.2781577,5.343979,6.433947,5.127637,4.884621,5.2053986,5.23224,4.8783507,5.2366214,5.2872114,5.0357594,2.8463328,2.806925,2.6632617,2.7055094,2.814425,2.814562,2.8599715,0.8663134,2.7735147,2.805732,2.7161572,0.8769672,2.5145712,2.513307,0.9090949,2.542522,2.5435624,2.5112336,2.530787,2.310396,2.4524543,2.5987751,2.4836621,2.5458124,2.500836,2.1822965,2.432458,2.3485134,0.33284906,2.393128,2.4141097,2.501315,0.28727788,2.3866096,2.3829749,2.4764702,1.9784228,1.9350973,2.0269563,1.9431876,1.9659846,1.939953,1.9276055,2.5551255,2.7748952,2.4587598,2.4282715,2.3689568,2.25271,1.9028176,2.1399834,2.4944575,2.7688885,1.9873432,1.9484738,2.1957924,2.1950314,2.207018,2.1316473,2.62102,2.3531063,2.3206024,2.392906,2.3792288,2.3949654,2.2793984,2.406969,2.4229932,1.3839875,2.2903793,3.350445,3.923707,2.0741684,2.2668257,2.0686681,2.2553756,2.6601293,2.0045733,3.7275903,3.4676247,3.6063643,4.0012565,0.87993157,0.78522074,0.7276447,0.70689136,0.77972955,2.3254874,0.91773605,1.268068],\"yaxis\":\"y\",\"type\":\"scatter\"},{\"customdata\":[[\"Chronic liver disease and cirrhosis\",\"Liver\"],[\"Other chronic nonalcoholic liver disease\",\"Liver\"],[\"Cirrhosis of liver without mention of alcohol\",\"Liver\"],[\"Primary biliary cirrhosis\",\"Liver\"],[\"Liver abscess and sequelae of chronic liver disease\",\"Liver\"],[\"Portal hypertension\",\"Liver\"],[\"Ascites (non malignant)\",\"Liver\"],[\"Other disorders of liver\",\"Liver\"],[\"Chronic passive congestion of liver\",\"Liver\"],[\"Liver replaced by transplant\",\"Liver\"],[\"Hepatomegaly\",\"Liver\"],[\"Acute and subacute necrosis of liver\",\"Liver\"],[\"Jaundice (not of newborn)\",\"Liver\"],[\"Nonspecific elevation of levels of transaminase or lactic acid dehydrogenase [LDH]\",\"Liver\"],[\"Abnormal results of function study of liver\",\"Liver\"],[\"Abnormal serum enzyme levels\",\"Liver\"],[\"Cholelithiasis and cholecystitis\",\"Biliary\"],[\"Cholelithiasis\",\"Biliary\"],[\"Cholelithiasis with acute cholecystitis\",\"Biliary\"],[\"Cholelithiasis with other cholecystitis\",\"Biliary\"],[\"Calculus of bile duct\",\"Biliary\"],[\"Cholecystitis without cholelithiasis\",\"Biliary\"],[\"Other biliary tract disease\",\"Biliary\"],[\"Cholangitis\",\"Biliary\"],[\"Obstruction of bile duct\",\"Biliary\"],[\"Cholesterolosis of gallbladder\",\"Biliary\"],[\"Other disorders of gallbladder\",\"Biliary\"],[\"Other disorders of biliary tract\",\"Biliary\"],[\"Nonspecific abnormal findings on radiological and other examination of biliary tract\",\"Biliary\"]],\"hovertemplate\":\"highlight=True\\u003cbr\\u003eUMAP_1=%{x}\\u003cbr\\u003eUMAP_2=%{y}\\u003cbr\\u003ephenotype=%{customdata[0]}\\u003cbr\\u003ecategory=%{customdata[1]}\\u003cextra\\u003e\\u003c\\u002fextra\\u003e\",\"legendgroup\":\"True\",\"marker\":{\"color\":\"#125B9A\",\"opacity\":0.7,\"symbol\":\"circle\",\"line\":{\"color\":\"white\",\"width\":1},\"size\":7},\"mode\":\"markers\",\"name\":\"True\",\"orientation\":\"v\",\"showlegend\":true,\"x\":[12.428387,12.455707,12.413197,12.654251,12.51652,10.553352,11.230538,12.956101,12.406487,10.071228,11.409151,12.486607,11.075933,14.07258,14.085027,13.830715,13.287939,13.290088,13.237814,13.283476,13.573162,13.243871,13.233024,13.25856,13.347696,13.289625,13.166759,13.274743,14.214474],\"xaxis\":\"x\",\"y\":[3.09,3.0896008,3.0477352,2.9135144,3.1542144,1.0797609,1.0962282,2.3237252,3.1183975,0.13604301,0.8998101,3.2601542,-0.28229785,0.82295775,1.0735711,0.49334273,2.2217212,2.2281528,2.2513473,2.2262847,2.0748281,2.197452,2.3186522,2.2808301,2.252638,2.215589,2.2669983,2.2758706,1.2648964],\"yaxis\":\"y\",\"type\":\"scatter\"}],                        {\"template\":{\"data\":{\"barpolar\":[{\"marker\":{\"line\":{\"color\":\"white\",\"width\":0.5},\"pattern\":{\"fillmode\":\"overlay\",\"size\":10,\"solidity\":0.2}},\"type\":\"barpolar\"}],\"bar\":[{\"error_x\":{\"color\":\"#2a3f5f\"},\"error_y\":{\"color\":\"#2a3f5f\"},\"marker\":{\"line\":{\"color\":\"white\",\"width\":0.5},\"pattern\":{\"fillmode\":\"overlay\",\"size\":10,\"solidity\":0.2}},\"type\":\"bar\"}],\"carpet\":[{\"aaxis\":{\"endlinecolor\":\"#2a3f5f\",\"gridcolor\":\"#C8D4E3\",\"linecolor\":\"#C8D4E3\",\"minorgridcolor\":\"#C8D4E3\",\"startlinecolor\":\"#2a3f5f\"},\"baxis\":{\"endlinecolor\":\"#2a3f5f\",\"gridcolor\":\"#C8D4E3\",\"linecolor\":\"#C8D4E3\",\"minorgridcolor\":\"#C8D4E3\",\"startlinecolor\":\"#2a3f5f\"},\"type\":\"carpet\"}],\"choropleth\":[{\"colorbar\":{\"outlinewidth\":0,\"ticks\":\"\"},\"type\":\"choropleth\"}],\"contourcarpet\":[{\"colorbar\":{\"outlinewidth\":0,\"ticks\":\"\"},\"type\":\"contourcarpet\"}],\"contour\":[{\"colorbar\":{\"outlinewidth\":0,\"ticks\":\"\"},\"colorscale\":[[0.0,\"#0d0887\"],[0.1111111111111111,\"#46039f\"],[0.2222222222222222,\"#7201a8\"],[0.3333333333333333,\"#9c179e\"],[0.4444444444444444,\"#bd3786\"],[0.5555555555555556,\"#d8576b\"],[0.6666666666666666,\"#ed7953\"],[0.7777777777777778,\"#fb9f3a\"],[0.8888888888888888,\"#fdca26\"],[1.0,\"#f0f921\"]],\"type\":\"contour\"}],\"heatmapgl\":[{\"colorbar\":{\"outlinewidth\":0,\"ticks\":\"\"},\"colorscale\":[[0.0,\"#0d0887\"],[0.1111111111111111,\"#46039f\"],[0.2222222222222222,\"#7201a8\"],[0.3333333333333333,\"#9c179e\"],[0.4444444444444444,\"#bd3786\"],[0.5555555555555556,\"#d8576b\"],[0.6666666666666666,\"#ed7953\"],[0.7777777777777778,\"#fb9f3a\"],[0.8888888888888888,\"#fdca26\"],[1.0,\"#f0f921\"]],\"type\":\"heatmapgl\"}],\"heatmap\":[{\"colorbar\":{\"outlinewidth\":0,\"ticks\":\"\"},\"colorscale\":[[0.0,\"#0d0887\"],[0.1111111111111111,\"#46039f\"],[0.2222222222222222,\"#7201a8\"],[0.3333333333333333,\"#9c179e\"],[0.4444444444444444,\"#bd3786\"],[0.5555555555555556,\"#d8576b\"],[0.6666666666666666,\"#ed7953\"],[0.7777777777777778,\"#fb9f3a\"],[0.8888888888888888,\"#fdca26\"],[1.0,\"#f0f921\"]],\"type\":\"heatmap\"}],\"histogram2dcontour\":[{\"colorbar\":{\"outlinewidth\":0,\"ticks\":\"\"},\"colorscale\":[[0.0,\"#0d0887\"],[0.1111111111111111,\"#46039f\"],[0.2222222222222222,\"#7201a8\"],[0.3333333333333333,\"#9c179e\"],[0.4444444444444444,\"#bd3786\"],[0.5555555555555556,\"#d8576b\"],[0.6666666666666666,\"#ed7953\"],[0.7777777777777778,\"#fb9f3a\"],[0.8888888888888888,\"#fdca26\"],[1.0,\"#f0f921\"]],\"type\":\"histogram2dcontour\"}],\"histogram2d\":[{\"colorbar\":{\"outlinewidth\":0,\"ticks\":\"\"},\"colorscale\":[[0.0,\"#0d0887\"],[0.1111111111111111,\"#46039f\"],[0.2222222222222222,\"#7201a8\"],[0.3333333333333333,\"#9c179e\"],[0.4444444444444444,\"#bd3786\"],[0.5555555555555556,\"#d8576b\"],[0.6666666666666666,\"#ed7953\"],[0.7777777777777778,\"#fb9f3a\"],[0.8888888888888888,\"#fdca26\"],[1.0,\"#f0f921\"]],\"type\":\"histogram2d\"}],\"histogram\":[{\"marker\":{\"pattern\":{\"fillmode\":\"overlay\",\"size\":10,\"solidity\":0.2}},\"type\":\"histogram\"}],\"mesh3d\":[{\"colorbar\":{\"outlinewidth\":0,\"ticks\":\"\"},\"type\":\"mesh3d\"}],\"parcoords\":[{\"line\":{\"colorbar\":{\"outlinewidth\":0,\"ticks\":\"\"}},\"type\":\"parcoords\"}],\"pie\":[{\"automargin\":true,\"type\":\"pie\"}],\"scatter3d\":[{\"line\":{\"colorbar\":{\"outlinewidth\":0,\"ticks\":\"\"}},\"marker\":{\"colorbar\":{\"outlinewidth\":0,\"ticks\":\"\"}},\"type\":\"scatter3d\"}],\"scattercarpet\":[{\"marker\":{\"colorbar\":{\"outlinewidth\":0,\"ticks\":\"\"}},\"type\":\"scattercarpet\"}],\"scattergeo\":[{\"marker\":{\"colorbar\":{\"outlinewidth\":0,\"ticks\":\"\"}},\"type\":\"scattergeo\"}],\"scattergl\":[{\"marker\":{\"colorbar\":{\"outlinewidth\":0,\"ticks\":\"\"}},\"type\":\"scattergl\"}],\"scattermapbox\":[{\"marker\":{\"colorbar\":{\"outlinewidth\":0,\"ticks\":\"\"}},\"type\":\"scattermapbox\"}],\"scatterpolargl\":[{\"marker\":{\"colorbar\":{\"outlinewidth\":0,\"ticks\":\"\"}},\"type\":\"scatterpolargl\"}],\"scatterpolar\":[{\"marker\":{\"colorbar\":{\"outlinewidth\":0,\"ticks\":\"\"}},\"type\":\"scatterpolar\"}],\"scatter\":[{\"fillpattern\":{\"fillmode\":\"overlay\",\"size\":10,\"solidity\":0.2},\"type\":\"scatter\"}],\"scatterternary\":[{\"marker\":{\"colorbar\":{\"outlinewidth\":0,\"ticks\":\"\"}},\"type\":\"scatterternary\"}],\"surface\":[{\"colorbar\":{\"outlinewidth\":0,\"ticks\":\"\"},\"colorscale\":[[0.0,\"#0d0887\"],[0.1111111111111111,\"#46039f\"],[0.2222222222222222,\"#7201a8\"],[0.3333333333333333,\"#9c179e\"],[0.4444444444444444,\"#bd3786\"],[0.5555555555555556,\"#d8576b\"],[0.6666666666666666,\"#ed7953\"],[0.7777777777777778,\"#fb9f3a\"],[0.8888888888888888,\"#fdca26\"],[1.0,\"#f0f921\"]],\"type\":\"surface\"}],\"table\":[{\"cells\":{\"fill\":{\"color\":\"#EBF0F8\"},\"line\":{\"color\":\"white\"}},\"header\":{\"fill\":{\"color\":\"#C8D4E3\"},\"line\":{\"color\":\"white\"}},\"type\":\"table\"}]},\"layout\":{\"annotationdefaults\":{\"arrowcolor\":\"#2a3f5f\",\"arrowhead\":0,\"arrowwidth\":1},\"autotypenumbers\":\"strict\",\"coloraxis\":{\"colorbar\":{\"outlinewidth\":0,\"ticks\":\"\"}},\"colorscale\":{\"diverging\":[[0,\"#8e0152\"],[0.1,\"#c51b7d\"],[0.2,\"#de77ae\"],[0.3,\"#f1b6da\"],[0.4,\"#fde0ef\"],[0.5,\"#f7f7f7\"],[0.6,\"#e6f5d0\"],[0.7,\"#b8e186\"],[0.8,\"#7fbc41\"],[0.9,\"#4d9221\"],[1,\"#276419\"]],\"sequential\":[[0.0,\"#0d0887\"],[0.1111111111111111,\"#46039f\"],[0.2222222222222222,\"#7201a8\"],[0.3333333333333333,\"#9c179e\"],[0.4444444444444444,\"#bd3786\"],[0.5555555555555556,\"#d8576b\"],[0.6666666666666666,\"#ed7953\"],[0.7777777777777778,\"#fb9f3a\"],[0.8888888888888888,\"#fdca26\"],[1.0,\"#f0f921\"]],\"sequentialminus\":[[0.0,\"#0d0887\"],[0.1111111111111111,\"#46039f\"],[0.2222222222222222,\"#7201a8\"],[0.3333333333333333,\"#9c179e\"],[0.4444444444444444,\"#bd3786\"],[0.5555555555555556,\"#d8576b\"],[0.6666666666666666,\"#ed7953\"],[0.7777777777777778,\"#fb9f3a\"],[0.8888888888888888,\"#fdca26\"],[1.0,\"#f0f921\"]]},\"colorway\":[\"#636efa\",\"#EF553B\",\"#00cc96\",\"#ab63fa\",\"#FFA15A\",\"#19d3f3\",\"#FF6692\",\"#B6E880\",\"#FF97FF\",\"#FECB52\"],\"font\":{\"color\":\"#2a3f5f\"},\"geo\":{\"bgcolor\":\"white\",\"lakecolor\":\"white\",\"landcolor\":\"white\",\"showlakes\":true,\"showland\":true,\"subunitcolor\":\"#C8D4E3\"},\"hoverlabel\":{\"align\":\"left\"},\"hovermode\":\"closest\",\"mapbox\":{\"style\":\"light\"},\"paper_bgcolor\":\"white\",\"plot_bgcolor\":\"white\",\"polar\":{\"angularaxis\":{\"gridcolor\":\"#EBF0F8\",\"linecolor\":\"#EBF0F8\",\"ticks\":\"\"},\"bgcolor\":\"white\",\"radialaxis\":{\"gridcolor\":\"#EBF0F8\",\"linecolor\":\"#EBF0F8\",\"ticks\":\"\"}},\"scene\":{\"xaxis\":{\"backgroundcolor\":\"white\",\"gridcolor\":\"#DFE8F3\",\"gridwidth\":2,\"linecolor\":\"#EBF0F8\",\"showbackground\":true,\"ticks\":\"\",\"zerolinecolor\":\"#EBF0F8\"},\"yaxis\":{\"backgroundcolor\":\"white\",\"gridcolor\":\"#DFE8F3\",\"gridwidth\":2,\"linecolor\":\"#EBF0F8\",\"showbackground\":true,\"ticks\":\"\",\"zerolinecolor\":\"#EBF0F8\"},\"zaxis\":{\"backgroundcolor\":\"white\",\"gridcolor\":\"#DFE8F3\",\"gridwidth\":2,\"linecolor\":\"#EBF0F8\",\"showbackground\":true,\"ticks\":\"\",\"zerolinecolor\":\"#EBF0F8\"}},\"shapedefaults\":{\"line\":{\"color\":\"#2a3f5f\"}},\"ternary\":{\"aaxis\":{\"gridcolor\":\"#DFE8F3\",\"linecolor\":\"#A2B1C6\",\"ticks\":\"\"},\"baxis\":{\"gridcolor\":\"#DFE8F3\",\"linecolor\":\"#A2B1C6\",\"ticks\":\"\"},\"bgcolor\":\"white\",\"caxis\":{\"gridcolor\":\"#DFE8F3\",\"linecolor\":\"#A2B1C6\",\"ticks\":\"\"}},\"title\":{\"x\":0.05},\"xaxis\":{\"automargin\":true,\"gridcolor\":\"#EBF0F8\",\"linecolor\":\"#EBF0F8\",\"ticks\":\"\",\"title\":{\"standoff\":15},\"zerolinecolor\":\"#EBF0F8\",\"zerolinewidth\":2},\"yaxis\":{\"automargin\":true,\"gridcolor\":\"#EBF0F8\",\"linecolor\":\"#EBF0F8\",\"ticks\":\"\",\"title\":{\"standoff\":15},\"zerolinecolor\":\"#EBF0F8\",\"zerolinewidth\":2}}},\"xaxis\":{\"anchor\":\"y\",\"domain\":[0.0,1.0],\"title\":{\"text\":\"UMAP 1 (Digestive)\"}},\"yaxis\":{\"anchor\":\"x\",\"domain\":[0.0,1.0],\"title\":{\"text\":\"UMAP 2 (Digestive)\"}},\"legend\":{\"title\":{\"text\":\"highlight\"},\"tracegroupgap\":0},\"title\":{\"text\":\"Interactive Biliary Disorders\"},\"height\":700,\"width\":900},                        {\"responsive\": true}                    ).then(function(){\n",
       "                            \n",
       "var gd = document.getElementById('76d5cf92-5986-41fc-9105-7df5dbf7a729');\n",
       "var x = new MutationObserver(function (mutations, observer) {{\n",
       "        var display = window.getComputedStyle(gd).display;\n",
       "        if (!display || display === 'none') {{\n",
       "            console.log([gd, 'removed!']);\n",
       "            Plotly.purge(gd);\n",
       "            observer.disconnect();\n",
       "        }}\n",
       "}});\n",
       "\n",
       "// Listen for the removal of the full notebook cells\n",
       "var notebookContainer = gd.closest('#notebook-container');\n",
       "if (notebookContainer) {{\n",
       "    x.observe(notebookContainer, {childList: true});\n",
       "}}\n",
       "\n",
       "// Listen for the clearing of the current output cell\n",
       "var outputEl = gd.closest('.output');\n",
       "if (outputEl) {{\n",
       "    x.observe(outputEl, {childList: true});\n",
       "}}\n",
       "\n",
       "                        })                };                });            </script>        </div>"
      ]
     },
     "metadata": {},
     "output_type": "display_data"
    }
   ],
   "source": [
    "import plotly.express as px\n",
    "\n",
    "# Ensure the highlight column is based on the 'category'\n",
    "local_embed_df['highlight'] = local_embed_df['category'].isin(['Liver', 'Biliary'])\n",
    "\n",
    "# Create the interactive scatter plot\n",
    "fig = px.scatter(\n",
    "    local_embed_df,\n",
    "    x='UMAP_1',\n",
    "    y='UMAP_2',\n",
    "    color='highlight',  # Highlight \"Liver\" and \"Biliary\" points\n",
    "    hover_data={'phenotype': True, 'category': True},  # Show phenotype and category on hover\n",
    "    opacity=0.7,\n",
    "    title=\"Interactive Biliary Disorders\",\n",
    "    color_discrete_map={True: '#125B9A', False: 'gray'},  # Highlight \"Liver/Biliary\" in blue, others in gray\n",
    ")\n",
    "\n",
    "# Customize marker appearance\n",
    "fig.update_traces(\n",
    "    marker=dict(size=7, line=dict(width=1, color='white')),  # Set marker size and white border\n",
    ")\n",
    "\n",
    "# Customize layout\n",
    "fig.update_layout(\n",
    "    xaxis_title=\"UMAP 1 (Digestive)\",\n",
    "    yaxis_title=\"UMAP 2 (Digestive)\",\n",
    "    template=\"plotly_white\",\n",
    "    height=700,  # Set plot height\n",
    "    width=900,   # Set plot width\n",
    ")\n",
    "\n",
    "# Show the interactive plot\n",
    "fig.show()\n"
   ]
  },
  {
   "cell_type": "code",
   "execution_count": 76,
   "id": "0adb73b1",
   "metadata": {},
   "outputs": [
    {
     "name": "stderr",
     "output_type": "stream",
     "text": [
      "/Users/ellenbowen/opt/anaconda3/envs/ehail/lib/python3.11/site-packages/seaborn/_oldcore.py:1498: FutureWarning:\n",
      "\n",
      "is_categorical_dtype is deprecated and will be removed in a future version. Use isinstance(dtype, CategoricalDtype) instead\n",
      "\n",
      "/Users/ellenbowen/opt/anaconda3/envs/ehail/lib/python3.11/site-packages/seaborn/_oldcore.py:1498: FutureWarning:\n",
      "\n",
      "is_categorical_dtype is deprecated and will be removed in a future version. Use isinstance(dtype, CategoricalDtype) instead\n",
      "\n",
      "/Users/ellenbowen/opt/anaconda3/envs/ehail/lib/python3.11/site-packages/seaborn/_oldcore.py:1498: FutureWarning:\n",
      "\n",
      "is_categorical_dtype is deprecated and will be removed in a future version. Use isinstance(dtype, CategoricalDtype) instead\n",
      "\n",
      "/Users/ellenbowen/opt/anaconda3/envs/ehail/lib/python3.11/site-packages/seaborn/_oldcore.py:1498: FutureWarning:\n",
      "\n",
      "is_categorical_dtype is deprecated and will be removed in a future version. Use isinstance(dtype, CategoricalDtype) instead\n",
      "\n"
     ]
    },
    {
     "data": {
      "image/png": "[encoded data removed]",
      "text/plain": [
       "<Figure size 475x425 with 1 Axes>"
      ]
     },
     "metadata": {},
     "output_type": "display_data"
    }
   ],
   "source": [
    "import matplotlib.pyplot as plt\n",
    "import matplotlib.ticker as plticker\n",
    "import seaborn as sns\n",
    "\n",
    "# Create the figure and axis\n",
    "fig, ax = plt.subplots(figsize=(4.75, 4.25))\n",
    "\n",
    "# Scatter plot for all points (gray background points)\n",
    "sns.scatterplot(\n",
    "    data=local_embed_df, \n",
    "    x='UMAP_1', y='UMAP_2', \n",
    "    alpha=0.5, s=70, linewidth=0.25, edgecolor='white',\n",
    "    color='gray', ax=ax\n",
    ")\n",
    "\n",
    "# Filter data for 'Noninfective' category\n",
    "highlight_data = local_embed_df[local_embed_df['category'] == 'Noninfective']\n",
    "\n",
    "# Highlight points for 'Noninfective' category (orange-red points)\n",
    "sns.scatterplot(\n",
    "    data=highlight_data, \n",
    "    x='UMAP_1', y='UMAP_2', \n",
    "    alpha=0.9, s=70, linewidth=0.25, edgecolor='white',\n",
    "    color='#FB6D48', ax=ax\n",
    ")\n",
    "\n",
    "# Adjust labels and plot limits\n",
    "plt.xlabel(\"UMAP 1 (Digestive)\")\n",
    "plt.ylabel(\"UMAP 2 (Digestive)\")\n",
    "plt.xlim(-5, 19)\n",
    "plt.ylim(-6, 15)\n",
    "\n",
    "# Set tick locators for axes\n",
    "loc = plticker.MultipleLocator(base=5.0)\n",
    "ax.yaxis.set_major_locator(loc)\n",
    "\n",
    "loc = plticker.MultipleLocator(base=3.0)\n",
    "ax.xaxis.set_major_locator(loc)\n",
    "\n",
    "# Remove top and right spines for cleaner aesthetics\n",
    "sns.despine(offset=2, trim=True)\n",
    "\n",
    "# Add title\n",
    "plt.title(\"Functional Digestive Disorders\")\n",
    "\n",
    "# Show the plot\n",
    "plt.show()\n"
   ]
  },
  {
   "cell_type": "code",
   "execution_count": 77,
   "id": "e61432a7",
   "metadata": {},
   "outputs": [
    {
     "name": "stderr",
     "output_type": "stream",
     "text": [
      "/var/folders/pq/qx5x9fj10pj3v7hdcsd6qzz40000gn/T/ipykernel_38629/2626435951.py:4: SettingWithCopyWarning:\n",
      "\n",
      "\n",
      "A value is trying to be set on a copy of a slice from a DataFrame.\n",
      "Try using .loc[row_indexer,col_indexer] = value instead\n",
      "\n",
      "See the caveats in the documentation: https://pandas.pydata.org/pandas-docs/stable/user_guide/indexing.html#returning-a-view-versus-a-copy\n",
      "\n"
     ]
    },
    {
     "data": {
      "application/vnd.plotly.v1+json": {
       "config": {
        "plotlyServerURL": "https://plot.ly"
       },
       "data": [
        {
         "customdata": [
          [
           "Disorders of tooth development",
           "teeth"
          ],
          [
           "Hereditary disturbances in tooth structure",
           "teeth"
          ],
          [
           "Disturbances in tooth eruption",
           "teeth"
          ],
          [
           "Diseases of hard tissues of teeth",
           "teeth"
          ],
          [
           "Dental caries",
           "teeth"
          ],
          [
           "Dental abrasion, erosion and attrition",
           "teeth"
          ],
          [
           "Tooth complications likely association with other diseases",
           "teeth"
          ],
          [
           "Diseases of pulp and periapical tissues",
           "teeth"
          ],
          [
           "Pulpitis and necrosis of tooth pulp",
           "teeth"
          ],
          [
           "Periapical abscess",
           "teeth"
          ],
          [
           "Gingival and periodontal diseases",
           "teeth"
          ],
          [
           "Gingivitis",
           "teeth"
          ],
          [
           "Periodontitis (acute or chronic)",
           "teeth"
          ],
          [
           "Acute periodontitis",
           "teeth"
          ],
          [
           "Chronic periodontitis",
           "teeth"
          ],
          [
           "Dentofacial anomalies, including malocclusion",
           "teeth"
          ],
          [
           "Anomalies of tooth position/malocclusion",
           "teeth"
          ],
          [
           "Other diseases of the teeth and supporting structures",
           "teeth"
          ],
          [
           "Loss of teeth or edentulism",
           "teeth"
          ],
          [
           "Atrophy of edentulous alveolar ridge",
           "teeth"
          ],
          [
           "Diseases of the jaws",
           "teeth"
          ],
          [
           "Cysts of the jaws",
           "teeth"
          ],
          [
           "Anomalies of jaw size/symmetry",
           "teeth"
          ],
          [
           "Temporomandibular joint disorders",
           "teeth"
          ],
          [
           "Temporomandibular joint disorder, unspecified",
           "teeth"
          ],
          [
           "Arthralgia/ankylosis of temporomandibular joint",
           "teeth"
          ],
          [
           "Inflammatory conditions of jaw",
           "teeth"
          ],
          [
           "Exostosis of jaw",
           "teeth"
          ],
          [
           "Jaw disease NOS",
           "teeth"
          ],
          [
           "Diseases of the salivary glands",
           "mouth"
          ],
          [
           "Hypertrophy of salivary gland",
           "mouth"
          ],
          [
           "Sialoadenitis",
           "mouth"
          ],
          [
           "Disturbance of salivary secretion",
           "mouth"
          ],
          [
           "Other specified diseases of the salivary glands",
           "mouth"
          ],
          [
           "Diseases of the oral soft tissues, excluding lesions specific for gingiva and tongue",
           "mouth"
          ],
          [
           "Stomatitis and mucositis",
           "mouth"
          ],
          [
           "Stomatitis and mucositis (ulcerative)",
           "mouth"
          ],
          [
           "Oral aphthae",
           "mouth"
          ],
          [
           "Cellulitis and abscess of oral soft tissues",
           "mouth"
          ],
          [
           "Cysts of oral soft tissues",
           "mouth"
          ],
          [
           "Cyst of the salivary gland",
           "mouth"
          ],
          [
           "Diseases of lips",
           "mouth"
          ],
          [
           "Leukoplakia of oral mucosa",
           "mouth"
          ],
          [
           "Sialolithiasis",
           "mouth"
          ],
          [
           "Diseases and other conditions of the tongue",
           "mouth"
          ],
          [
           "Glossitis",
           "mouth"
          ],
          [
           "Glossodynia",
           "mouth"
          ],
          [
           "Diseases of esophagus",
           "Esophageal"
          ],
          [
           "Esophagitis, GERD and related diseases",
           "Esophageal"
          ],
          [
           "GERD",
           "Esophageal"
          ],
          [
           "Ulcer of esophagus",
           "Esophageal"
          ],
          [
           "Barrett's esophagus",
           "Esophageal"
          ],
          [
           "Reflux esophagitis",
           "Esophageal"
          ],
          [
           "Eosinophilic esophagitis",
           "Esophageal"
          ],
          [
           "Esophageal bleeding (varices/hemorrhage)",
           "Esophageal"
          ],
          [
           "Stricture and stenosis of esophagus",
           "Esophageal"
          ],
          [
           "Disorders of esophageal motility",
           "Esophageal"
          ],
          [
           "Diverticulum of esophagus, acquired",
           "Esophageal"
          ],
          [
           "Gastroesophageal laceration-hemorrhage syndrome",
           "Esophageal"
          ],
          [
           "Heartburn",
           "Esophageal"
          ],
          [
           "Peptic ulcer (excl. esophageal)",
           "Gastro ulcer"
          ],
          [
           "Hemorrhage from gastrointestinal ulcer",
           "Gastro ulcer"
          ],
          [
           "Gastric ulcer",
           "Gastro ulcer"
          ],
          [
           "Duodenal ulcer",
           "Gastro ulcer"
          ],
          [
           "Peptic ulcer, site unspecified",
           "Gastro ulcer"
          ],
          [
           "Gastrojejunal ulcer",
           "Gastro ulcer"
          ],
          [
           "Dysphagia",
           "Esophageal"
          ],
          [
           "Gastritis and duodenitis",
           "stomach"
          ],
          [
           "Acute gastritis",
           "stomach"
          ],
          [
           "Atrophic gastritis",
           "stomach"
          ],
          [
           "Duodenitis",
           "stomach"
          ],
          [
           "Other specified gastritis",
           "stomach"
          ],
          [
           "Gastritis and duodenitis, NOS",
           "stomach"
          ],
          [
           "Disorders of function of stomach",
           "stomach"
          ],
          [
           "Gastroparesis",
           "stomach"
          ],
          [
           "Complications of gastrostomy, colostomy and enterostomy",
           "stomach"
          ],
          [
           "Dyspepsia and other specified disorders of function of stomach",
           "stomach"
          ],
          [
           "Other disorders of stomach and duodenum",
           "stomach"
          ],
          [
           "Lesions of stomach and duodenum",
           "stomach"
          ],
          [
           "Bariatric surgery",
           "Bariatric"
          ],
          [
           "Appendiceal conditions",
           "Appendiceal"
          ],
          [
           "Appendicitis",
           "Appendiceal"
          ],
          [
           "Acute appendicitis",
           "Appendiceal"
          ],
          [
           "Abdominal hernia",
           "hernia"
          ],
          [
           "Inguinal hernia",
           "hernia"
          ],
          [
           "Diaphragmatic hernia",
           "hernia"
          ],
          [
           "Femoral hernia",
           "hernia"
          ],
          [
           "Umbilical hernia",
           "hernia"
          ],
          [
           "Ventral hernia",
           "hernia"
          ],
          [
           "Incisional hernia",
           "hernia"
          ],
          [
           "Anal and rectal conditions",
           "Other"
          ],
          [
           "Anal and rectal polyp",
           "Other"
          ],
          [
           "Peritonitis and retroperitoneal infections",
           "Other"
          ],
          [
           "Other disorders of peritoneum",
           "Other"
          ],
          [
           "Peritoneal adhesions (postoperative) (postinfection)",
           "Other"
          ],
          [
           "Other disorders of intestine",
           "Other"
          ],
          [
           "Toxic gastroenteritis and colitis",
           "Other"
          ],
          [
           "Gastrointestinal complications",
           "Other"
          ],
          [
           "Chronic liver disease and cirrhosis",
           "Liver"
          ],
          [
           "Other chronic nonalcoholic liver disease",
           "Liver"
          ],
          [
           "Cirrhosis of liver without mention of alcohol",
           "Liver"
          ],
          [
           "Primary biliary cirrhosis",
           "Liver"
          ],
          [
           "Liver abscess and sequelae of chronic liver disease",
           "Liver"
          ],
          [
           "Portal hypertension",
           "Liver"
          ],
          [
           "Ascites (non malignant)",
           "Liver"
          ],
          [
           "Other disorders of liver",
           "Liver"
          ],
          [
           "Chronic passive congestion of liver",
           "Liver"
          ],
          [
           "Liver replaced by transplant",
           "Liver"
          ],
          [
           "Hepatomegaly",
           "Liver"
          ],
          [
           "Acute and subacute necrosis of liver",
           "Liver"
          ],
          [
           "Jaundice (not of newborn)",
           "Liver"
          ],
          [
           "Nonspecific elevation of levels of transaminase or lactic acid dehydrogenase [LDH]",
           "Liver"
          ],
          [
           "Abnormal results of function study of liver",
           "Liver"
          ],
          [
           "Abnormal serum enzyme levels",
           "Liver"
          ],
          [
           "Cholelithiasis and cholecystitis",
           "Biliary"
          ],
          [
           "Cholelithiasis",
           "Biliary"
          ],
          [
           "Cholelithiasis with acute cholecystitis",
           "Biliary"
          ],
          [
           "Cholelithiasis with other cholecystitis",
           "Biliary"
          ],
          [
           "Calculus of bile duct",
           "Biliary"
          ],
          [
           "Cholecystitis without cholelithiasis",
           "Biliary"
          ],
          [
           "Other biliary tract disease",
           "Biliary"
          ],
          [
           "Cholangitis",
           "Biliary"
          ],
          [
           "Obstruction of bile duct",
           "Biliary"
          ],
          [
           "Cholesterolosis of gallbladder",
           "Biliary"
          ],
          [
           "Other disorders of gallbladder",
           "Biliary"
          ],
          [
           "Other disorders of biliary tract",
           "Biliary"
          ],
          [
           "Nonspecific abnormal findings on radiological and other examination of biliary tract",
           "Biliary"
          ],
          [
           "Diseases of pancreas",
           "Pancreatic"
          ],
          [
           "Acute pancreatitis",
           "Pancreatic"
          ],
          [
           "Chronic pancreatitis",
           "Pancreatic"
          ],
          [
           "Cyst and pseudocyst of pancreas",
           "Pancreatic"
          ],
          [
           "Gastrointestinal hemorrhage",
           "Other"
          ],
          [
           "Hematemesis",
           "Other"
          ],
          [
           "Blood in stool",
           "Other"
          ],
          [
           "Hemorrhage of rectum and anus",
           "Other"
          ],
          [
           "Hemorrhage of gastrointestinal tract",
           "Other"
          ],
          [
           "Other symptoms involving abdomen and pelvis",
           "Other"
          ],
          [
           "Splenomegaly",
           "Other"
          ],
          [
           "Nonspecific abnormal findings in stool contents",
           "Other"
          ]
         ],
         "hovertemplate": "highlight=False<br>UMAP_1=%{x}<br>UMAP_2=%{y}<br>phenotype=%{customdata[0]}<br>category=%{customdata[1]}<extra></extra>",
         "legendgroup": "False",
         "marker": {
          "color": "gray",
          "line": {
           "color": "white",
           "width": 1
          },
          "opacity": 0.7,
          "size": 7,
          "symbol": "circle"
         },
         "mode": "markers",
         "name": "False",
         "orientation": "v",
         "showlegend": true,
         "type": "scatter",
         "x": [
          12.843326,
          12.908388,
          12.90748,
          12.892418,
          12.946482,
          12.928417,
          12.92249,
          12.890549,
          12.882347,
          12.759845,
          12.948122,
          12.9768915,
          12.7771845,
          12.790361,
          12.825554,
          12.840672,
          12.84403,
          12.911312,
          12.910738,
          12.877992,
          12.7683115,
          12.9631815,
          12.851359,
          10.850549,
          10.759581,
          10.7519045,
          12.562827,
          12.621896,
          11.564546,
          12.815485,
          13.013627,
          12.731808,
          12.883156,
          12.786776,
          13.060073,
          13.070244,
          12.929602,
          13.170418,
          12.464097,
          13.181399,
          13.0554285,
          13.336275,
          13.467405,
          12.885223,
          13.178607,
          13.0355835,
          12.985704,
          12.493873,
          12.448925,
          12.091774,
          12.371579,
          12.4159975,
          12.338035,
          12.419395,
          11.778246,
          12.505438,
          12.552059,
          12.775002,
          11.8155575,
          11.428215,
          12.197688,
          11.791296,
          12.128147,
          12.149895,
          12.112752,
          12.157811,
          11.889009,
          12.216449,
          12.201153,
          12.163759,
          12.389466,
          12.191698,
          11.974789,
          12.523682,
          12.017342,
          10.846435,
          12.448867,
          12.666751,
          12.394616,
          12.022727,
          12.758513,
          12.734633,
          12.777444,
          12.85928,
          12.925973,
          12.895736,
          12.895677,
          12.900248,
          12.903473,
          12.903242,
          14.004479,
          14.374355,
          12.496482,
          12.706998,
          12.511615,
          12.690033,
          11.719819,
          11.674819,
          12.428387,
          12.455707,
          12.413197,
          12.654251,
          12.51652,
          10.553352,
          11.230538,
          12.956101,
          12.406487,
          10.071228,
          11.409151,
          12.486607,
          11.075933,
          14.07258,
          14.085027,
          13.830715,
          13.287939,
          13.290088,
          13.237814,
          13.283476,
          13.573162,
          13.243871,
          13.233024,
          13.25856,
          13.347696,
          13.289625,
          13.166759,
          13.274743,
          14.214474,
          13.186206,
          13.136358,
          13.122108,
          13.429115,
          11.786677,
          11.781176,
          11.781831,
          11.681997,
          11.711283,
          13.595953,
          11.358766,
          14.252381
         ],
         "xaxis": "x",
         "y": [
          5.8070045,
          5.786859,
          5.7451744,
          5.8332634,
          5.8435497,
          5.828349,
          5.8276005,
          5.895766,
          5.895272,
          6.0270143,
          5.8637753,
          5.73955,
          5.9531856,
          5.9341874,
          5.9090676,
          5.6649423,
          5.6397734,
          5.807018,
          5.8423424,
          5.857924,
          5.5726953,
          5.232188,
          5.503843,
          6.105066,
          6.1548123,
          6.209869,
          5.5865493,
          5.5774484,
          5.7139783,
          4.9099083,
          4.868456,
          4.806136,
          4.946983,
          4.9278083,
          5.635545,
          5.408201,
          5.2781577,
          5.343979,
          6.433947,
          5.127637,
          4.884621,
          5.2053986,
          5.23224,
          4.8783507,
          5.2366214,
          5.2872114,
          5.0357594,
          2.8463328,
          2.806925,
          2.6632617,
          2.7055094,
          2.814425,
          2.814562,
          2.8599715,
          0.8663134,
          2.7735147,
          2.805732,
          2.7161572,
          0.8769672,
          2.5145712,
          2.513307,
          0.9090949,
          2.542522,
          2.5435624,
          2.5112336,
          2.530787,
          2.310396,
          2.4524543,
          2.5987751,
          2.4836621,
          2.5458124,
          2.500836,
          2.1822965,
          2.432458,
          2.3485134,
          0.33284906,
          2.393128,
          2.4141097,
          2.501315,
          0.28727788,
          2.3866096,
          2.3829749,
          2.4764702,
          1.9784228,
          1.9350973,
          2.0269563,
          1.9431876,
          1.9659846,
          1.939953,
          1.9276055,
          3.350445,
          3.923707,
          2.0741684,
          2.2668257,
          2.0686681,
          2.2553756,
          2.6601293,
          2.0045733,
          3.09,
          3.0896008,
          3.0477352,
          2.9135144,
          3.1542144,
          1.0797609,
          1.0962282,
          2.3237252,
          3.1183975,
          0.13604301,
          0.8998101,
          3.2601542,
          -0.28229785,
          0.82295775,
          1.0735711,
          0.49334273,
          2.2217212,
          2.2281528,
          2.2513473,
          2.2262847,
          2.0748281,
          2.197452,
          2.3186522,
          2.2808301,
          2.252638,
          2.215589,
          2.2669983,
          2.2758706,
          1.2648964,
          3.7275903,
          3.4676247,
          3.6063643,
          4.0012565,
          0.87993157,
          0.78522074,
          0.7276447,
          0.70689136,
          0.77972955,
          2.3254874,
          0.91773605,
          1.268068
         ],
         "yaxis": "y"
        },
        {
         "customdata": [
          [
           "Inflammatory bowel disease and other gastroenteritis and colitis",
           "Noninfective"
          ],
          [
           "Regional enteritis",
           "Noninfective"
          ],
          [
           "Ulcerative colitis",
           "Noninfective"
          ],
          [
           "Ulcerative colitis (chronic)",
           "Noninfective"
          ],
          [
           "Ulceration of the lower GI tract",
           "Noninfective"
          ],
          [
           "Ulceration of intestine",
           "Noninfective"
          ],
          [
           "Angiodysplasia of intestine (without mention of hemorrhage)",
           "Noninfective"
          ],
          [
           "Intestinal malabsorption (non-celiac)",
           "Noninfective"
          ],
          [
           "Celiac disease",
           "Noninfective"
          ],
          [
           "Noninfectious gastroenteritis",
           "Noninfective"
          ],
          [
           "Ileostomy status",
           "Noninfective"
          ],
          [
           "Intestinal obstruction without mention of hernia",
           "Noninfective"
          ],
          [
           "Paralytic ileus",
           "Noninfective"
          ],
          [
           "Impaction of intestine",
           "Noninfective"
          ],
          [
           "Peritoneal or intestinal adhesions",
           "Noninfective"
          ],
          [
           "Other intestinal obstruction",
           "Noninfective"
          ],
          [
           "Symptoms involving digestive system",
           "Noninfective"
          ],
          [
           "Diarrhea",
           "Noninfective"
          ],
          [
           "Flatulence",
           "Noninfective"
          ],
          [
           "Diverticulosis and diverticulitis",
           "Noninfective"
          ],
          [
           "Diverticulosis",
           "Noninfective"
          ],
          [
           "Diverticulitis",
           "Noninfective"
          ],
          [
           "Constipation",
           "Noninfective"
          ],
          [
           "Functional digestive disorders",
           "Noninfective"
          ],
          [
           "Irritable Bowel Syndrome",
           "Noninfective"
          ],
          [
           "Abnormal findings on exam of gastrointestinal tract/ abdominal area",
           "Noninfective"
          ],
          [
           "Personal history of diseases of digestive system",
           "Noninfective"
          ]
         ],
         "hovertemplate": "highlight=True<br>UMAP_1=%{x}<br>UMAP_2=%{y}<br>phenotype=%{customdata[0]}<br>category=%{customdata[1]}<extra></extra>",
         "legendgroup": "True",
         "marker": {
          "color": "#FB6D48",
          "line": {
           "color": "white",
           "width": 1
          },
          "opacity": 0.7,
          "size": 7,
          "symbol": "circle"
         },
         "mode": "markers",
         "name": "True",
         "orientation": "v",
         "showlegend": true,
         "type": "scatter",
         "x": [
          11.841461,
          11.666214,
          12.002554,
          11.965192,
          12.09489,
          12.066289,
          12.40276,
          12.0660095,
          11.7662945,
          11.646609,
          11.932265,
          12.621102,
          11.827313,
          12.150611,
          12.363999,
          12.278298,
          11.408945,
          11.467747,
          11.45078,
          12.352422,
          12.351515,
          12.370533,
          11.539556,
          12.53483,
          11.809075,
          14.172613,
          11.264832
         ],
         "xaxis": "x",
         "y": [
          2.5551255,
          2.7748952,
          2.4587598,
          2.4282715,
          2.3689568,
          2.25271,
          1.9028176,
          2.1399834,
          2.4944575,
          2.7688885,
          1.9873432,
          1.9484738,
          2.1957924,
          2.1950314,
          2.207018,
          2.1316473,
          2.62102,
          2.3531063,
          2.3206024,
          2.392906,
          2.3792288,
          2.3949654,
          2.2793984,
          2.406969,
          2.4229932,
          1.3839875,
          2.2903793
         ],
         "yaxis": "y"
        }
       ],
       "layout": {
        "height": 700,
        "legend": {
         "title": {
          "text": "highlight"
         },
         "tracegroupgap": 0
        },
        "template": {
         "data": {
          "bar": [
           {
            "error_x": {
             "color": "#2a3f5f"
            },
            "error_y": {
             "color": "#2a3f5f"
            },
            "marker": {
             "line": {
              "color": "white",
              "width": 0.5
             },
             "pattern": {
              "fillmode": "overlay",
              "size": 10,
              "solidity": 0.2
             }
            },
            "type": "bar"
           }
          ],
          "barpolar": [
           {
            "marker": {
             "line": {
              "color": "white",
              "width": 0.5
             },
             "pattern": {
              "fillmode": "overlay",
              "size": 10,
              "solidity": 0.2
             }
            },
            "type": "barpolar"
           }
          ],
          "carpet": [
           {
            "aaxis": {
             "endlinecolor": "#2a3f5f",
             "gridcolor": "#C8D4E3",
             "linecolor": "#C8D4E3",
             "minorgridcolor": "#C8D4E3",
             "startlinecolor": "#2a3f5f"
            },
            "baxis": {
             "endlinecolor": "#2a3f5f",
             "gridcolor": "#C8D4E3",
             "linecolor": "#C8D4E3",
             "minorgridcolor": "#C8D4E3",
             "startlinecolor": "#2a3f5f"
            },
            "type": "carpet"
           }
          ],
          "choropleth": [
           {
            "colorbar": {
             "outlinewidth": 0,
             "ticks": ""
            },
            "type": "choropleth"
           }
          ],
          "contour": [
           {
            "colorbar": {
             "outlinewidth": 0,
             "ticks": ""
            },
            "colorscale": [
             [
              0,
              "#0d0887"
             ],
             [
              0.1111111111111111,
              "#46039f"
             ],
             [
              0.2222222222222222,
              "#7201a8"
             ],
             [
              0.3333333333333333,
              "#9c179e"
             ],
             [
              0.4444444444444444,
              "#bd3786"
             ],
             [
              0.5555555555555556,
              "#d8576b"
             ],
             [
              0.6666666666666666,
              "#ed7953"
             ],
             [
              0.7777777777777778,
              "#fb9f3a"
             ],
             [
              0.8888888888888888,
              "#fdca26"
             ],
             [
              1,
              "#f0f921"
             ]
            ],
            "type": "contour"
           }
          ],
          "contourcarpet": [
           {
            "colorbar": {
             "outlinewidth": 0,
             "ticks": ""
            },
            "type": "contourcarpet"
           }
          ],
          "heatmap": [
           {
            "colorbar": {
             "outlinewidth": 0,
             "ticks": ""
            },
            "colorscale": [
             [
              0,
              "#0d0887"
             ],
             [
              0.1111111111111111,
              "#46039f"
             ],
             [
              0.2222222222222222,
              "#7201a8"
             ],
             [
              0.3333333333333333,
              "#9c179e"
             ],
             [
              0.4444444444444444,
              "#bd3786"
             ],
             [
              0.5555555555555556,
              "#d8576b"
             ],
             [
              0.6666666666666666,
              "#ed7953"
             ],
             [
              0.7777777777777778,
              "#fb9f3a"
             ],
             [
              0.8888888888888888,
              "#fdca26"
             ],
             [
              1,
              "#f0f921"
             ]
            ],
            "type": "heatmap"
           }
          ],
          "heatmapgl": [
           {
            "colorbar": {
             "outlinewidth": 0,
             "ticks": ""
            },
            "colorscale": [
             [
              0,
              "#0d0887"
             ],
             [
              0.1111111111111111,
              "#46039f"
             ],
             [
              0.2222222222222222,
              "#7201a8"
             ],
             [
              0.3333333333333333,
              "#9c179e"
             ],
             [
              0.4444444444444444,
              "#bd3786"
             ],
             [
              0.5555555555555556,
              "#d8576b"
             ],
             [
              0.6666666666666666,
              "#ed7953"
             ],
             [
              0.7777777777777778,
              "#fb9f3a"
             ],
             [
              0.8888888888888888,
              "#fdca26"
             ],
             [
              1,
              "#f0f921"
             ]
            ],
            "type": "heatmapgl"
           }
          ],
          "histogram": [
           {
            "marker": {
             "pattern": {
              "fillmode": "overlay",
              "size": 10,
              "solidity": 0.2
             }
            },
            "type": "histogram"
           }
          ],
          "histogram2d": [
           {
            "colorbar": {
             "outlinewidth": 0,
             "ticks": ""
            },
            "colorscale": [
             [
              0,
              "#0d0887"
             ],
             [
              0.1111111111111111,
              "#46039f"
             ],
             [
              0.2222222222222222,
              "#7201a8"
             ],
             [
              0.3333333333333333,
              "#9c179e"
             ],
             [
              0.4444444444444444,
              "#bd3786"
             ],
             [
              0.5555555555555556,
              "#d8576b"
             ],
             [
              0.6666666666666666,
              "#ed7953"
             ],
             [
              0.7777777777777778,
              "#fb9f3a"
             ],
             [
              0.8888888888888888,
              "#fdca26"
             ],
             [
              1,
              "#f0f921"
             ]
            ],
            "type": "histogram2d"
           }
          ],
          "histogram2dcontour": [
           {
            "colorbar": {
             "outlinewidth": 0,
             "ticks": ""
            },
            "colorscale": [
             [
              0,
              "#0d0887"
             ],
             [
              0.1111111111111111,
              "#46039f"
             ],
             [
              0.2222222222222222,
              "#7201a8"
             ],
             [
              0.3333333333333333,
              "#9c179e"
             ],
             [
              0.4444444444444444,
              "#bd3786"
             ],
             [
              0.5555555555555556,
              "#d8576b"
             ],
             [
              0.6666666666666666,
              "#ed7953"
             ],
             [
              0.7777777777777778,
              "#fb9f3a"
             ],
             [
              0.8888888888888888,
              "#fdca26"
             ],
             [
              1,
              "#f0f921"
             ]
            ],
            "type": "histogram2dcontour"
           }
          ],
          "mesh3d": [
           {
            "colorbar": {
             "outlinewidth": 0,
             "ticks": ""
            },
            "type": "mesh3d"
           }
          ],
          "parcoords": [
           {
            "line": {
             "colorbar": {
              "outlinewidth": 0,
              "ticks": ""
             }
            },
            "type": "parcoords"
           }
          ],
          "pie": [
           {
            "automargin": true,
            "type": "pie"
           }
          ],
          "scatter": [
           {
            "fillpattern": {
             "fillmode": "overlay",
             "size": 10,
             "solidity": 0.2
            },
            "type": "scatter"
           }
          ],
          "scatter3d": [
           {
            "line": {
             "colorbar": {
              "outlinewidth": 0,
              "ticks": ""
             }
            },
            "marker": {
             "colorbar": {
              "outlinewidth": 0,
              "ticks": ""
             }
            },
            "type": "scatter3d"
           }
          ],
          "scattercarpet": [
           {
            "marker": {
             "colorbar": {
              "outlinewidth": 0,
              "ticks": ""
             }
            },
            "type": "scattercarpet"
           }
          ],
          "scattergeo": [
           {
            "marker": {
             "colorbar": {
              "outlinewidth": 0,
              "ticks": ""
             }
            },
            "type": "scattergeo"
           }
          ],
          "scattergl": [
           {
            "marker": {
             "colorbar": {
              "outlinewidth": 0,
              "ticks": ""
             }
            },
            "type": "scattergl"
           }
          ],
          "scattermapbox": [
           {
            "marker": {
             "colorbar": {
              "outlinewidth": 0,
              "ticks": ""
             }
            },
            "type": "scattermapbox"
           }
          ],
          "scatterpolar": [
           {
            "marker": {
             "colorbar": {
              "outlinewidth": 0,
              "ticks": ""
             }
            },
            "type": "scatterpolar"
           }
          ],
          "scatterpolargl": [
           {
            "marker": {
             "colorbar": {
              "outlinewidth": 0,
              "ticks": ""
             }
            },
            "type": "scatterpolargl"
           }
          ],
          "scatterternary": [
           {
            "marker": {
             "colorbar": {
              "outlinewidth": 0,
              "ticks": ""
             }
            },
            "type": "scatterternary"
           }
          ],
          "surface": [
           {
            "colorbar": {
             "outlinewidth": 0,
             "ticks": ""
            },
            "colorscale": [
             [
              0,
              "#0d0887"
             ],
             [
              0.1111111111111111,
              "#46039f"
             ],
             [
              0.2222222222222222,
              "#7201a8"
             ],
             [
              0.3333333333333333,
              "#9c179e"
             ],
             [
              0.4444444444444444,
              "#bd3786"
             ],
             [
              0.5555555555555556,
              "#d8576b"
             ],
             [
              0.6666666666666666,
              "#ed7953"
             ],
             [
              0.7777777777777778,
              "#fb9f3a"
             ],
             [
              0.8888888888888888,
              "#fdca26"
             ],
             [
              1,
              "#f0f921"
             ]
            ],
            "type": "surface"
           }
          ],
          "table": [
           {
            "cells": {
             "fill": {
              "color": "#EBF0F8"
             },
             "line": {
              "color": "white"
             }
            },
            "header": {
             "fill": {
              "color": "#C8D4E3"
             },
             "line": {
              "color": "white"
             }
            },
            "type": "table"
           }
          ]
         },
         "layout": {
          "annotationdefaults": {
           "arrowcolor": "#2a3f5f",
           "arrowhead": 0,
           "arrowwidth": 1
          },
          "autotypenumbers": "strict",
          "coloraxis": {
           "colorbar": {
            "outlinewidth": 0,
            "ticks": ""
           }
          },
          "colorscale": {
           "diverging": [
            [
             0,
             "#8e0152"
            ],
            [
             0.1,
             "#c51b7d"
            ],
            [
             0.2,
             "#de77ae"
            ],
            [
             0.3,
             "#f1b6da"
            ],
            [
             0.4,
             "#fde0ef"
            ],
            [
             0.5,
             "#f7f7f7"
            ],
            [
             0.6,
             "#e6f5d0"
            ],
            [
             0.7,
             "#b8e186"
            ],
            [
             0.8,
             "#7fbc41"
            ],
            [
             0.9,
             "#4d9221"
            ],
            [
             1,
             "#276419"
            ]
           ],
           "sequential": [
            [
             0,
             "#0d0887"
            ],
            [
             0.1111111111111111,
             "#46039f"
            ],
            [
             0.2222222222222222,
             "#7201a8"
            ],
            [
             0.3333333333333333,
             "#9c179e"
            ],
            [
             0.4444444444444444,
             "#bd3786"
            ],
            [
             0.5555555555555556,
             "#d8576b"
            ],
            [
             0.6666666666666666,
             "#ed7953"
            ],
            [
             0.7777777777777778,
             "#fb9f3a"
            ],
            [
             0.8888888888888888,
             "#fdca26"
            ],
            [
             1,
             "#f0f921"
            ]
           ],
           "sequentialminus": [
            [
             0,
             "#0d0887"
            ],
            [
             0.1111111111111111,
             "#46039f"
            ],
            [
             0.2222222222222222,
             "#7201a8"
            ],
            [
             0.3333333333333333,
             "#9c179e"
            ],
            [
             0.4444444444444444,
             "#bd3786"
            ],
            [
             0.5555555555555556,
             "#d8576b"
            ],
            [
             0.6666666666666666,
             "#ed7953"
            ],
            [
             0.7777777777777778,
             "#fb9f3a"
            ],
            [
             0.8888888888888888,
             "#fdca26"
            ],
            [
             1,
             "#f0f921"
            ]
           ]
          },
          "colorway": [
           "#636efa",
           "#EF553B",
           "#00cc96",
           "#ab63fa",
           "#FFA15A",
           "#19d3f3",
           "#FF6692",
           "#B6E880",
           "#FF97FF",
           "#FECB52"
          ],
          "font": {
           "color": "#2a3f5f"
          },
          "geo": {
           "bgcolor": "white",
           "lakecolor": "white",
           "landcolor": "white",
           "showlakes": true,
           "showland": true,
           "subunitcolor": "#C8D4E3"
          },
          "hoverlabel": {
           "align": "left"
          },
          "hovermode": "closest",
          "mapbox": {
           "style": "light"
          },
          "paper_bgcolor": "white",
          "plot_bgcolor": "white",
          "polar": {
           "angularaxis": {
            "gridcolor": "#EBF0F8",
            "linecolor": "#EBF0F8",
            "ticks": ""
           },
           "bgcolor": "white",
           "radialaxis": {
            "gridcolor": "#EBF0F8",
            "linecolor": "#EBF0F8",
            "ticks": ""
           }
          },
          "scene": {
           "xaxis": {
            "backgroundcolor": "white",
            "gridcolor": "#DFE8F3",
            "gridwidth": 2,
            "linecolor": "#EBF0F8",
            "showbackground": true,
            "ticks": "",
            "zerolinecolor": "#EBF0F8"
           },
           "yaxis": {
            "backgroundcolor": "white",
            "gridcolor": "#DFE8F3",
            "gridwidth": 2,
            "linecolor": "#EBF0F8",
            "showbackground": true,
            "ticks": "",
            "zerolinecolor": "#EBF0F8"
           },
           "zaxis": {
            "backgroundcolor": "white",
            "gridcolor": "#DFE8F3",
            "gridwidth": 2,
            "linecolor": "#EBF0F8",
            "showbackground": true,
            "ticks": "",
            "zerolinecolor": "#EBF0F8"
           }
          },
          "shapedefaults": {
           "line": {
            "color": "#2a3f5f"
           }
          },
          "ternary": {
           "aaxis": {
            "gridcolor": "#DFE8F3",
            "linecolor": "#A2B1C6",
            "ticks": ""
           },
           "baxis": {
            "gridcolor": "#DFE8F3",
            "linecolor": "#A2B1C6",
            "ticks": ""
           },
           "bgcolor": "white",
           "caxis": {
            "gridcolor": "#DFE8F3",
            "linecolor": "#A2B1C6",
            "ticks": ""
           }
          },
          "title": {
           "x": 0.05
          },
          "xaxis": {
           "automargin": true,
           "gridcolor": "#EBF0F8",
           "linecolor": "#EBF0F8",
           "ticks": "",
           "title": {
            "standoff": 15
           },
           "zerolinecolor": "#EBF0F8",
           "zerolinewidth": 2
          },
          "yaxis": {
           "automargin": true,
           "gridcolor": "#EBF0F8",
           "linecolor": "#EBF0F8",
           "ticks": "",
           "title": {
            "standoff": 15
           },
           "zerolinecolor": "#EBF0F8",
           "zerolinewidth": 2
          }
         }
        },
        "title": {
         "text": "Interactive Functional Digestive Disorders"
        },
        "width": 900,
        "xaxis": {
         "anchor": "y",
         "domain": [
          0,
          1
         ],
         "title": {
          "text": "UMAP 1 (Digestive)"
         }
        },
        "yaxis": {
         "anchor": "x",
         "domain": [
          0,
          1
         ],
         "title": {
          "text": "UMAP 2 (Digestive)"
         }
        }
       }
      },
      "text/html": [
       "<div>                            <div id=\"0b85572d-406f-4402-9122-214370d06bde\" class=\"plotly-graph-div\" style=\"height:700px; width:900px;\"></div>            <script type=\"text/javascript\">                require([\"plotly\"], function(Plotly) {                    window.PLOTLYENV=window.PLOTLYENV || {};                                    if (document.getElementById(\"0b85572d-406f-4402-9122-214370d06bde\")) {                    Plotly.newPlot(                        \"0b85572d-406f-4402-9122-214370d06bde\",                        [{\"customdata\":[[\"Disorders of tooth development\",\"teeth\"],[\"Hereditary disturbances in tooth structure\",\"teeth\"],[\"Disturbances in tooth eruption\",\"teeth\"],[\"Diseases of hard tissues of teeth\",\"teeth\"],[\"Dental caries\",\"teeth\"],[\"Dental abrasion, erosion and attrition\",\"teeth\"],[\"Tooth complications likely association with other diseases\",\"teeth\"],[\"Diseases of pulp and periapical tissues\",\"teeth\"],[\"Pulpitis and necrosis of tooth pulp\",\"teeth\"],[\"Periapical abscess\",\"teeth\"],[\"Gingival and periodontal diseases\",\"teeth\"],[\"Gingivitis\",\"teeth\"],[\"Periodontitis (acute or chronic)\",\"teeth\"],[\"Acute periodontitis\",\"teeth\"],[\"Chronic periodontitis\",\"teeth\"],[\"Dentofacial anomalies, including malocclusion\",\"teeth\"],[\"Anomalies of tooth position\\u002fmalocclusion\",\"teeth\"],[\"Other diseases of the teeth and supporting structures\",\"teeth\"],[\"Loss of teeth or edentulism\",\"teeth\"],[\"Atrophy of edentulous alveolar ridge\",\"teeth\"],[\"Diseases of the jaws\",\"teeth\"],[\"Cysts of the jaws\",\"teeth\"],[\"Anomalies of jaw size\\u002fsymmetry\",\"teeth\"],[\"Temporomandibular joint disorders\",\"teeth\"],[\"Temporomandibular joint disorder, unspecified\",\"teeth\"],[\"Arthralgia\\u002fankylosis of temporomandibular joint\",\"teeth\"],[\"Inflammatory conditions of jaw\",\"teeth\"],[\"Exostosis of jaw\",\"teeth\"],[\"Jaw disease NOS\",\"teeth\"],[\"Diseases of the salivary glands\",\"mouth\"],[\"Hypertrophy of salivary gland\",\"mouth\"],[\"Sialoadenitis\",\"mouth\"],[\"Disturbance of salivary secretion\",\"mouth\"],[\"Other specified diseases of the salivary glands\",\"mouth\"],[\"Diseases of the oral soft tissues, excluding lesions specific for gingiva and tongue\",\"mouth\"],[\"Stomatitis and mucositis\",\"mouth\"],[\"Stomatitis and mucositis (ulcerative)\",\"mouth\"],[\"Oral aphthae\",\"mouth\"],[\"Cellulitis and abscess of oral soft tissues\",\"mouth\"],[\"Cysts of oral soft tissues\",\"mouth\"],[\"Cyst of the salivary gland\",\"mouth\"],[\"Diseases of lips\",\"mouth\"],[\"Leukoplakia of oral mucosa\",\"mouth\"],[\"Sialolithiasis\",\"mouth\"],[\"Diseases and other conditions of the tongue\",\"mouth\"],[\"Glossitis\",\"mouth\"],[\"Glossodynia\",\"mouth\"],[\"Diseases of esophagus\",\"Esophageal\"],[\"Esophagitis, GERD and related diseases\",\"Esophageal\"],[\"GERD\",\"Esophageal\"],[\"Ulcer of esophagus\",\"Esophageal\"],[\"Barrett's esophagus\",\"Esophageal\"],[\"Reflux esophagitis\",\"Esophageal\"],[\"Eosinophilic esophagitis\",\"Esophageal\"],[\"Esophageal bleeding (varices\\u002fhemorrhage)\",\"Esophageal\"],[\"Stricture and stenosis of esophagus\",\"Esophageal\"],[\"Disorders of esophageal motility\",\"Esophageal\"],[\"Diverticulum of esophagus, acquired\",\"Esophageal\"],[\"Gastroesophageal laceration-hemorrhage syndrome\",\"Esophageal\"],[\"Heartburn\",\"Esophageal\"],[\"Peptic ulcer (excl. esophageal)\",\"Gastro ulcer\"],[\"Hemorrhage from gastrointestinal ulcer\",\"Gastro ulcer\"],[\"Gastric ulcer\",\"Gastro ulcer\"],[\"Duodenal ulcer\",\"Gastro ulcer\"],[\"Peptic ulcer, site unspecified\",\"Gastro ulcer\"],[\"Gastrojejunal ulcer\",\"Gastro ulcer\"],[\"Dysphagia\",\"Esophageal\"],[\"Gastritis and duodenitis\",\"stomach\"],[\"Acute gastritis\",\"stomach\"],[\"Atrophic gastritis\",\"stomach\"],[\"Duodenitis\",\"stomach\"],[\"Other specified gastritis\",\"stomach\"],[\"Gastritis and duodenitis, NOS\",\"stomach\"],[\"Disorders of function of stomach\",\"stomach\"],[\"Gastroparesis\",\"stomach\"],[\"Complications of gastrostomy, colostomy and enterostomy\",\"stomach\"],[\"Dyspepsia and other specified disorders of function of stomach\",\"stomach\"],[\"Other disorders of stomach and duodenum\",\"stomach\"],[\"Lesions of stomach and duodenum\",\"stomach\"],[\"Bariatric surgery\",\"Bariatric\"],[\"Appendiceal conditions\",\"Appendiceal\"],[\"Appendicitis\",\"Appendiceal\"],[\"Acute appendicitis\",\"Appendiceal\"],[\"Abdominal hernia\",\"hernia\"],[\"Inguinal hernia\",\"hernia\"],[\"Diaphragmatic hernia\",\"hernia\"],[\"Femoral hernia\",\"hernia\"],[\"Umbilical hernia\",\"hernia\"],[\"Ventral hernia\",\"hernia\"],[\"Incisional hernia\",\"hernia\"],[\"Anal and rectal conditions\",\"Other\"],[\"Anal and rectal polyp\",\"Other\"],[\"Peritonitis and retroperitoneal infections\",\"Other\"],[\"Other disorders of peritoneum\",\"Other\"],[\"Peritoneal adhesions (postoperative) (postinfection)\",\"Other\"],[\"Other disorders of intestine\",\"Other\"],[\"Toxic gastroenteritis and colitis\",\"Other\"],[\"Gastrointestinal complications\",\"Other\"],[\"Chronic liver disease and cirrhosis\",\"Liver\"],[\"Other chronic nonalcoholic liver disease\",\"Liver\"],[\"Cirrhosis of liver without mention of alcohol\",\"Liver\"],[\"Primary biliary cirrhosis\",\"Liver\"],[\"Liver abscess and sequelae of chronic liver disease\",\"Liver\"],[\"Portal hypertension\",\"Liver\"],[\"Ascites (non malignant)\",\"Liver\"],[\"Other disorders of liver\",\"Liver\"],[\"Chronic passive congestion of liver\",\"Liver\"],[\"Liver replaced by transplant\",\"Liver\"],[\"Hepatomegaly\",\"Liver\"],[\"Acute and subacute necrosis of liver\",\"Liver\"],[\"Jaundice (not of newborn)\",\"Liver\"],[\"Nonspecific elevation of levels of transaminase or lactic acid dehydrogenase [LDH]\",\"Liver\"],[\"Abnormal results of function study of liver\",\"Liver\"],[\"Abnormal serum enzyme levels\",\"Liver\"],[\"Cholelithiasis and cholecystitis\",\"Biliary\"],[\"Cholelithiasis\",\"Biliary\"],[\"Cholelithiasis with acute cholecystitis\",\"Biliary\"],[\"Cholelithiasis with other cholecystitis\",\"Biliary\"],[\"Calculus of bile duct\",\"Biliary\"],[\"Cholecystitis without cholelithiasis\",\"Biliary\"],[\"Other biliary tract disease\",\"Biliary\"],[\"Cholangitis\",\"Biliary\"],[\"Obstruction of bile duct\",\"Biliary\"],[\"Cholesterolosis of gallbladder\",\"Biliary\"],[\"Other disorders of gallbladder\",\"Biliary\"],[\"Other disorders of biliary tract\",\"Biliary\"],[\"Nonspecific abnormal findings on radiological and other examination of biliary tract\",\"Biliary\"],[\"Diseases of pancreas\",\"Pancreatic\"],[\"Acute pancreatitis\",\"Pancreatic\"],[\"Chronic pancreatitis\",\"Pancreatic\"],[\"Cyst and pseudocyst of pancreas\",\"Pancreatic\"],[\"Gastrointestinal hemorrhage\",\"Other\"],[\"Hematemesis\",\"Other\"],[\"Blood in stool\",\"Other\"],[\"Hemorrhage of rectum and anus\",\"Other\"],[\"Hemorrhage of gastrointestinal tract\",\"Other\"],[\"Other symptoms involving abdomen and pelvis\",\"Other\"],[\"Splenomegaly\",\"Other\"],[\"Nonspecific abnormal findings in stool contents\",\"Other\"]],\"hovertemplate\":\"highlight=False\\u003cbr\\u003eUMAP_1=%{x}\\u003cbr\\u003eUMAP_2=%{y}\\u003cbr\\u003ephenotype=%{customdata[0]}\\u003cbr\\u003ecategory=%{customdata[1]}\\u003cextra\\u003e\\u003c\\u002fextra\\u003e\",\"legendgroup\":\"False\",\"marker\":{\"color\":\"gray\",\"opacity\":0.7,\"symbol\":\"circle\",\"line\":{\"color\":\"white\",\"width\":1},\"size\":7},\"mode\":\"markers\",\"name\":\"False\",\"orientation\":\"v\",\"showlegend\":true,\"x\":[12.843326,12.908388,12.90748,12.892418,12.946482,12.928417,12.92249,12.890549,12.882347,12.759845,12.948122,12.9768915,12.7771845,12.790361,12.825554,12.840672,12.84403,12.911312,12.910738,12.877992,12.7683115,12.9631815,12.851359,10.850549,10.759581,10.7519045,12.562827,12.621896,11.564546,12.815485,13.013627,12.731808,12.883156,12.786776,13.060073,13.070244,12.929602,13.170418,12.464097,13.181399,13.0554285,13.336275,13.467405,12.885223,13.178607,13.0355835,12.985704,12.493873,12.448925,12.091774,12.371579,12.4159975,12.338035,12.419395,11.778246,12.505438,12.552059,12.775002,11.8155575,11.428215,12.197688,11.791296,12.128147,12.149895,12.112752,12.157811,11.889009,12.216449,12.201153,12.163759,12.389466,12.191698,11.974789,12.523682,12.017342,10.846435,12.448867,12.666751,12.394616,12.022727,12.758513,12.734633,12.777444,12.85928,12.925973,12.895736,12.895677,12.900248,12.903473,12.903242,14.004479,14.374355,12.496482,12.706998,12.511615,12.690033,11.719819,11.674819,12.428387,12.455707,12.413197,12.654251,12.51652,10.553352,11.230538,12.956101,12.406487,10.071228,11.409151,12.486607,11.075933,14.07258,14.085027,13.830715,13.287939,13.290088,13.237814,13.283476,13.573162,13.243871,13.233024,13.25856,13.347696,13.289625,13.166759,13.274743,14.214474,13.186206,13.136358,13.122108,13.429115,11.786677,11.781176,11.781831,11.681997,11.711283,13.595953,11.358766,14.252381],\"xaxis\":\"x\",\"y\":[5.8070045,5.786859,5.7451744,5.8332634,5.8435497,5.828349,5.8276005,5.895766,5.895272,6.0270143,5.8637753,5.73955,5.9531856,5.9341874,5.9090676,5.6649423,5.6397734,5.807018,5.8423424,5.857924,5.5726953,5.232188,5.503843,6.105066,6.1548123,6.209869,5.5865493,5.5774484,5.7139783,4.9099083,4.868456,4.806136,4.946983,4.9278083,5.635545,5.408201,5.2781577,5.343979,6.433947,5.127637,4.884621,5.2053986,5.23224,4.8783507,5.2366214,5.2872114,5.0357594,2.8463328,2.806925,2.6632617,2.7055094,2.814425,2.814562,2.8599715,0.8663134,2.7735147,2.805732,2.7161572,0.8769672,2.5145712,2.513307,0.9090949,2.542522,2.5435624,2.5112336,2.530787,2.310396,2.4524543,2.5987751,2.4836621,2.5458124,2.500836,2.1822965,2.432458,2.3485134,0.33284906,2.393128,2.4141097,2.501315,0.28727788,2.3866096,2.3829749,2.4764702,1.9784228,1.9350973,2.0269563,1.9431876,1.9659846,1.939953,1.9276055,3.350445,3.923707,2.0741684,2.2668257,2.0686681,2.2553756,2.6601293,2.0045733,3.09,3.0896008,3.0477352,2.9135144,3.1542144,1.0797609,1.0962282,2.3237252,3.1183975,0.13604301,0.8998101,3.2601542,-0.28229785,0.82295775,1.0735711,0.49334273,2.2217212,2.2281528,2.2513473,2.2262847,2.0748281,2.197452,2.3186522,2.2808301,2.252638,2.215589,2.2669983,2.2758706,1.2648964,3.7275903,3.4676247,3.6063643,4.0012565,0.87993157,0.78522074,0.7276447,0.70689136,0.77972955,2.3254874,0.91773605,1.268068],\"yaxis\":\"y\",\"type\":\"scatter\"},{\"customdata\":[[\"Inflammatory bowel disease and other gastroenteritis and colitis\",\"Noninfective\"],[\"Regional enteritis\",\"Noninfective\"],[\"Ulcerative colitis\",\"Noninfective\"],[\"Ulcerative colitis (chronic)\",\"Noninfective\"],[\"Ulceration of the lower GI tract\",\"Noninfective\"],[\"Ulceration of intestine\",\"Noninfective\"],[\"Angiodysplasia of intestine (without mention of hemorrhage)\",\"Noninfective\"],[\"Intestinal malabsorption (non-celiac)\",\"Noninfective\"],[\"Celiac disease\",\"Noninfective\"],[\"Noninfectious gastroenteritis\",\"Noninfective\"],[\"Ileostomy status\",\"Noninfective\"],[\"Intestinal obstruction without mention of hernia\",\"Noninfective\"],[\"Paralytic ileus\",\"Noninfective\"],[\"Impaction of intestine\",\"Noninfective\"],[\"Peritoneal or intestinal adhesions\",\"Noninfective\"],[\"Other intestinal obstruction\",\"Noninfective\"],[\"Symptoms involving digestive system\",\"Noninfective\"],[\"Diarrhea\",\"Noninfective\"],[\"Flatulence\",\"Noninfective\"],[\"Diverticulosis and diverticulitis\",\"Noninfective\"],[\"Diverticulosis\",\"Noninfective\"],[\"Diverticulitis\",\"Noninfective\"],[\"Constipation\",\"Noninfective\"],[\"Functional digestive disorders\",\"Noninfective\"],[\"Irritable Bowel Syndrome\",\"Noninfective\"],[\"Abnormal findings on exam of gastrointestinal tract\\u002f abdominal area\",\"Noninfective\"],[\"Personal history of diseases of digestive system\",\"Noninfective\"]],\"hovertemplate\":\"highlight=True\\u003cbr\\u003eUMAP_1=%{x}\\u003cbr\\u003eUMAP_2=%{y}\\u003cbr\\u003ephenotype=%{customdata[0]}\\u003cbr\\u003ecategory=%{customdata[1]}\\u003cextra\\u003e\\u003c\\u002fextra\\u003e\",\"legendgroup\":\"True\",\"marker\":{\"color\":\"#FB6D48\",\"opacity\":0.7,\"symbol\":\"circle\",\"line\":{\"color\":\"white\",\"width\":1},\"size\":7},\"mode\":\"markers\",\"name\":\"True\",\"orientation\":\"v\",\"showlegend\":true,\"x\":[11.841461,11.666214,12.002554,11.965192,12.09489,12.066289,12.40276,12.0660095,11.7662945,11.646609,11.932265,12.621102,11.827313,12.150611,12.363999,12.278298,11.408945,11.467747,11.45078,12.352422,12.351515,12.370533,11.539556,12.53483,11.809075,14.172613,11.264832],\"xaxis\":\"x\",\"y\":[2.5551255,2.7748952,2.4587598,2.4282715,2.3689568,2.25271,1.9028176,2.1399834,2.4944575,2.7688885,1.9873432,1.9484738,2.1957924,2.1950314,2.207018,2.1316473,2.62102,2.3531063,2.3206024,2.392906,2.3792288,2.3949654,2.2793984,2.406969,2.4229932,1.3839875,2.2903793],\"yaxis\":\"y\",\"type\":\"scatter\"}],                        {\"template\":{\"data\":{\"barpolar\":[{\"marker\":{\"line\":{\"color\":\"white\",\"width\":0.5},\"pattern\":{\"fillmode\":\"overlay\",\"size\":10,\"solidity\":0.2}},\"type\":\"barpolar\"}],\"bar\":[{\"error_x\":{\"color\":\"#2a3f5f\"},\"error_y\":{\"color\":\"#2a3f5f\"},\"marker\":{\"line\":{\"color\":\"white\",\"width\":0.5},\"pattern\":{\"fillmode\":\"overlay\",\"size\":10,\"solidity\":0.2}},\"type\":\"bar\"}],\"carpet\":[{\"aaxis\":{\"endlinecolor\":\"#2a3f5f\",\"gridcolor\":\"#C8D4E3\",\"linecolor\":\"#C8D4E3\",\"minorgridcolor\":\"#C8D4E3\",\"startlinecolor\":\"#2a3f5f\"},\"baxis\":{\"endlinecolor\":\"#2a3f5f\",\"gridcolor\":\"#C8D4E3\",\"linecolor\":\"#C8D4E3\",\"minorgridcolor\":\"#C8D4E3\",\"startlinecolor\":\"#2a3f5f\"},\"type\":\"carpet\"}],\"choropleth\":[{\"colorbar\":{\"outlinewidth\":0,\"ticks\":\"\"},\"type\":\"choropleth\"}],\"contourcarpet\":[{\"colorbar\":{\"outlinewidth\":0,\"ticks\":\"\"},\"type\":\"contourcarpet\"}],\"contour\":[{\"colorbar\":{\"outlinewidth\":0,\"ticks\":\"\"},\"colorscale\":[[0.0,\"#0d0887\"],[0.1111111111111111,\"#46039f\"],[0.2222222222222222,\"#7201a8\"],[0.3333333333333333,\"#9c179e\"],[0.4444444444444444,\"#bd3786\"],[0.5555555555555556,\"#d8576b\"],[0.6666666666666666,\"#ed7953\"],[0.7777777777777778,\"#fb9f3a\"],[0.8888888888888888,\"#fdca26\"],[1.0,\"#f0f921\"]],\"type\":\"contour\"}],\"heatmapgl\":[{\"colorbar\":{\"outlinewidth\":0,\"ticks\":\"\"},\"colorscale\":[[0.0,\"#0d0887\"],[0.1111111111111111,\"#46039f\"],[0.2222222222222222,\"#7201a8\"],[0.3333333333333333,\"#9c179e\"],[0.4444444444444444,\"#bd3786\"],[0.5555555555555556,\"#d8576b\"],[0.6666666666666666,\"#ed7953\"],[0.7777777777777778,\"#fb9f3a\"],[0.8888888888888888,\"#fdca26\"],[1.0,\"#f0f921\"]],\"type\":\"heatmapgl\"}],\"heatmap\":[{\"colorbar\":{\"outlinewidth\":0,\"ticks\":\"\"},\"colorscale\":[[0.0,\"#0d0887\"],[0.1111111111111111,\"#46039f\"],[0.2222222222222222,\"#7201a8\"],[0.3333333333333333,\"#9c179e\"],[0.4444444444444444,\"#bd3786\"],[0.5555555555555556,\"#d8576b\"],[0.6666666666666666,\"#ed7953\"],[0.7777777777777778,\"#fb9f3a\"],[0.8888888888888888,\"#fdca26\"],[1.0,\"#f0f921\"]],\"type\":\"heatmap\"}],\"histogram2dcontour\":[{\"colorbar\":{\"outlinewidth\":0,\"ticks\":\"\"},\"colorscale\":[[0.0,\"#0d0887\"],[0.1111111111111111,\"#46039f\"],[0.2222222222222222,\"#7201a8\"],[0.3333333333333333,\"#9c179e\"],[0.4444444444444444,\"#bd3786\"],[0.5555555555555556,\"#d8576b\"],[0.6666666666666666,\"#ed7953\"],[0.7777777777777778,\"#fb9f3a\"],[0.8888888888888888,\"#fdca26\"],[1.0,\"#f0f921\"]],\"type\":\"histogram2dcontour\"}],\"histogram2d\":[{\"colorbar\":{\"outlinewidth\":0,\"ticks\":\"\"},\"colorscale\":[[0.0,\"#0d0887\"],[0.1111111111111111,\"#46039f\"],[0.2222222222222222,\"#7201a8\"],[0.3333333333333333,\"#9c179e\"],[0.4444444444444444,\"#bd3786\"],[0.5555555555555556,\"#d8576b\"],[0.6666666666666666,\"#ed7953\"],[0.7777777777777778,\"#fb9f3a\"],[0.8888888888888888,\"#fdca26\"],[1.0,\"#f0f921\"]],\"type\":\"histogram2d\"}],\"histogram\":[{\"marker\":{\"pattern\":{\"fillmode\":\"overlay\",\"size\":10,\"solidity\":0.2}},\"type\":\"histogram\"}],\"mesh3d\":[{\"colorbar\":{\"outlinewidth\":0,\"ticks\":\"\"},\"type\":\"mesh3d\"}],\"parcoords\":[{\"line\":{\"colorbar\":{\"outlinewidth\":0,\"ticks\":\"\"}},\"type\":\"parcoords\"}],\"pie\":[{\"automargin\":true,\"type\":\"pie\"}],\"scatter3d\":[{\"line\":{\"colorbar\":{\"outlinewidth\":0,\"ticks\":\"\"}},\"marker\":{\"colorbar\":{\"outlinewidth\":0,\"ticks\":\"\"}},\"type\":\"scatter3d\"}],\"scattercarpet\":[{\"marker\":{\"colorbar\":{\"outlinewidth\":0,\"ticks\":\"\"}},\"type\":\"scattercarpet\"}],\"scattergeo\":[{\"marker\":{\"colorbar\":{\"outlinewidth\":0,\"ticks\":\"\"}},\"type\":\"scattergeo\"}],\"scattergl\":[{\"marker\":{\"colorbar\":{\"outlinewidth\":0,\"ticks\":\"\"}},\"type\":\"scattergl\"}],\"scattermapbox\":[{\"marker\":{\"colorbar\":{\"outlinewidth\":0,\"ticks\":\"\"}},\"type\":\"scattermapbox\"}],\"scatterpolargl\":[{\"marker\":{\"colorbar\":{\"outlinewidth\":0,\"ticks\":\"\"}},\"type\":\"scatterpolargl\"}],\"scatterpolar\":[{\"marker\":{\"colorbar\":{\"outlinewidth\":0,\"ticks\":\"\"}},\"type\":\"scatterpolar\"}],\"scatter\":[{\"fillpattern\":{\"fillmode\":\"overlay\",\"size\":10,\"solidity\":0.2},\"type\":\"scatter\"}],\"scatterternary\":[{\"marker\":{\"colorbar\":{\"outlinewidth\":0,\"ticks\":\"\"}},\"type\":\"scatterternary\"}],\"surface\":[{\"colorbar\":{\"outlinewidth\":0,\"ticks\":\"\"},\"colorscale\":[[0.0,\"#0d0887\"],[0.1111111111111111,\"#46039f\"],[0.2222222222222222,\"#7201a8\"],[0.3333333333333333,\"#9c179e\"],[0.4444444444444444,\"#bd3786\"],[0.5555555555555556,\"#d8576b\"],[0.6666666666666666,\"#ed7953\"],[0.7777777777777778,\"#fb9f3a\"],[0.8888888888888888,\"#fdca26\"],[1.0,\"#f0f921\"]],\"type\":\"surface\"}],\"table\":[{\"cells\":{\"fill\":{\"color\":\"#EBF0F8\"},\"line\":{\"color\":\"white\"}},\"header\":{\"fill\":{\"color\":\"#C8D4E3\"},\"line\":{\"color\":\"white\"}},\"type\":\"table\"}]},\"layout\":{\"annotationdefaults\":{\"arrowcolor\":\"#2a3f5f\",\"arrowhead\":0,\"arrowwidth\":1},\"autotypenumbers\":\"strict\",\"coloraxis\":{\"colorbar\":{\"outlinewidth\":0,\"ticks\":\"\"}},\"colorscale\":{\"diverging\":[[0,\"#8e0152\"],[0.1,\"#c51b7d\"],[0.2,\"#de77ae\"],[0.3,\"#f1b6da\"],[0.4,\"#fde0ef\"],[0.5,\"#f7f7f7\"],[0.6,\"#e6f5d0\"],[0.7,\"#b8e186\"],[0.8,\"#7fbc41\"],[0.9,\"#4d9221\"],[1,\"#276419\"]],\"sequential\":[[0.0,\"#0d0887\"],[0.1111111111111111,\"#46039f\"],[0.2222222222222222,\"#7201a8\"],[0.3333333333333333,\"#9c179e\"],[0.4444444444444444,\"#bd3786\"],[0.5555555555555556,\"#d8576b\"],[0.6666666666666666,\"#ed7953\"],[0.7777777777777778,\"#fb9f3a\"],[0.8888888888888888,\"#fdca26\"],[1.0,\"#f0f921\"]],\"sequentialminus\":[[0.0,\"#0d0887\"],[0.1111111111111111,\"#46039f\"],[0.2222222222222222,\"#7201a8\"],[0.3333333333333333,\"#9c179e\"],[0.4444444444444444,\"#bd3786\"],[0.5555555555555556,\"#d8576b\"],[0.6666666666666666,\"#ed7953\"],[0.7777777777777778,\"#fb9f3a\"],[0.8888888888888888,\"#fdca26\"],[1.0,\"#f0f921\"]]},\"colorway\":[\"#636efa\",\"#EF553B\",\"#00cc96\",\"#ab63fa\",\"#FFA15A\",\"#19d3f3\",\"#FF6692\",\"#B6E880\",\"#FF97FF\",\"#FECB52\"],\"font\":{\"color\":\"#2a3f5f\"},\"geo\":{\"bgcolor\":\"white\",\"lakecolor\":\"white\",\"landcolor\":\"white\",\"showlakes\":true,\"showland\":true,\"subunitcolor\":\"#C8D4E3\"},\"hoverlabel\":{\"align\":\"left\"},\"hovermode\":\"closest\",\"mapbox\":{\"style\":\"light\"},\"paper_bgcolor\":\"white\",\"plot_bgcolor\":\"white\",\"polar\":{\"angularaxis\":{\"gridcolor\":\"#EBF0F8\",\"linecolor\":\"#EBF0F8\",\"ticks\":\"\"},\"bgcolor\":\"white\",\"radialaxis\":{\"gridcolor\":\"#EBF0F8\",\"linecolor\":\"#EBF0F8\",\"ticks\":\"\"}},\"scene\":{\"xaxis\":{\"backgroundcolor\":\"white\",\"gridcolor\":\"#DFE8F3\",\"gridwidth\":2,\"linecolor\":\"#EBF0F8\",\"showbackground\":true,\"ticks\":\"\",\"zerolinecolor\":\"#EBF0F8\"},\"yaxis\":{\"backgroundcolor\":\"white\",\"gridcolor\":\"#DFE8F3\",\"gridwidth\":2,\"linecolor\":\"#EBF0F8\",\"showbackground\":true,\"ticks\":\"\",\"zerolinecolor\":\"#EBF0F8\"},\"zaxis\":{\"backgroundcolor\":\"white\",\"gridcolor\":\"#DFE8F3\",\"gridwidth\":2,\"linecolor\":\"#EBF0F8\",\"showbackground\":true,\"ticks\":\"\",\"zerolinecolor\":\"#EBF0F8\"}},\"shapedefaults\":{\"line\":{\"color\":\"#2a3f5f\"}},\"ternary\":{\"aaxis\":{\"gridcolor\":\"#DFE8F3\",\"linecolor\":\"#A2B1C6\",\"ticks\":\"\"},\"baxis\":{\"gridcolor\":\"#DFE8F3\",\"linecolor\":\"#A2B1C6\",\"ticks\":\"\"},\"bgcolor\":\"white\",\"caxis\":{\"gridcolor\":\"#DFE8F3\",\"linecolor\":\"#A2B1C6\",\"ticks\":\"\"}},\"title\":{\"x\":0.05},\"xaxis\":{\"automargin\":true,\"gridcolor\":\"#EBF0F8\",\"linecolor\":\"#EBF0F8\",\"ticks\":\"\",\"title\":{\"standoff\":15},\"zerolinecolor\":\"#EBF0F8\",\"zerolinewidth\":2},\"yaxis\":{\"automargin\":true,\"gridcolor\":\"#EBF0F8\",\"linecolor\":\"#EBF0F8\",\"ticks\":\"\",\"title\":{\"standoff\":15},\"zerolinecolor\":\"#EBF0F8\",\"zerolinewidth\":2}}},\"xaxis\":{\"anchor\":\"y\",\"domain\":[0.0,1.0],\"title\":{\"text\":\"UMAP 1 (Digestive)\"}},\"yaxis\":{\"anchor\":\"x\",\"domain\":[0.0,1.0],\"title\":{\"text\":\"UMAP 2 (Digestive)\"}},\"legend\":{\"title\":{\"text\":\"highlight\"},\"tracegroupgap\":0},\"title\":{\"text\":\"Interactive Functional Digestive Disorders\"},\"height\":700,\"width\":900},                        {\"responsive\": true}                    ).then(function(){\n",
       "                            \n",
       "var gd = document.getElementById('0b85572d-406f-4402-9122-214370d06bde');\n",
       "var x = new MutationObserver(function (mutations, observer) {{\n",
       "        var display = window.getComputedStyle(gd).display;\n",
       "        if (!display || display === 'none') {{\n",
       "            console.log([gd, 'removed!']);\n",
       "            Plotly.purge(gd);\n",
       "            observer.disconnect();\n",
       "        }}\n",
       "}});\n",
       "\n",
       "// Listen for the removal of the full notebook cells\n",
       "var notebookContainer = gd.closest('#notebook-container');\n",
       "if (notebookContainer) {{\n",
       "    x.observe(notebookContainer, {childList: true});\n",
       "}}\n",
       "\n",
       "// Listen for the clearing of the current output cell\n",
       "var outputEl = gd.closest('.output');\n",
       "if (outputEl) {{\n",
       "    x.observe(outputEl, {childList: true});\n",
       "}}\n",
       "\n",
       "                        })                };                });            </script>        </div>"
      ]
     },
     "metadata": {},
     "output_type": "display_data"
    }
   ],
   "source": [
    "import plotly.express as px\n",
    "\n",
    "# Add a column to differentiate \"Noninfective\" from other categories\n",
    "local_embed_df['highlight'] = local_embed_df['category'] == 'Noninfective'\n",
    "\n",
    "# Create the scatter plot\n",
    "fig = px.scatter(\n",
    "    local_embed_df,\n",
    "    x='UMAP_1',\n",
    "    y='UMAP_2',\n",
    "    color='highlight',  # Highlight \"Noninfective\" points\n",
    "    hover_data={'phenotype': True, 'category': True},  # Show phenotype and category on hover\n",
    "    opacity=0.7,\n",
    "    title=\"Interactive Functional Digestive Disorders\",\n",
    "    color_discrete_map={True: '#FB6D48', False: 'gray'},  # Highlight \"Noninfective\" in orange-red, others in gray\n",
    ")\n",
    "\n",
    "# Customize marker appearance\n",
    "fig.update_traces(\n",
    "    marker=dict(size=7, line=dict(width=1, color='white'))  # Set marker size and add a white border\n",
    ")\n",
    "\n",
    "# Customize layout\n",
    "fig.update_layout(\n",
    "    xaxis_title=\"UMAP 1 (Digestive)\",\n",
    "    yaxis_title=\"UMAP 2 (Digestive)\",\n",
    "    template=\"plotly_white\",  # Clean white background\n",
    "    height=700,  # Plot height\n",
    "    width=900,   # Plot width\n",
    ")\n",
    "\n",
    "# Show the interactive plot\n",
    "fig.show()\n"
   ]
  },
  {
   "cell_type": "code",
   "execution_count": null,
   "id": "62e0241d",
   "metadata": {},
   "outputs": [],
   "source": []
  }
 ],
 "metadata": {
  "kernelspec": {
   "display_name": "Python 3 (ipykernel)",
   "language": "python",
   "name": "python3"
  },
  "language_info": {
   "codemirror_mode": {
    "name": "ipython",
    "version": 3
   },
   "file_extension": ".py",
   "mimetype": "text/x-python",
   "name": "python",
   "nbconvert_exporter": "python",
   "pygments_lexer": "ipython3",
   "version": "3.11.5"
  }
 },
 "nbformat": 4,
 "nbformat_minor": 5
}
