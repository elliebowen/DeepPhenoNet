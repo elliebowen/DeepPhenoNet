{
 "cells": [
  {
   "cell_type": "code",
   "execution_count": 1,
   "id": "2a781b6d",
   "metadata": {},
   "outputs": [],
   "source": [
    "import pandas as pd"
   ]
  },
  {
   "cell_type": "code",
   "execution_count": null,
   "id": "a2d65139",
   "metadata": {},
   "outputs": [],
   "source": [
    "# use a phecode to ICD10 map to convert then find the category of each disease\n",
    "\n",
    "ICD10_phecode_map = str(path)+ 'Phecode_map_v1_2_icd10_beta.csv'\n",
    "\n",
    "ICD_map_df = pd.read_csv(ICD10_phecode_map)\n"
   ]
  },
  {
   "cell_type": "code",
   "execution_count": null,
   "id": "b8826b1c",
   "metadata": {},
   "outputs": [],
   "source": [
    "print(ICD_map_df.columns.values.tolist())\n",
    "print(df.columns.values.tolist())"
   ]
  },
  {
   "cell_type": "code",
   "execution_count": null,
   "id": "68dde9f4",
   "metadata": {},
   "outputs": [],
   "source": [
    "# Assuming your dataframes 'df' and 'ICD_map_df' are already loaded correctly.\n",
    "\n",
    "# Convert the 'code' column in 'df' and 'ICD10' column in 'ICD_map_df' to strings and strip any whitespace\n",
    "df['code'] = df['code'].astype(str).str.strip()\n",
    "ICD_map_df['ICD10'] = ICD_map_df['ICD10'].astype(str).str.strip()\n",
    "\n",
    "# Perform the merge operation\n",
    "df_with_phecodes = df.merge(ICD_map_df[['ICD10', 'PHECODE']], left_on='code', right_on='ICD10', how='left')\n",
    "\n",
    "# Drop the 'ICD10' column from the merged dataframe as it is redundant\n",
    "df_with_phecodes.drop(columns=['ICD10'], inplace=True)\n",
    "\n",
    "# Now, 'df_with_phecodes' will have all the original data from 'df' plus a new 'PHECODE' column corresponding to each 'code'\n"
   ]
  },
  {
   "cell_type": "code",
   "execution_count": null,
   "id": "8f6541cb",
   "metadata": {},
   "outputs": [],
   "source": [
    "# Check for whitespaces\n",
    "df['code'] = df['code'].str.strip()\n",
    "ICD_map_df['ICD10'] = ICD_map_df['ICD10'].str.strip()\n",
    "\n",
    "# Check for case sensitivity\n",
    "df['code'] = df['code'].str.upper()  # or .str.lower()\n",
    "ICD_map_df['ICD10'] = ICD_map_df['ICD10'].str.upper()  # or .str.lower()\n",
    "\n",
    "# Check for special characters\n",
    "df['code'] = df['code'].str.replace('[^a-zA-Z0-9]', '', regex=True)\n",
    "ICD_map_df['ICD10'] = ICD_map_df['ICD10'].str.replace('[^a-zA-Z0-9]', '', regex=True)\n",
    "\n"
   ]
  },
  {
   "cell_type": "code",
   "execution_count": null,
   "id": "57cc8932",
   "metadata": {},
   "outputs": [],
   "source": [
    "# Compare code lengths\n",
    "df['code_length'] = df['code'].str.len()\n",
    "ICD_map_df['ICD10_length'] = ICD_map_df['ICD10'].str.len()\n",
    "\n",
    "print(df['code_length'])\n",
    "print(ICD_map_df['ICD10_length'])"
   ]
  },
  {
   "cell_type": "code",
   "execution_count": null,
   "id": "48903048",
   "metadata": {},
   "outputs": [],
   "source": [
    "# Compare datatypes\n",
    "print(df['code'].dtype)\n",
    "print(ICD_map_df['ICD10'].dtype)\n"
   ]
  },
  {
   "cell_type": "code",
   "execution_count": null,
   "id": "4858e3e3",
   "metadata": {},
   "outputs": [],
   "source": [
    "# Check a random sample from each dataframe\n",
    "print(df['code'].sample(10))\n",
    "print(ICD_map_df['ICD10'].sample(10))\n"
   ]
  },
  {
   "cell_type": "code",
   "execution_count": null,
   "id": "b010e981",
   "metadata": {},
   "outputs": [],
   "source": [
    "ICD_map_df['ICD10']"
   ]
  },
  {
   "cell_type": "code",
   "execution_count": null,
   "id": "23f82952",
   "metadata": {},
   "outputs": [],
   "source": [
    "df['code']"
   ]
  }
 ],
 "metadata": {
  "kernelspec": {
   "display_name": "Python 3 (ipykernel)",
   "language": "python",
   "name": "python3"
  },
  "language_info": {
   "codemirror_mode": {
    "name": "ipython",
    "version": 3
   },
   "file_extension": ".py",
   "mimetype": "text/x-python",
   "name": "python",
   "nbconvert_exporter": "python",
   "pygments_lexer": "ipython3",
   "version": "3.11.5"
  }
 },
 "nbformat": 4,
 "nbformat_minor": 5
}
